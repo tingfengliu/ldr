{
 "cells": [
  {
   "cell_type": "markdown",
   "metadata": {},
   "source": [
    "1. jugs: /dʒʌɡ/, (有柄有嘴的)壶, 夜壶(骂人)\n",
    "1. snitch: [snɪtʃ], vi. 告密\n",
    "1. chop: [tʃɒp], n. 砍;排骨;商标;削球\n",
    "1. junkie: ['dʒʌŋkɪ], n.有毒瘾者\n",
    "1. shut the fuckup: 闭嘴  \n",
    "1. dead soul: 灵魂已死  \n",
    "1. "
   ]
  },
  {
   "cell_type": "code",
   "execution_count": 2,
   "metadata": {},
   "outputs": [
    {
     "name": "stdout",
     "output_type": "stream",
     "text": [
      "lisp: [lɪsp]\n",
      "n. 口齿不清;咬舌发音\n",
      "vi. 咬舌讲话;说话口齿不清\n",
      "vt. 咬着舌说;口齿不清地说\n"
     ]
    }
   ],
   "source": [
    "youdao(\"lisp\")"
   ]
  },
  {
   "cell_type": "markdown",
   "metadata": {},
   "source": [
    "** The favorite: 宠儿 **\n",
    "\n",
    "This mud stinks: 泥巴真臭  \n",
    "Clean yourself up: 把你自己打扫干净  \n",
    "You're such a child: 你太孩子气了  \n",
    "lisp: [lɪsp], nv. 口齿不清"
   ]
  },
  {
   "cell_type": "markdown",
   "metadata": {},
   "source": [
    "**泰坦尼克号**  \n",
    "1. No one who cared: 没人关心  \n",
    "1. This is absurd: 这荒谬  \n",
    "1. "
   ]
  },
  {
   "cell_type": "code",
   "execution_count": 5,
   "metadata": {},
   "outputs": [
    {
     "name": "stdout",
     "output_type": "stream",
     "text": [
      "door frame: ['dɔ:freim]\n",
      "门框;鸡翅木\n"
     ]
    }
   ],
   "source": [
    "youdao(\"door frame\")"
   ]
  },
  {
   "cell_type": "markdown",
   "metadata": {},
   "source": []
  },
  {
   "cell_type": "markdown",
   "metadata": {},
   "source": []
  },
  {
   "cell_type": "markdown",
   "metadata": {},
   "source": []
  },
  {
   "cell_type": "markdown",
   "metadata": {},
   "source": []
  },
  {
   "cell_type": "markdown",
   "metadata": {},
   "source": []
  },
  {
   "cell_type": "markdown",
   "metadata": {},
   "source": []
  },
  {
   "cell_type": "markdown",
   "metadata": {},
   "source": []
  },
  {
   "cell_type": "markdown",
   "metadata": {},
   "source": []
  },
  {
   "cell_type": "markdown",
   "metadata": {},
   "source": []
  },
  {
   "cell_type": "markdown",
   "metadata": {},
   "source": []
  }
 ],
 "metadata": {
  "kernelspec": {
   "display_name": "Python 3",
   "language": "python",
   "name": "python3"
  },
  "language_info": {
   "codemirror_mode": {
    "name": "ipython",
    "version": 3
   },
   "file_extension": ".py",
   "mimetype": "text/x-python",
   "name": "python",
   "nbconvert_exporter": "python",
   "pygments_lexer": "ipython3",
   "version": "3.6.5"
  },
  "toc": {
   "base_numbering": 1,
   "nav_menu": {},
   "number_sections": true,
   "sideBar": true,
   "skip_h1_title": false,
   "title_cell": "Table of Contents",
   "title_sidebar": "Contents",
   "toc_cell": false,
   "toc_position": {},
   "toc_section_display": true,
   "toc_window_display": false
  },
  "varInspector": {
   "cols": {
    "lenName": 16,
    "lenType": 16,
    "lenVar": 40
   },
   "kernels_config": {
    "python": {
     "delete_cmd_postfix": "",
     "delete_cmd_prefix": "del ",
     "library": "var_list.py",
     "varRefreshCmd": "print(var_dic_list())"
    },
    "r": {
     "delete_cmd_postfix": ") ",
     "delete_cmd_prefix": "rm(",
     "library": "var_list.r",
     "varRefreshCmd": "cat(var_dic_list()) "
    }
   },
   "types_to_exclude": [
    "module",
    "function",
    "builtin_function_or_method",
    "instance",
    "_Feature"
   ],
   "window_display": false
  }
 },
 "nbformat": 4,
 "nbformat_minor": 2
}
