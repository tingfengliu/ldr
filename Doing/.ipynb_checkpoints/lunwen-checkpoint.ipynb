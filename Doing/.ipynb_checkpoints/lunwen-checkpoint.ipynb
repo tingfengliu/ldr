{
 "cells": [
  {
   "cell_type": "markdown",
   "metadata": {},
   "source": [
    "# 绪论  "
   ]
  },
  {
   "cell_type": "markdown",
   "metadata": {},
   "source": [
    "## 研究背景"
   ]
  },
  {
   "cell_type": "markdown",
   "metadata": {},
   "source": [
    "## Li电池简介"
   ]
  },
  {
   "cell_type": "markdown",
   "metadata": {},
   "source": [
    "## 二维材料简介"
   ]
  },
  {
   "cell_type": "markdown",
   "metadata": {},
   "source": [
    "## 材料学软件的发展"
   ]
  },
  {
   "cell_type": "markdown",
   "metadata": {},
   "source": [
    "# 材料模拟的理论基础 "
   ]
  },
  {
   "cell_type": "markdown",
   "metadata": {},
   "source": [
    "量子理论创始人:  "
   ]
  },
  {
   "cell_type": "markdown",
   "metadata": {},
   "source": [
    "量子化学理论家:\n"
   ]
  },
  {
   "cell_type": "markdown",
   "metadata": {},
   "source": [
    "## 电子结构理论的发展"
   ]
  },
  {
   "cell_type": "markdown",
   "metadata": {},
   "source": []
  },
  {
   "cell_type": "markdown",
   "metadata": {},
   "source": [
    "量子化学的发展http://www.quantum-chemistry-history.com/Ueberb1.htm#Found"
   ]
  },
  {
   "cell_type": "markdown",
   "metadata": {},
   "source": [
    "1. 定性\n",
    "1. 定量\n",
    "1. 应用"
   ]
  },
  {
   "cell_type": "markdown",
   "metadata": {},
   "source": [
    "## 密度泛函理论"
   ]
  },
  {
   "cell_type": "markdown",
   "metadata": {},
   "source": [
    "1. 绿色书\n",
    "1. 近期发展"
   ]
  },
  {
   "cell_type": "markdown",
   "metadata": {},
   "source": [
    "## 机器学习"
   ]
  },
  {
   "cell_type": "markdown",
   "metadata": {},
   "source": [
    "# python在计算化学领域中的应用"
   ]
  },
  {
   "cell_type": "markdown",
   "metadata": {},
   "source": [
    "> |Python工具|简介|\n",
    "|:|:|\n",
    "|amp| 旨在将机器学习轻松地纳入原子计算是一个开源软件包.|\n",
    "|ase| 与原子模拟环境环境相关的工具集.|\n",
    "|chemview| 专为Jupyter Notebook设计的交互式分子查看器.|\n",
    "|ChemSpiPy| ChemSpider的包装器, 进行化学数据检索.|\n",
    "|deepchem| 药物发现和量子化学的深度学习模型.|\n",
    "|mendeleev| 以Python化的方式访问元素周期表中元素的各种属性.|\n",
    "|phonopy| 采用简谐近似或准简谐近似的声子计算包.|\n",
    "|pyvib2| 用于分析振动和振动光谱的程序.|\n",
    "|PLAMS| 用于自动化分子模拟的Python库.|\n",
    "|pybel| OpenBabel的Python接口, 进行各种化学文件的相互转换.|\n",
    "|pymatgen| 分析模拟结果的工具集, 集成了Materials Project的接口.|\n",
    "|PyMOL| 由Schrödinger用户赞助的开源分子可视化系统.|\n",
    "|pyscf| 用Python编写的量子化学包.|\n",
    "|PyQuante| 一个开发量子化学方法的开源程序套件.|\n",
    "|QUIP| 用于进行分子动力学模拟的软件工具集合.|\n",
    "\n",
    "> figurex.列出了Python在化学或计算化学领域中常见的一些项目, 其更多的项目列表可在GitHub库`awesome-python-chemistry`中查看[x]. 按用途可大致可以分为以下几类: 普通化学(mendeleev), 化学信息学(pybel), 分子可视化(PyMOL), 化学模拟(ase,pymatgen), 数据库包装器(ChemSpiPy)等. "
   ]
  },
  {
   "cell_type": "markdown",
   "metadata": {},
   "source": [
    "## Python简介"
   ]
  },
  {
   "cell_type": "markdown",
   "metadata": {},
   "source": [
    "对于涉及量化的科研工作者而言, 学习并掌握一门适合自己领域的程序语言至关重要. 因为程序的运用可极大的简化我们对数据的操作, 甚至影响我们看待问题的方式--能否以一种批量化的方式自动处理琐粹而易错的计算任务? 这亦与我们试图通过某些实验现象归纳实验规律的科研过程是不谋而合的. 现阶段, 中国高校通用的程序教学语言(非计算机专业)是C语言,MATLAB等, 但是C语言是一种'繁琐而令人生畏'的语言, 而MATLAB是一门价格昂贵的商业程序. 除了C语言和MATLAB, 仍有许多程序语言可供我们学习, 如C++, Java, Visual Basic, R等, 但无一例外的是这些语言设计的专业性太强或者并不适合我们的领域."
   ]
  },
  {
   "cell_type": "markdown",
   "metadata": {},
   "source": [
    "Python是一种面向对象的程序语言, 具有简单, 开源, 规范, 可扩展性强, 库丰富等特点, 无论其诞生之初的愿景如何, Python显然已成为各行各业从业人员学习一门程序语言的首选. Table 1是Python在化学或计算化学领域常见的一些项目. 当然Python也有缺点, 如在运行速度方面远远的落后与C语言, 但是一般的用户并不会有明显的感觉, 并且Python的很多模块都用C语言进行了优化(如Numpy).   "
   ]
  },
  {
   "cell_type": "markdown",
   "metadata": {},
   "source": [
    "Python的简单性可在与C语言的对比中说明. 比如现有一个问题, 计算线性代数中常见的矩阵乘法(AB). 如果要使用C语言实现的话, 可能必须使用循环, 同时遍历矩阵A的行和矩阵B的列, 然后将对应元素求和后放入输出矩阵C中由A的行号和B的列号同时决定的指定位置, 如此循环, 计算完C的所有元素.  更要命的是在C语言的循环中很可能会涉及到指针的操作, 而对于指针的操作, 即时是在计算机专业的初学者看来也是一道难以跨越的门槛. 而如果使用Python的话, 问题变得豁然开朗, Python有太多的库涉及矩阵的这一操作, 早已将其包装成了某个函数(例如Numpy或Scipy中的dot函数), 而我们要所做的仅仅是知道该函数的位置并了解其参数. Python的流形使得我们面临的\"任何问题\"很可能早已被别人解决, 而Python这个平台则为我们提供了现成的实现方案, 即使某个问题未在这个平台上解决, 我们仍可以从该平台搜寻到用之无尽的\"方案原型\", 在此基础上实现自己的想法将变得极其简单."
   ]
  },
  {
   "cell_type": "markdown",
   "metadata": {},
   "source": [
    "Python的开源性体现无需为任何开源软件支付任何费用, 因为这些软件并不是由商业公司开发, 而是由各个开源社区的人一起创建, 希望每个人都贡献自己的一份力量并服务于所有人. 开源运动起源于Linux的成长和发展, 其目的在于开放源代码, 追求信息的自由和共享. Python开源并不意味着与Python相关的软件都是开源的, 如Python的的集成开发环境PyCharm便是一个商业软件, 这是因为它不仅提供了Python的基本功能, 还提供了非Python的商业公司参入开发的功能, 可以方便代码的调试, 重构,测试等. 作为一般的用户, 我们无需使用商业软件, 因为某种商业软件都有其可替代的开源软件, 甚至某些商业软件也提供了其功能较为单一的开源版本. 开软项目的资金一般来源于开源社区的捐赠."
   ]
  },
  {
   "cell_type": "markdown",
   "metadata": {},
   "source": [
    "Python中规范包括强制性规范和非强制性规范, 这与Python的优雅性和简单性是密切相关的. 由于在C语言中代码缩进((语句前的空格数一致)是一种非强制性规范, 因此一段逻辑完全相同的代码在不同的程序员手下, 可以有不同的外观. 但是程序语言是给人看的, 而不是给机器(汇编语言)看的, 所以在Python中, 代码缩进变成了一种强制性规范, 要求逻辑一致的代码段必须具有一致的缩进, 因此可以保证逻辑一致的代码具有相同的外观. Python中最常见的非硬性规范是文档字符串, 文档字符串是包, 模块, 类或函数的第一个语句, 由于注释说明该对象的用途. 一个广为使用的Python模块必定有丰富的文档字符串, 这是我们学习某个模块的第一手资料, 这极大的降低了我们初次接触某个新模块时的困惑."
   ]
  },
  {
   "cell_type": "markdown",
   "metadata": {},
   "source": [
    "Python的可扩展性体现在两个方面. 一方面, 如果某段Python代码的运行速度成了整个程序的瓶颈, 此时不必重写整个程序, 只需把瓶颈处的代码换成C语言代码, 然后嵌入原先的Python程序当中即可. 这种Python+C的组合方式融合了Python易于实现以及C便于运行的双方优点. 另一方面, 非Python编写的流形软件都提供了Python访问程序接口(API), 而通过该接口我们不必掌握其他程序的的语法便可使用Python获取其解决方案. API可以简单的理解为连接Python和非Python之间的一座桥, 从桥的非Python端看, 该端为Python提供了自己所拥有的资源. 但从桥的Python端看, 可以看到无数的桥, 这使得Python API又好像一个\"杠杆\", 通过Python获取无数个桥背后的无尽的资源."
   ]
  },
  {
   "cell_type": "markdown",
   "metadata": {},
   "source": [
    "Python的库丰富性可从站点PyPI(Python包索引网站)查看, 其包含了与各行各业从业人员相关的近20万个python项目, 并且仍在不断发展当中. Python中关于科学计算和可视化的基础库有Numpy, Scipy, Matplotlib, Sympy, Pandas, Scikit Learn, Jupyter Notebook等. 其中, Numpy提供了多维数组操作和随机数生成的功能; Scipy提供了线性代数计算,统计分析和稀疏矩阵的功能; Matplotlib提供了二维或三维数据可视化功能; Pands提供了类似类Excel的数据表操作等功能; Scikit Learn则是一个关于及其学习的开源项目; Jupyter Notebook则是一个基于各种程序语言内核的文档式网页\"开发环境\"."
   ]
  },
  {
   "cell_type": "code",
   "execution_count": 17,
   "metadata": {},
   "outputs": [
    {
     "name": "stdout",
     "output_type": "stream",
     "text": [
      ">>>>>>>>>>>>>>>>>>>>>>>>>>>>>>>>>>>>>>>!kk1:active>>>>>>>>>>>>>>>>>>>>>>>>>>>>>>>>>>>>>>>>\n"
     ]
    }
   ],
   "source": [
    "kk 1"
   ]
  },
  {
   "cell_type": "markdown",
   "metadata": {},
   "source": [
    "## Python学习"
   ]
  },
  {
   "cell_type": "code",
   "execution_count": 17,
   "metadata": {},
   "outputs": [
    {
     "data": {
      "image/svg+xml": [
       "<?xml version=\"1.0\" encoding=\"UTF-8\" standalone=\"no\"?>\r\n",
       "<!DOCTYPE svg PUBLIC \"-//W3C//DTD SVG 1.1//EN\"\r\n",
       " \"http://www.w3.org/Graphics/SVG/1.1/DTD/svg11.dtd\">\r\n",
       "<!-- Generated by graphviz version 2.38.0 (20140413.2041)\r\n",
       " -->\r\n",
       "<!-- Title: python_tree Pages: 1 -->\r\n",
       "<svg width=\"556pt\" height=\"355pt\"\r\n",
       " viewBox=\"0.00 0.00 555.59 355.00\" xmlns=\"http://www.w3.org/2000/svg\" xmlns:xlink=\"http://www.w3.org/1999/xlink\">\r\n",
       "<g id=\"graph0\" class=\"graph\" transform=\"scale(1 1) rotate(0) translate(4 351)\">\r\n",
       "<title>python_tree</title>\r\n",
       "<polygon fill=\"white\" stroke=\"none\" points=\"-4,4 -4,-351 551.588,-351 551.588,4 -4,4\"/>\r\n",
       "<text text-anchor=\"middle\" x=\"273.794\" y=\"-7.8\" font-family=\"Times New Roman,serif\" font-size=\"14.00\"> </text>\r\n",
       "<!-- Python -->\r\n",
       "<g id=\"node1\" class=\"node\"><title>Python</title>\r\n",
       "<ellipse fill=\"none\" stroke=\"black\" cx=\"220.697\" cy=\"-329\" rx=\"36.2938\" ry=\"18\"/>\r\n",
       "<text text-anchor=\"middle\" x=\"220.697\" y=\"-325.3\" font-family=\"Times New Roman,serif\" font-size=\"14.00\">Python</text>\r\n",
       "</g>\r\n",
       "<!-- Numpy -->\r\n",
       "<g id=\"node2\" class=\"node\"><title>Numpy</title>\r\n",
       "<ellipse fill=\"none\" stroke=\"black\" cx=\"37.6967\" cy=\"-257\" rx=\"37.8943\" ry=\"18\"/>\r\n",
       "<text text-anchor=\"middle\" x=\"37.6967\" y=\"-253.3\" font-family=\"Times New Roman,serif\" font-size=\"14.00\">Numpy</text>\r\n",
       "</g>\r\n",
       "<!-- Python&#45;&gt;Numpy -->\r\n",
       "<g id=\"edge1\" class=\"edge\"><title>Python&#45;&gt;Numpy</title>\r\n",
       "<path fill=\"none\" stroke=\"black\" d=\"M192.903,-317.369C161.646,-305.412 110.698,-285.924 75.7574,-272.559\"/>\r\n",
       "<polygon fill=\"black\" stroke=\"black\" points=\"76.9469,-269.266 66.3564,-268.963 74.446,-275.805 76.9469,-269.266\"/>\r\n",
       "</g>\r\n",
       "<!-- Scipy -->\r\n",
       "<g id=\"node3\" class=\"node\"><title>Scipy</title>\r\n",
       "<ellipse fill=\"none\" stroke=\"black\" cx=\"125.697\" cy=\"-257\" rx=\"31.6951\" ry=\"18\"/>\r\n",
       "<text text-anchor=\"middle\" x=\"125.697\" y=\"-253.3\" font-family=\"Times New Roman,serif\" font-size=\"14.00\">Scipy</text>\r\n",
       "</g>\r\n",
       "<!-- Python&#45;&gt;Scipy -->\r\n",
       "<g id=\"edge2\" class=\"edge\"><title>Python&#45;&gt;Scipy</title>\r\n",
       "<path fill=\"none\" stroke=\"black\" d=\"M201.013,-313.496C186.981,-303.157 167.948,-289.133 152.527,-277.77\"/>\r\n",
       "<polygon fill=\"black\" stroke=\"black\" points=\"154.513,-274.885 144.386,-271.771 150.36,-280.521 154.513,-274.885\"/>\r\n",
       "</g>\r\n",
       "<!-- Medeleev -->\r\n",
       "<g id=\"node4\" class=\"node\"><title>Medeleev</title>\r\n",
       "<ellipse fill=\"none\" stroke=\"black\" cx=\"220.697\" cy=\"-257\" rx=\"45.4919\" ry=\"18\"/>\r\n",
       "<text text-anchor=\"middle\" x=\"220.697\" y=\"-253.3\" font-family=\"Times New Roman,serif\" font-size=\"14.00\">Medeleev</text>\r\n",
       "</g>\r\n",
       "<!-- Python&#45;&gt;Medeleev -->\r\n",
       "<g id=\"edge3\" class=\"edge\"><title>Python&#45;&gt;Medeleev</title>\r\n",
       "<path fill=\"none\" stroke=\"black\" d=\"M220.697,-310.697C220.697,-302.983 220.697,-293.712 220.697,-285.112\"/>\r\n",
       "<polygon fill=\"black\" stroke=\"black\" points=\"224.197,-285.104 220.697,-275.104 217.197,-285.104 224.197,-285.104\"/>\r\n",
       "</g>\r\n",
       "<!-- ASE -->\r\n",
       "<g id=\"node5\" class=\"node\"><title>ASE</title>\r\n",
       "<ellipse fill=\"none\" stroke=\"black\" cx=\"311.697\" cy=\"-257\" rx=\"27.8951\" ry=\"18\"/>\r\n",
       "<text text-anchor=\"middle\" x=\"311.697\" y=\"-253.3\" font-family=\"Times New Roman,serif\" font-size=\"14.00\">ASE</text>\r\n",
       "</g>\r\n",
       "<!-- Python&#45;&gt;ASE -->\r\n",
       "<g id=\"edge4\" class=\"edge\"><title>Python&#45;&gt;ASE</title>\r\n",
       "<path fill=\"none\" stroke=\"black\" d=\"M239.552,-313.496C253.043,-303.118 271.359,-289.029 286.159,-277.644\"/>\r\n",
       "<polygon fill=\"black\" stroke=\"black\" points=\"288.612,-280.173 294.405,-271.302 284.344,-274.625 288.612,-280.173\"/>\r\n",
       "</g>\r\n",
       "<!-- 非Python语言编写的程序 -->\r\n",
       "<g id=\"node6\" class=\"node\"><title>非Python语言编写的程序</title>\r\n",
       "<ellipse fill=\"none\" stroke=\"black\" cx=\"452.697\" cy=\"-257\" rx=\"94.7833\" ry=\"18\"/>\r\n",
       "<text text-anchor=\"middle\" x=\"452.697\" y=\"-253.3\" font-family=\"Times New Roman,serif\" font-size=\"14.00\">非Python语言编写的程序</text>\r\n",
       "</g>\r\n",
       "<!-- Python&#45;&gt;非Python语言编写的程序 -->\r\n",
       "<g id=\"edge5\" class=\"edge\"><title>Python&#45;&gt;非Python语言编写的程序</title>\r\n",
       "<path fill=\"none\" stroke=\"black\" d=\"M251.027,-318.849C287.3,-307.904 348.827,-289.34 394.404,-275.588\"/>\r\n",
       "<polygon fill=\"black\" stroke=\"black\" points=\"395.601,-278.883 404.163,-272.644 393.579,-272.182 395.601,-278.883\"/>\r\n",
       "</g>\r\n",
       "<!-- atoms.py -->\r\n",
       "<g id=\"node7\" class=\"node\"><title>atoms.py</title>\r\n",
       "<ellipse fill=\"none\" stroke=\"black\" cx=\"112.697\" cy=\"-185\" rx=\"44.393\" ry=\"18\"/>\r\n",
       "<text text-anchor=\"middle\" x=\"112.697\" y=\"-181.3\" font-family=\"Times New Roman,serif\" font-size=\"14.00\">atoms.py</text>\r\n",
       "</g>\r\n",
       "<!-- ASE&#45;&gt;atoms.py -->\r\n",
       "<g id=\"edge6\" class=\"edge\"><title>ASE&#45;&gt;atoms.py</title>\r\n",
       "<path fill=\"none\" stroke=\"black\" d=\"M289.963,-245.512C284.992,-243.255 279.699,-240.96 274.697,-239 263.394,-234.571 200.023,-214.045 155.977,-199.877\"/>\r\n",
       "<polygon fill=\"black\" stroke=\"black\" points=\"156.937,-196.509 146.345,-196.781 154.795,-203.173 156.937,-196.509\"/>\r\n",
       "</g>\r\n",
       "<!-- run.py -->\r\n",
       "<g id=\"node8\" class=\"node\"><title>run.py</title>\r\n",
       "<ellipse fill=\"none\" stroke=\"black\" cx=\"209.697\" cy=\"-185\" rx=\"34.394\" ry=\"18\"/>\r\n",
       "<text text-anchor=\"middle\" x=\"209.697\" y=\"-181.3\" font-family=\"Times New Roman,serif\" font-size=\"14.00\">run.py</text>\r\n",
       "</g>\r\n",
       "<!-- ASE&#45;&gt;run.py -->\r\n",
       "<g id=\"edge7\" class=\"edge\"><title>ASE&#45;&gt;run.py</title>\r\n",
       "<path fill=\"none\" stroke=\"black\" d=\"M292.988,-243.161C277.708,-232.674 255.857,-217.679 238.37,-205.678\"/>\r\n",
       "<polygon fill=\"black\" stroke=\"black\" points=\"239.907,-202.488 229.681,-199.715 235.946,-208.259 239.907,-202.488\"/>\r\n",
       "</g>\r\n",
       "<!-- calculators -->\r\n",
       "<g id=\"node9\" class=\"node\"><title>calculators</title>\r\n",
       "<ellipse fill=\"none\" stroke=\"black\" cx=\"311.697\" cy=\"-185\" rx=\"50.0912\" ry=\"18\"/>\r\n",
       "<text text-anchor=\"middle\" x=\"311.697\" y=\"-181.3\" font-family=\"Times New Roman,serif\" font-size=\"14.00\">calculators</text>\r\n",
       "</g>\r\n",
       "<!-- ASE&#45;&gt;calculators -->\r\n",
       "<g id=\"edge8\" class=\"edge\"><title>ASE&#45;&gt;calculators</title>\r\n",
       "<path fill=\"none\" stroke=\"black\" d=\"M311.697,-238.697C311.697,-230.983 311.697,-221.712 311.697,-213.112\"/>\r\n",
       "<polygon fill=\"black\" stroke=\"black\" points=\"315.197,-213.104 311.697,-203.104 308.197,-213.104 315.197,-213.104\"/>\r\n",
       "</g>\r\n",
       "<!-- build -->\r\n",
       "<g id=\"node10\" class=\"node\"><title>build</title>\r\n",
       "<ellipse fill=\"none\" stroke=\"black\" cx=\"408.697\" cy=\"-185\" rx=\"28.6953\" ry=\"18\"/>\r\n",
       "<text text-anchor=\"middle\" x=\"408.697\" y=\"-181.3\" font-family=\"Times New Roman,serif\" font-size=\"14.00\">build</text>\r\n",
       "</g>\r\n",
       "<!-- ASE&#45;&gt;build -->\r\n",
       "<g id=\"edge9\" class=\"edge\"><title>ASE&#45;&gt;build</title>\r\n",
       "<path fill=\"none\" stroke=\"black\" d=\"M329.942,-242.834C344.709,-232.176 365.708,-217.022 382.309,-205.042\"/>\r\n",
       "<polygon fill=\"black\" stroke=\"black\" points=\"384.473,-207.797 390.534,-199.107 380.376,-202.121 384.473,-207.797\"/>\r\n",
       "</g>\r\n",
       "<!-- visualize -->\r\n",
       "<g id=\"node11\" class=\"node\"><title>visualize</title>\r\n",
       "<ellipse fill=\"none\" stroke=\"black\" cx=\"496.697\" cy=\"-185\" rx=\"40.8928\" ry=\"18\"/>\r\n",
       "<text text-anchor=\"middle\" x=\"496.697\" y=\"-181.3\" font-family=\"Times New Roman,serif\" font-size=\"14.00\">visualize</text>\r\n",
       "</g>\r\n",
       "<!-- ASE&#45;&gt;visualize -->\r\n",
       "<g id=\"edge10\" class=\"edge\"><title>ASE&#45;&gt;visualize</title>\r\n",
       "<path fill=\"none\" stroke=\"black\" d=\"M333.472,-245.615C338.44,-243.352 343.722,-241.029 348.697,-239 368.389,-230.968 418.955,-213.073 455.507,-200.3\"/>\r\n",
       "<polygon fill=\"black\" stroke=\"black\" points=\"457.118,-203.445 465.407,-196.846 454.812,-196.836 457.118,-203.445\"/>\r\n",
       "</g>\r\n",
       "<!-- abinit.py -->\r\n",
       "<g id=\"node12\" class=\"node\"><title>abinit.py</title>\r\n",
       "<ellipse fill=\"none\" stroke=\"black\" cx=\"123.697\" cy=\"-113\" rx=\"42.4939\" ry=\"18\"/>\r\n",
       "<text text-anchor=\"middle\" x=\"123.697\" y=\"-109.3\" font-family=\"Times New Roman,serif\" font-size=\"14.00\">abinit.py</text>\r\n",
       "</g>\r\n",
       "<!-- calculators&#45;&gt;abinit.py -->\r\n",
       "<g id=\"edge11\" class=\"edge\"><title>calculators&#45;&gt;abinit.py</title>\r\n",
       "<path fill=\"none\" stroke=\"black\" d=\"M278.086,-171.485C246.172,-159.602 198.152,-141.723 164.153,-129.064\"/>\r\n",
       "<polygon fill=\"black\" stroke=\"black\" points=\"165.117,-125.688 154.524,-125.478 162.674,-132.248 165.117,-125.688\"/>\r\n",
       "</g>\r\n",
       "<!-- dmol.py -->\r\n",
       "<g id=\"node13\" class=\"node\"><title>dmol.py</title>\r\n",
       "<ellipse fill=\"none\" stroke=\"black\" cx=\"224.697\" cy=\"-113\" rx=\"40.8928\" ry=\"18\"/>\r\n",
       "<text text-anchor=\"middle\" x=\"224.697\" y=\"-109.3\" font-family=\"Times New Roman,serif\" font-size=\"14.00\">dmol.py</text>\r\n",
       "</g>\r\n",
       "<!-- calculators&#45;&gt;dmol.py -->\r\n",
       "<g id=\"edge12\" class=\"edge\"><title>calculators&#45;&gt;dmol.py</title>\r\n",
       "<path fill=\"none\" stroke=\"black\" d=\"M291.955,-168.116C279.915,-158.429 264.372,-145.923 251.261,-135.374\"/>\r\n",
       "<polygon fill=\"black\" stroke=\"black\" points=\"253.451,-132.643 243.466,-129.101 249.063,-138.097 253.451,-132.643\"/>\r\n",
       "</g>\r\n",
       "<!-- vasp -->\r\n",
       "<g id=\"node14\" class=\"node\"><title>vasp</title>\r\n",
       "<ellipse fill=\"none\" stroke=\"black\" cx=\"311.697\" cy=\"-113\" rx=\"27.8951\" ry=\"18\"/>\r\n",
       "<text text-anchor=\"middle\" x=\"311.697\" y=\"-109.3\" font-family=\"Times New Roman,serif\" font-size=\"14.00\">vasp</text>\r\n",
       "</g>\r\n",
       "<!-- calculators&#45;&gt;vasp -->\r\n",
       "<g id=\"edge13\" class=\"edge\"><title>calculators&#45;&gt;vasp</title>\r\n",
       "<path fill=\"none\" stroke=\"black\" d=\"M311.697,-166.697C311.697,-158.983 311.697,-149.712 311.697,-141.112\"/>\r\n",
       "<polygon fill=\"black\" stroke=\"black\" points=\"315.197,-141.104 311.697,-131.104 308.197,-141.104 315.197,-141.104\"/>\r\n",
       "</g>\r\n",
       "<!-- siesta -->\r\n",
       "<g id=\"node15\" class=\"node\"><title>siesta</title>\r\n",
       "<ellipse fill=\"none\" stroke=\"black\" cx=\"387.697\" cy=\"-113\" rx=\"30.5947\" ry=\"18\"/>\r\n",
       "<text text-anchor=\"middle\" x=\"387.697\" y=\"-109.3\" font-family=\"Times New Roman,serif\" font-size=\"14.00\">siesta</text>\r\n",
       "</g>\r\n",
       "<!-- calculators&#45;&gt;siesta -->\r\n",
       "<g id=\"edge14\" class=\"edge\"><title>calculators&#45;&gt;siesta</title>\r\n",
       "<path fill=\"none\" stroke=\"black\" d=\"M329.324,-167.765C339.798,-158.117 353.205,-145.769 364.528,-135.339\"/>\r\n",
       "<polygon fill=\"black\" stroke=\"black\" points=\"366.988,-137.832 371.972,-128.483 362.246,-132.683 366.988,-137.832\"/>\r\n",
       "</g>\r\n",
       "<!-- jacapo -->\r\n",
       "<g id=\"node16\" class=\"node\"><title>jacapo</title>\r\n",
       "<ellipse fill=\"none\" stroke=\"black\" cx=\"470.697\" cy=\"-113\" rx=\"34.394\" ry=\"18\"/>\r\n",
       "<text text-anchor=\"middle\" x=\"470.697\" y=\"-109.3\" font-family=\"Times New Roman,serif\" font-size=\"14.00\">jacapo</text>\r\n",
       "</g>\r\n",
       "<!-- calculators&#45;&gt;jacapo -->\r\n",
       "<g id=\"edge15\" class=\"edge\"><title>calculators&#45;&gt;jacapo</title>\r\n",
       "<path fill=\"none\" stroke=\"black\" d=\"M341.978,-170.669C368.737,-158.888 407.761,-141.708 435.818,-129.355\"/>\r\n",
       "<polygon fill=\"black\" stroke=\"black\" points=\"437.505,-132.437 445.247,-125.204 434.684,-126.03 437.505,-132.437\"/>\r\n",
       "</g>\r\n",
       "<!-- create_input.py -->\r\n",
       "<g id=\"node17\" class=\"node\"><title>create_input.py</title>\r\n",
       "<ellipse fill=\"none\" stroke=\"black\" cx=\"180.697\" cy=\"-41\" rx=\"66.8882\" ry=\"18\"/>\r\n",
       "<text text-anchor=\"middle\" x=\"180.697\" y=\"-37.3\" font-family=\"Times New Roman,serif\" font-size=\"14.00\">create_input.py</text>\r\n",
       "</g>\r\n",
       "<!-- vasp&#45;&gt;create_input.py -->\r\n",
       "<g id=\"edge16\" class=\"edge\"><title>vasp&#45;&gt;create_input.py</title>\r\n",
       "<path fill=\"none\" stroke=\"black\" d=\"M290.939,-100.908C271.577,-90.5622 242.224,-74.877 218.673,-62.2926\"/>\r\n",
       "<polygon fill=\"black\" stroke=\"black\" points=\"220.107,-59.0907 209.638,-57.4647 216.808,-65.2646 220.107,-59.0907\"/>\r\n",
       "</g>\r\n",
       "<!-- setups.py -->\r\n",
       "<g id=\"node18\" class=\"node\"><title>setups.py</title>\r\n",
       "<ellipse fill=\"none\" stroke=\"black\" cx=\"311.697\" cy=\"-41\" rx=\"46.2923\" ry=\"18\"/>\r\n",
       "<text text-anchor=\"middle\" x=\"311.697\" y=\"-37.3\" font-family=\"Times New Roman,serif\" font-size=\"14.00\">setups.py</text>\r\n",
       "</g>\r\n",
       "<!-- vasp&#45;&gt;setups.py -->\r\n",
       "<g id=\"edge17\" class=\"edge\"><title>vasp&#45;&gt;setups.py</title>\r\n",
       "<path fill=\"none\" stroke=\"black\" d=\"M311.697,-94.6966C311.697,-86.9827 311.697,-77.7125 311.697,-69.1124\"/>\r\n",
       "<polygon fill=\"black\" stroke=\"black\" points=\"315.197,-69.1043 311.697,-59.1043 308.197,-69.1044 315.197,-69.1043\"/>\r\n",
       "</g>\r\n",
       "<!-- vasp.py -->\r\n",
       "<g id=\"node19\" class=\"node\"><title>vasp.py</title>\r\n",
       "<ellipse fill=\"none\" stroke=\"black\" cx=\"415.697\" cy=\"-41\" rx=\"39.7935\" ry=\"18\"/>\r\n",
       "<text text-anchor=\"middle\" x=\"415.697\" y=\"-37.3\" font-family=\"Times New Roman,serif\" font-size=\"14.00\">vasp.py</text>\r\n",
       "</g>\r\n",
       "<!-- vasp&#45;&gt;vasp.py -->\r\n",
       "<g id=\"edge18\" class=\"edge\"><title>vasp&#45;&gt;vasp.py</title>\r\n",
       "<path fill=\"none\" stroke=\"black\" d=\"M330.29,-99.4854C345.754,-89.0765 368.055,-74.0665 385.991,-61.9944\"/>\r\n",
       "<polygon fill=\"black\" stroke=\"black\" points=\"388.054,-64.8245 394.396,-56.3371 384.146,-59.0173 388.054,-64.8245\"/>\r\n",
       "</g>\r\n",
       "</g>\r\n",
       "</svg>\r\n"
      ],
      "text/plain": [
       "<graphviz.files.Source at 0x22f343891d0>"
      ]
     },
     "execution_count": 17,
     "metadata": {},
     "output_type": "execute_result"
    }
   ],
   "source": [
    "dot2graph(\"data/python_tree.dot\")"
   ]
  },
  {
   "cell_type": "markdown",
   "metadata": {},
   "source": [
    ">* 能否让非Python与Python并齐, 且之间使用虚线双箭头连接\n",
    "* 添加由模块指向(类,函数和属性)的箭头\n",
    "* 美化, 添加颜色"
   ]
  },
  {
   "cell_type": "markdown",
   "metadata": {},
   "source": [
    "虽然Python是一门门槛较低的程序语言, 但是在Python的学习过程中还是会遇到各种各样的困难, 尤其是对于未接触过编程的人而言. 因此, 只用掌握一定的方法才能在Python学习和应用过程中取寻找问题的解决方案. 以下内容是本人在学习Python的过程中总结出来的经验. 图1是Python的结构."
   ]
  },
  {
   "cell_type": "code",
   "execution_count": 16,
   "metadata": {},
   "outputs": [],
   "source": []
  },
  {
   "cell_type": "markdown",
   "metadata": {},
   "source": [
    "Python是一门面向对象的程序设计语言, 在整个语言当中, 对象这一概念贯穿始终. 可以将对象简单的认为是Python中所有有名字的变量, 不管是模块,类,函数(方法), 还是普通的变量都可以当做是对象. Python中的对象既是现实世界万物的抽象(问题中概念的抽象), 又是计算机内存中占有的一段数据. 对象有时专指类的实例化对象, 类为其对象定义一系列与其相关的操作, 即函数或方法, 定义了其描述性信息, 即属性或特性."
   ]
  },
  {
   "cell_type": "markdown",
   "metadata": {},
   "source": [
    "Python作为一种程序语言, 需要特定的解释器才能执行, 而Python解释器一般嵌入在Python开发环境当中, 其除了具有解释代码的功能外, 还会提供调试, 定义跳转等功能, 其中最常见的是有: Python官网提供的IDLE, 轻便但功能较为单一; 可通过U盘在Windows系统之间移植的WinPython, 只能在Windows下使用; 功能十分齐全但是专业版价格较贵的PyChem; 开源, 且在科研领域十分流行的Anaconda; \n",
    "Anaconda的安装程序提供了很多基础包, 可以在隔离系统中免去后续安装的繁琐, 还提供了Jupyter notebook和 IPython(Anaconda的内嵌的解释器), 以及类似于Matlab的程序界面Spyder. 而IPython是一种十分友好的交互式Python shell, 可以使我们非常方便的学习和使用Python, 其最有用途的特征有: 使用对象后的单问号`?`查询Python函数的文档字符串, 使用双`??`查看其源代码, 提供了用户对内核配置的魔法命令, 以及在Ipython内可以直接访问系统命令."
   ]
  },
  {
   "cell_type": "code",
   "execution_count": null,
   "metadata": {},
   "outputs": [],
   "source": []
  },
  {
   "cell_type": "markdown",
   "metadata": {},
   "source": [
    "普通化学类中的典型代表是mendeleev(门捷列夫), 该包提供了一个API(程序访问接口), 可用于访问元素周期表中元素(或离子,同位素)的各种属性, 此外它还提供了创建和可视化元素周期表的功能. "
   ]
  },
  {
   "cell_type": "code",
   "execution_count": 15,
   "metadata": {},
   "outputs": [
    {
     "name": "stdout",
     "output_type": "stream",
     "text": [
      "全面的清单\n"
     ]
    }
   ],
   "source": [
    "ggtrans(\"\"\"\n",
    "A comprehensive list\n",
    "\"\"\")"
   ]
  },
  {
   "cell_type": "markdown",
   "metadata": {},
   "source": [
    "Python包的结构同目录与文件的层次关系类似, 该图使用dot语言绘制[]:  \n",
    "把Python放置在根节点, 其下的第一层包是可在PyPI上下载的包, 可称为集成包.   \n",
    "集成包ASE之下的层次中, 以`.py`结尾的文件是模块, 不以`.py`结尾的目录是功能不同的包.  "
   ]
  },
  {
   "cell_type": "markdown",
   "metadata": {},
   "source": [
    "> 引用官方网站?"
   ]
  },
  {
   "cell_type": "markdown",
   "metadata": {},
   "source": [
    "如何学习Python;  \n",
    "基本概念: 对象, 模块, 包, 类, 函数, 方法, 属性, 特性\n",
    "* 变量, 列表, 字典, 字符串, 迭代, 切片, 索引"
   ]
  },
  {
   "cell_type": "markdown",
   "metadata": {},
   "source": [
    "内嵌函数和内置类型"
   ]
  },
  {
   "cell_type": "markdown",
   "metadata": {},
   "source": [
    "包是整体功能的组织形式, 而模块则是功能的实现细节.   \n",
    "模块一般定义了实现某种功能的类,方法(函数),属性(特性),和常量, 以及对这些功能的说明文档, 概要的说, 模块是是底层代码和说明文档的集合.  \n",
    "每个模块自带的说明文档, 是我们学习Python某个函数的第一手资料, 解释器Ipython的功能强大之处就在于可以使用?或??自动呈现说明文档, 如果我们忘记了某个对象方法, 我们可以使用内嵌函数输出所有的方法, 或者使用 dir()的高级形式dir2()实现带通配符的索引, 配合魔法命令 %col 可以美化其输出, 见附录code22."
   ]
  },
  {
   "cell_type": "markdown",
   "metadata": {},
   "source": []
  },
  {
   "cell_type": "code",
   "execution_count": null,
   "metadata": {},
   "outputs": [],
   "source": [
    "import ase.build "
   ]
  },
  {
   "cell_type": "code",
   "execution_count": 53,
   "metadata": {},
   "outputs": [
    {
     "data": {
      "text/plain": [
       "['fcc100', 'fcc110', 'fcc111', 'fcc111_root', 'fcc211']"
      ]
     },
     "execution_count": 53,
     "metadata": {},
     "output_type": "execute_result"
    }
   ],
   "source": [
    "dir2(ase.build,patterns=['fcc*'])"
   ]
  },
  {
   "cell_type": "code",
   "execution_count": 54,
   "metadata": {},
   "outputs": [],
   "source": [
    "from ase.build import mx2"
   ]
  },
  {
   "cell_type": "markdown",
   "metadata": {},
   "source": [
    "> 附录codex显示了本文所用TMDs结构的生成脚本"
   ]
  },
  {
   "cell_type": "code",
   "execution_count": 55,
   "metadata": {},
   "outputs": [],
   "source": [
    "mx2?"
   ]
  },
  {
   "cell_type": "markdown",
   "metadata": {},
   "source": []
  },
  {
   "cell_type": "markdown",
   "metadata": {},
   "source": [
    "Python是一种面向对象的程序设计语言, 可以将对象简单的认为是世界万物的抽象, 不管该\"物\"是有形的还是无形的, 在Python中只要有有定义的名字都是对象, 对象可以是函数,也可以是类,也可以是模块"
   ]
  },
  {
   "cell_type": "markdown",
   "metadata": {},
   "source": [
    "可以将繁琐的任务进行批量化处理\n",
    "简单易学,体现在无论你是第一次接触编程还是具有其他程序语言包的编程基础, 你都可以通过"
   ]
  },
  {
   "cell_type": "markdown",
   "metadata": {},
   "source": [
    "## 与化学信息学相关的包"
   ]
  },
  {
   "cell_type": "markdown",
   "metadata": {},
   "source": [
    "openbabel: pybal  \n",
    "mendeleev: 访问元素周期表中元素的各种性质, ==> 简单的数据集? 机器学习模型的演示  \n"
   ]
  },
  {
   "cell_type": "markdown",
   "metadata": {},
   "source": [
    "一些小函数:  \n",
    "dir2, %col, ggtrans, 原子径向分布, 角度分布, "
   ]
  },
  {
   "cell_type": "code",
   "execution_count": 21,
   "metadata": {},
   "outputs": [],
   "source": [
    "import mendeleev"
   ]
  },
  {
   "cell_type": "code",
   "execution_count": 28,
   "metadata": {},
   "outputs": [
    {
     "name": "stdout",
     "output_type": "stream",
     "text": [
      "C:\\Users\\tfliu\\Anaconda3\\lib\\site-packages\\mendeleev"
     ]
    }
   ],
   "source": [
    "module_location(mendeleev)"
   ]
  },
  {
   "cell_type": "code",
   "execution_count": 29,
   "metadata": {},
   "outputs": [],
   "source": [
    "!code C:\\Users\\tfliu\\Anaconda3\\lib\\site-packages\\mendeleev"
   ]
  },
  {
   "cell_type": "code",
   "execution_count": 11,
   "metadata": {
    "scrolled": false
   },
   "outputs": [],
   "source": [
    "# help(mendeleev)"
   ]
  },
  {
   "cell_type": "markdown",
   "metadata": {},
   "source": [
    "## 与计算化学相关的包"
   ]
  },
  {
   "cell_type": "markdown",
   "metadata": {},
   "source": [
    ": ase and pymatgen"
   ]
  },
  {
   "cell_type": "markdown",
   "metadata": {},
   "source": [
    "ase: \n",
    "晶格常数的确定:  \n",
    "VAsp参数IS.或6-7个点\n",
    "ase: 状态方程\n",
    "pymatgen"
   ]
  },
  {
   "cell_type": "markdown",
   "metadata": {},
   "source": [
    "## 与机器学习相关的包"
   ]
  },
  {
   "cell_type": "markdown",
   "metadata": {},
   "source": [
    "sklearn"
   ]
  },
  {
   "cell_type": "markdown",
   "metadata": {},
   "source": [
    "# Li-S电池的"
   ]
  },
  {
   "cell_type": "markdown",
   "metadata": {},
   "source": [
    "确定结构的晶格常数:  \n",
    "6-7个计算即可: \n",
    "* 一般间隔然后计算能量,  \n",
    "* 状态方程拟合\n",
    "* Vasp参数控制"
   ]
  },
  {
   "cell_type": "markdown",
   "metadata": {},
   "source": [
    "# Li离子在 TMDs上的吸附 "
   ]
  },
  {
   "cell_type": "markdown",
   "metadata": {},
   "source": []
  },
  {
   "cell_type": "markdown",
   "metadata": {},
   "source": [
    "# 总结和展望"
   ]
  },
  {
   "cell_type": "markdown",
   "metadata": {},
   "source": []
  },
  {
   "cell_type": "markdown",
   "metadata": {},
   "source": []
  }
 ],
 "metadata": {
  "kernelspec": {
   "display_name": "Python 3",
   "language": "python",
   "name": "python3"
  },
  "language_info": {
   "codemirror_mode": {
    "name": "ipython",
    "version": 3
   },
   "file_extension": ".py",
   "mimetype": "text/x-python",
   "name": "python",
   "nbconvert_exporter": "python",
   "pygments_lexer": "ipython3",
   "version": "3.6.5"
  },
  "toc": {
   "base_numbering": 1,
   "nav_menu": {},
   "number_sections": true,
   "sideBar": true,
   "skip_h1_title": false,
   "title_cell": "Table of Contents",
   "title_sidebar": "Contents",
   "toc_cell": false,
   "toc_position": {},
   "toc_section_display": true,
   "toc_window_display": false
  },
  "varInspector": {
   "cols": {
    "lenName": 16,
    "lenType": 16,
    "lenVar": 40
   },
   "kernels_config": {
    "python": {
     "delete_cmd_postfix": "",
     "delete_cmd_prefix": "del ",
     "library": "var_list.py",
     "varRefreshCmd": "print(var_dic_list())"
    },
    "r": {
     "delete_cmd_postfix": ") ",
     "delete_cmd_prefix": "rm(",
     "library": "var_list.r",
     "varRefreshCmd": "cat(var_dic_list()) "
    }
   },
   "types_to_exclude": [
    "module",
    "function",
    "builtin_function_or_method",
    "instance",
    "_Feature"
   ],
   "window_display": false
  }
 },
 "nbformat": 4,
 "nbformat_minor": 2
}
