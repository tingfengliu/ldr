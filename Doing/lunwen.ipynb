{
 "cells": [
  {
   "cell_type": "markdown",
   "metadata": {},
   "source": [
    "# 绪论  "
   ]
  },
  {
   "cell_type": "markdown",
   "metadata": {},
   "source": [
    "## 研究背景"
   ]
  },
  {
   "cell_type": "markdown",
   "metadata": {},
   "source": [
    "## Li电池简介"
   ]
  },
  {
   "cell_type": "markdown",
   "metadata": {},
   "source": [
    "## 二维材料简介"
   ]
  },
  {
   "cell_type": "markdown",
   "metadata": {},
   "source": [
    "## 材料学软件的发展"
   ]
  },
  {
   "cell_type": "markdown",
   "metadata": {},
   "source": [
    "# 材料模拟的理论基础 "
   ]
  },
  {
   "cell_type": "markdown",
   "metadata": {},
   "source": [
    "量子理论创始人:  "
   ]
  },
  {
   "cell_type": "markdown",
   "metadata": {},
   "source": [
    "量子化学理论家:\n"
   ]
  },
  {
   "cell_type": "markdown",
   "metadata": {},
   "source": [
    "## 电子结构理论的发展"
   ]
  },
  {
   "cell_type": "markdown",
   "metadata": {},
   "source": []
  },
  {
   "cell_type": "markdown",
   "metadata": {},
   "source": [
    "量子化学的发展http://www.quantum-chemistry-history.com/Ueberb1.htm#Found"
   ]
  },
  {
   "cell_type": "markdown",
   "metadata": {},
   "source": [
    "1. 定性\n",
    "1. 定量\n",
    "1. 应用"
   ]
  },
  {
   "cell_type": "markdown",
   "metadata": {},
   "source": [
    "## 密度泛函理论"
   ]
  },
  {
   "cell_type": "markdown",
   "metadata": {},
   "source": [
    "1. 绿色书\n",
    "1. 近期发展"
   ]
  },
  {
   "cell_type": "markdown",
   "metadata": {},
   "source": [
    "## 机器学习"
   ]
  },
  {
   "cell_type": "markdown",
   "metadata": {},
   "source": [
    "# python在计算化学领域中的应用"
   ]
  },
  {
   "cell_type": "markdown",
   "metadata": {},
   "source": [
    "> |Python工具|简介|\n",
    "|:|:|\n",
    "|amp| 旨在将机器学习轻松地纳入原子计算是一个开源软件包.|\n",
    "|ase| 与原子模拟环境环境相关的工具集.|\n",
    "|chemview| 专为Jupyter Notebook设计的交互式分子查看器.|\n",
    "|ChemSpiPy| ChemSpider的包装器, 进行化学数据检索.|\n",
    "|deepchem| 药物发现和量子化学的深度学习模型.|\n",
    "|mendeleev| 以Python化的方式访问元素周期表中元素的各种属性.|\n",
    "|phonopy| 采用简谐近似或准简谐近似的声子计算包.|\n",
    "|pyvib2| 用于分析振动和振动光谱的程序.|\n",
    "|PLAMS| 用于自动化分子模拟的Python库.|\n",
    "|pybel| OpenBabel的Python接口, 进行各种化学文件的相互转换.|\n",
    "|pymatgen| 分析模拟结果的工具集, 集成了Materials Project的接口.|\n",
    "|PyMOL| 由Schrödinger用户赞助的开源分子可视化系统.|\n",
    "|pyscf| 用Python编写的量子化学包.|\n",
    "|PyQuante| 一个开发量子化学方法的开源程序套件.|\n",
    "|QUIP| 用于进行分子动力学模拟的软件工具集合.|\n",
    "\n",
    "> figurex.列出了Python在化学或计算化学领域中常见的一些项目, 其更多的项目列表可在GitHub库`awesome-python-chemistry`中查看[x]. 按用途可大致可以分为以下几类: 普通化学(mendeleev), 化学信息学(pybel), 分子可视化(PyMOL), 化学模拟(ase,pymatgen), 数据库包装器(ChemSpiPy)等. "
   ]
  },
  {
   "cell_type": "markdown",
   "metadata": {},
   "source": [
    "## Python简介"
   ]
  },
  {
   "cell_type": "markdown",
   "metadata": {},
   "source": [
    "对于涉及量化的科研工作者而言, 学习并掌握一门适合自己领域的程序语言至关重要. 因为程序的运用可极大的简化我们对数据的操作, 甚至影响我们看待问题的方式--能否以一种批量化的方式自动处理琐粹而易错的计算任务? 这亦与我们试图通过某些实验现象归纳实验规律的科研过程是不谋而合的. 现阶段, 中国高校通用的程序教学语言(非计算机专业)是C语言,MATLAB等, 但是C语言是一种'繁琐而令人生畏'的语言, 而MATLAB是一门价格昂贵的商业程序. 除了C语言和MATLAB, 仍有许多程序语言可供我们学习, 如C++, Java, Visual Basic, R等, 但无一例外的是这些语言设计的专业性太强或者并不适合我们的领域."
   ]
  },
  {
   "cell_type": "markdown",
   "metadata": {},
   "source": [
    "Python是一种面向对象的程序语言, 具有简单, 开源, 规范, 可扩展性强, 库丰富等特点, 无论其诞生之初的愿景如何, Python显然已成为各行各业从业人员学习一门程序语言的首选. Table 1是Python在化学或计算化学领域常见的一些项目. 当然Python也有缺点, 如在运行速度方面远远的落后与C语言, 但是一般的用户并不会有明显的感觉, 并且Python的很多模块都用C语言进行了优化(如Numpy).   "
   ]
  },
  {
   "cell_type": "markdown",
   "metadata": {},
   "source": [
    "Python的简单性可在与C语言的对比中说明. 比如现有一个问题, 计算线性代数中常见的矩阵乘法(AB). 如果要使用C语言实现的话, 可能必须使用循环, 同时遍历矩阵A的行和矩阵B的列, 然后将对应元素求和后放入输出矩阵C中由A的行号和B的列号同时决定的指定位置, 如此循环, 计算完C的所有元素.  更要命的是在C语言的循环中很可能会涉及到指针的操作, 而对于指针的操作, 即时是在计算机专业的初学者看来也是一道难以跨越的门槛. 而如果使用Python的话, 问题变得豁然开朗, Python有太多的库涉及矩阵的这一操作, 早已将其包装成了某个函数(例如Numpy或Scipy中的dot函数), 而我们要所做的仅仅是知道该函数的位置并了解其参数. Python的流形使得我们面临的\"任何问题\"很可能早已被别人解决, 而Python这个平台则为我们提供了现成的实现方案, 即使某个问题未在这个平台上解决, 我们仍可以从该平台搜寻到用之无尽的\"方案原型\", 在此基础上实现自己的想法将变得极其简单."
   ]
  },
  {
   "cell_type": "markdown",
   "metadata": {},
   "source": [
    "Python的开源性体现无需为任何开源软件支付任何费用, 因为这些软件并不是由商业公司开发, 而是由各个开源社区的人一起创建, 希望每个人都贡献自己的一份力量并服务于所有人. 开源运动起源于Linux的成长和发展, 其目的在于开放源代码, 追求信息的自由和共享. Python开源并不意味着与Python相关的软件都是开源的, 如Python的的集成开发环境PyCharm便是一个商业软件, 这是因为它不仅提供了Python的基本功能, 还提供了非Python的商业公司参入开发的功能, 可以方便代码的调试, 重构,测试等. 作为一般的用户, 我们无需使用商业软件, 因为某种商业软件都有其可替代的开源软件, 甚至某些商业软件也提供了其功能较为单一的开源版本. 开软项目的资金一般来源于开源社区的捐赠."
   ]
  },
  {
   "cell_type": "markdown",
   "metadata": {},
   "source": [
    "Python中规范包括强制性规范和非强制性规范, 这与Python的优雅性和简单性是密切相关的. 由于在C语言中代码缩进((语句前的空格数一致)是一种非强制性规范, 因此一段逻辑完全相同的代码在不同的程序员手下, 可以有不同的外观. 但是程序语言是给人看的, 而不是给机器(汇编语言)看的, 所以在Python中, 代码缩进变成了一种强制性规范, 要求逻辑一致的代码段必须具有一致的缩进, 因此可以保证逻辑一致的代码具有相同的外观. Python中最常见的非硬性规范是文档字符串, 文档字符串是包, 模块, 类或函数的第一个语句, 由于注释说明该对象的用途. 一个广为使用的Python模块必定有丰富的文档字符串, 这是我们学习某个模块的第一手资料, 这极大的降低了我们初次接触某个新模块时的困惑."
   ]
  },
  {
   "cell_type": "markdown",
   "metadata": {},
   "source": [
    "Python的可扩展性体现在两个方面. 一方面, 如果某段Python代码的运行速度成了整个程序的瓶颈, 此时不必重写整个程序, 只需把瓶颈处的代码换成C语言代码, 然后嵌入原先的Python程序当中即可. 这种Python+C的组合方式融合了Python易于实现以及C便于运行的双方优点. 另一方面, 非Python编写的流形软件都提供了Python访问程序接口(API), 而通过该接口我们不必掌握其他程序的的语法便可使用Python获取其解决方案. API可以简单的理解为连接Python和非Python之间的一座桥, 从桥的非Python端看, 该端为Python提供了自己所拥有的资源. 但从桥的Python端看, 可以看到无数的桥, 这使得Python API又好像一个\"杠杆\", 通过Python获取无数个桥背后的无尽的资源."
   ]
  },
  {
   "cell_type": "markdown",
   "metadata": {},
   "source": [
    "Python的库丰富性可从站点PyPI(Python包索引网站)查看, 其包含了与各行各业从业人员相关的近20万个python项目, 并且仍在不断发展当中. Python中关于科学计算和可视化的基础库有Numpy, Scipy, Matplotlib, Sympy, Pandas, Scikit Learn, Jupyter Notebook等. 其中, Numpy提供了多维数组操作和随机数生成的功能; Scipy提供了线性代数计算,统计分析和稀疏矩阵的功能; Matplotlib提供了二维或三维数据可视化功能; Pands提供了类似类Excel的数据表操作等功能; Scikit Learn则是一个关于及其学习的开源项目; Jupyter Notebook则是一个基于各种程序语言内核的文档式网页\"开发环境\"."
   ]
  },
  {
   "cell_type": "code",
   "execution_count": 1,
   "metadata": {},
   "outputs": [
    {
     "name": "stdout",
     "output_type": "stream",
     "text": [
      ">>>>>>>>>>>>>>>>>>>>>>>>>>>>>>>>>>>>>>>!kk1:active>>>>>>>>>>>>>>>>>>>>>>>>>>>>>>>>>>>>>>>>\n"
     ]
    }
   ],
   "source": [
    "kk 1"
   ]
  },
  {
   "cell_type": "markdown",
   "metadata": {},
   "source": [
    "## 如何学习Python"
   ]
  },
  {
   "cell_type": "markdown",
   "metadata": {},
   "source": [
    "### Python IDE"
   ]
  },
  {
   "cell_type": "markdown",
   "metadata": {},
   "source": [
    "学习Python的第一步是Python解释器或IDE(集成式开发环境)的选择. Python解释器是按行\"翻译\"Python语句的程序, Python IDE是集成了解释器,编辑器,调试器等与编程相关功能的程序集, 以便为项目开发提供一个便捷和舒适的环境. Python的IDE种类丰富各有特色, 其中最常见的是有: Python官网提供的IDLE, 轻便但功能较为单一; 可通过U盘在Windows系统之间移植的WinPython, 只能在Windows下使用; 功能十分齐全但是专业版价格较贵的PyChem; 开源, 且在科研领域十分流行的Anaconda; 本文将选择Anaconda为主要的Python开发环境, 因为其内置的众多包可以免去在孤立系统中安装时的繁琐(依赖项), 并且其内置了Ipython解释器和Jupyter Notebook, 以及类似于Matlab的程序界面Spyder.   \n",
    "Ipython(Interactive Python)主要功能是具有交互式增强的Shell以及可与Jupyter Notebook进行耦合. 交互式增强Shell的主要特点有: TAB对象补全; 动态对象内省, 即可以在任何对象的后面键入`?`或`??` 查看文档字符串, 函数定义原型, 源代码等; 系统命令调用, 即通过在系统命令前键入`!`的方式可以在Python解释器中直接调用系统命令; 可扩展的Magic方法, 内嵌的行命令以`%`开头, 内嵌的单元命令以`%%`开头;  \n",
    "Jupyter Notebook是一种基于网页的文档编辑工具, 类似于Word但比其更加简单和便捷. 如果将Jupyter和ipython耦合, 那么在编写文档中程序代码的同时可以使其运行并将其结果嵌入到文档当中. 启动Jupyter Notebook的服务器之后, 会自动在浏览器内打开一个页面(其默认地址为http://127.0.0.1:8888), 可以在该页面内创建目录和文件, 实则对应的是本机中的目录. 每个文档都有一些竖向排列的单元格构成, 每个单元格可以有两种格式, 普通Markdown文本以及可运行的Python代码, 如[图] Markdown是一种简化的格式化文本工具, 基于Markdown的Jupyter可以便捷的在文档内输入公式, 图表, 甚至是视频和声音等. Ipython相当于Jupyter的运算核, 进行代码的运行, Jupyter可以配置任意语言的运算核, 例如MATLAB和C等."
   ]
  },
  {
   "cell_type": "markdown",
   "metadata": {},
   "source": [
    "### python基本知识"
   ]
  },
  {
   "cell_type": "markdown",
   "metadata": {},
   "source": [
    "Python中需要注意的基本概念有: 对象, 模块, 包, 类, 方法, 属性, 特性等. Python是一门面向对象的程序设计语言, 可以将对象简单的认为是Python中所有有名字的变量, 是计算机内存中占有的一段数据, 不管是模块,类,函数, 还是普通的变量都可以当做是对象. 对象有时专指类的实例化对象, 而类是对现实生活中一类具有共同特征的事物的抽象, 类为其对象定义一系列与其相关的其描述性信息, 即属性或特性(可通过赋值进行修改), 以及与其相关的操作, 即方法. 包是包含源代码的总目录, 而模块是包中的文件.   "
   ]
  },
  {
   "cell_type": "markdown",
   "metadata": {},
   "source": [
    "模块一般定义了实现某种功能的类和常量, 以及对这些功能的说明文档即文档字符串, 可以说模块是是底层代码和文档字符串的集合. 文档字符串是我们学习Python某个函数的第一手资料, 很多解释器都可以自动搜集文档字符串, 如如IPython可使用对象?或??查看. 还可以使用内嵌函数dir()查看对象的属性和方法列表, dir2(自定义函数)实现带通配符的索引, 配合魔法命令 %col 可以将其输出按列显示, 见附录Code22."
   ]
  },
  {
   "cell_type": "code",
   "execution_count": 2,
   "metadata": {},
   "outputs": [
    {
     "name": "stdout",
     "output_type": "stream",
     "text": [
      "abs          |all        |any         |ascii       |\n",
      "bin          |bool       |bytearray   |bytes       |\n",
      "callable     |chr        |classmethod |compile     |\n",
      "complex      |copyright  |credits     |delattr     |\n",
      "dict         |dir        |display     |divmod      |\n",
      "enumerate    |eval       |exec        |filter      |\n",
      "float        |format     |frozenset   |get_ipython |\n",
      "getattr      |globals    |hasattr     |hash        |\n",
      "help         |hex        |id          |input       |\n",
      "int          |isinstance |issubclass  |iter        |\n",
      "len          |license    |list        |locals      |\n",
      "map          |max        |memoryview  |min         |\n",
      "next         |object     |oct         |open        |\n",
      "ord          |pow        |print       |property    |\n",
      "range        |repr       |reversed    |round       |\n",
      "set          |setattr    |slice       |sorted      |\n",
      "staticmethod |str        |sum         |super       |\n",
      "tuple        |type       |vars        |zip         |\n"
     ]
    },
    {
     "data": {
      "text/plain": [
       "'72'"
      ]
     },
     "execution_count": 2,
     "metadata": {},
     "output_type": "execute_result"
    }
   ],
   "source": [
    "# 查看Python的内置函数\n",
    "import builtins\n",
    "%col 4 dir2(builtins)"
   ]
  },
  {
   "cell_type": "markdown",
   "metadata": {},
   "source": [
    "Python的内置函数和数据类型. 附录Code xx 可查看所有的内置函数: 有些内置函数是关于数学运算的如sum,max等; 有些是关于输入输出的如input, print等; 有些是定义数据类型或数据结构的, 如str(字符串), list(列表), tuple(元组), dict(字典); 还有一些可用于Python自身的反射操作(搜集对象的文档字符串, 检查变量的类型等), 如help, dir等; 除了基本的整数,实数,字符串类型外, Python的内置类型还有列表, 字典等. 列表是任意对象的序列, 而字典是键值对序列, 列表和字典都可以进行迭代和索引. Python中的循环语句(可迭代序列中元素)和条件语句与其他语言类似, 只不过要特别注意缩进的问题即可. 除了标准的内置类型, 其他的模块也定了一些自己的数据类型, 如numpy定义了数组, Panda定义了Dataframe等."
   ]
  },
  {
   "cell_type": "markdown",
   "metadata": {},
   "source": [
    "更多的说明(如序列解包, 列表生成式, 生成器等)可以在任何一本Python教材中查看. 详细研讨一本Python教材, 对Python语言框架式的认识是有必要的, 但是一次性的掌握Python的所有细节却既不现实又没有必要. 因此更明智的学习方式是遇到问题之后再去详细的学习. 而关于一个函数或者类的学习, 可能根本不需要花费时间去查找其用途, 应为只需在IPython解释器中在其名称之后键入问号即可. 可以很方便的查看某个函数的源码, 参数及其说明, 有的还会给出示例."
   ]
  },
  {
   "cell_type": "markdown",
   "metadata": {},
   "source": [
    "## Python包"
   ]
  },
  {
   "cell_type": "markdown",
   "metadata": {},
   "source": [
    "下图显示了Python的组织结构, 使用dot程序绘制[]. 把Python放置在根节点, 其下的第一层是其可扩展的包, 可在PyPI等渠道下载. 简要显示ASE包内的层次, 目录calculators是ASE内有关计算器的子包, atoms.py是  ASE内的一个模块, 其中定义了类Atoms以及类实例所拥有的方法`set_*()`和`get_*()`."
   ]
  },
  {
   "cell_type": "code",
   "execution_count": 3,
   "metadata": {},
   "outputs": [
    {
     "data": {
      "image/svg+xml": [
       "<?xml version=\"1.0\" encoding=\"UTF-8\" standalone=\"no\"?>\r\n",
       "<!DOCTYPE svg PUBLIC \"-//W3C//DTD SVG 1.1//EN\"\r\n",
       " \"http://www.w3.org/Graphics/SVG/1.1/DTD/svg11.dtd\">\r\n",
       "<!-- Generated by graphviz version 2.38.0 (20140413.2041)\r\n",
       " -->\r\n",
       "<!-- Title: python Pages: 1 -->\r\n",
       "<svg width=\"485pt\" height=\"330pt\"\r\n",
       " viewBox=\"0.00 0.00 485.00 330.00\" xmlns=\"http://www.w3.org/2000/svg\" xmlns:xlink=\"http://www.w3.org/1999/xlink\">\r\n",
       "<g id=\"graph0\" class=\"graph\" transform=\"scale(1 1) rotate(0) translate(4 326)\">\r\n",
       "<title>python</title>\r\n",
       "<polygon fill=\"white\" stroke=\"none\" points=\"-4,4 -4,-326 481,-326 481,4 -4,4\"/>\r\n",
       "<g id=\"clust3\" class=\"cluster\"><title>cluster1</title>\r\n",
       "<polygon fill=\"none\" stroke=\"black\" points=\"8,-8 8,-156 243,-156 243,-8 8,-8\"/>\r\n",
       "<text text-anchor=\"middle\" x=\"125.5\" y=\"-140.8\" font-family=\"Times New Roman,serif\" font-size=\"14.00\">包</text>\r\n",
       "</g>\r\n",
       "<g id=\"clust4\" class=\"cluster\"><title>cluster2</title>\r\n",
       "<polygon fill=\"none\" stroke=\"black\" points=\"251,-8 251,-156 469,-156 469,-8 251,-8\"/>\r\n",
       "<text text-anchor=\"middle\" x=\"360\" y=\"-140.8\" font-family=\"Times New Roman,serif\" font-size=\"14.00\">模块</text>\r\n",
       "</g>\r\n",
       "<g id=\"clust2\" class=\"cluster\"><title>cluster0</title>\r\n",
       "<polygon fill=\"none\" stroke=\"black\" points=\"8,-175 8,-314 92,-314 92,-175 8,-175\"/>\r\n",
       "</g>\r\n",
       "<!--  Python  -->\r\n",
       "<g id=\"node1\" class=\"node\"><title> Python </title>\r\n",
       "<polygon fill=\"lightblue\" stroke=\"lightblue\" points=\"84,-306 20,-306 20,-270 84,-270 84,-306\"/>\r\n",
       "<text text-anchor=\"middle\" x=\"52\" y=\"-284.3\" font-family=\"Times New Roman,serif\" font-size=\"14.00\"> Python </text>\r\n",
       "</g>\r\n",
       "<!-- Numpy -->\r\n",
       "<g id=\"node2\" class=\"node\"><title>Numpy</title>\r\n",
       "<polygon fill=\"none\" stroke=\"black\" points=\"160,-219 102,-219 102,-183 160,-183 160,-219\"/>\r\n",
       "<text text-anchor=\"middle\" x=\"131\" y=\"-197.3\" font-family=\"Times New Roman,serif\" font-size=\"14.00\">Numpy</text>\r\n",
       "</g>\r\n",
       "<!--  Python &#45;&gt;Numpy -->\r\n",
       "<g id=\"edge1\" class=\"edge\"><title> Python &#45;&gt;Numpy</title>\r\n",
       "<path fill=\"none\" stroke=\"black\" d=\"M67.9868,-269.799C79.8726,-257.01 96.2243,-239.417 109.292,-225.357\"/>\r\n",
       "<polygon fill=\"black\" stroke=\"black\" points=\"111.642,-226.942 115.037,-219.175 107.54,-223.129 111.642,-226.942\"/>\r\n",
       "</g>\r\n",
       "<!-- Scipy -->\r\n",
       "<g id=\"node3\" class=\"node\"><title>Scipy</title>\r\n",
       "<polygon fill=\"none\" stroke=\"black\" points=\"232,-219 178,-219 178,-183 232,-183 232,-219\"/>\r\n",
       "<text text-anchor=\"middle\" x=\"205\" y=\"-197.3\" font-family=\"Times New Roman,serif\" font-size=\"14.00\">Scipy</text>\r\n",
       "</g>\r\n",
       "<!--  Python &#45;&gt;Scipy -->\r\n",
       "<g id=\"edge2\" class=\"edge\"><title> Python &#45;&gt;Scipy</title>\r\n",
       "<path fill=\"none\" stroke=\"black\" d=\"M82.9618,-269.799C108.423,-255.654 144.465,-235.631 170.778,-221.012\"/>\r\n",
       "<polygon fill=\"black\" stroke=\"black\" points=\"172.291,-223.375 177.925,-217.042 169.572,-218.479 172.291,-223.375\"/>\r\n",
       "</g>\r\n",
       "<!-- ASE -->\r\n",
       "<g id=\"node4\" class=\"node\"><title>ASE</title>\r\n",
       "<polygon fill=\"none\" stroke=\"black\" points=\"304,-219 250,-219 250,-183 304,-183 304,-219\"/>\r\n",
       "<text text-anchor=\"middle\" x=\"277\" y=\"-197.3\" font-family=\"Times New Roman,serif\" font-size=\"14.00\">ASE</text>\r\n",
       "</g>\r\n",
       "<!--  Python &#45;&gt;ASE -->\r\n",
       "<g id=\"edge3\" class=\"edge\"><title> Python &#45;&gt;ASE</title>\r\n",
       "<path fill=\"none\" stroke=\"black\" d=\"M84.1248,-276.49C122.019,-263.852 186.727,-241.517 241,-219 241.551,-218.772 242.105,-218.539 242.662,-218.303\"/>\r\n",
       "<polygon fill=\"black\" stroke=\"black\" points=\"243.793,-220.865 249.998,-215.091 241.546,-215.735 243.793,-220.865\"/>\r\n",
       "</g>\r\n",
       "<!-- Pymagen -->\r\n",
       "<g id=\"node5\" class=\"node\"><title>Pymagen</title>\r\n",
       "<polygon fill=\"none\" stroke=\"black\" points=\"390,-219 322,-219 322,-183 390,-183 390,-219\"/>\r\n",
       "<text text-anchor=\"middle\" x=\"356\" y=\"-197.3\" font-family=\"Times New Roman,serif\" font-size=\"14.00\">Pymagen</text>\r\n",
       "</g>\r\n",
       "<!--  Python &#45;&gt;Pymagen -->\r\n",
       "<g id=\"edge4\" class=\"edge\"><title> Python &#45;&gt;Pymagen</title>\r\n",
       "<path fill=\"none\" stroke=\"black\" d=\"M84.1321,-280.057C133.782,-269.01 231.891,-245.908 313,-219 313.362,-218.88 313.725,-218.758 314.09,-218.636\"/>\r\n",
       "<polygon fill=\"black\" stroke=\"black\" points=\"315.245,-221.197 321.86,-215.898 313.384,-215.916 315.245,-221.197\"/>\r\n",
       "</g>\r\n",
       "<!-- ... -->\r\n",
       "<g id=\"node6\" class=\"node\"><title>...</title>\r\n",
       "<polygon fill=\"none\" stroke=\"black\" points=\"462,-219 408,-219 408,-183 462,-183 462,-219\"/>\r\n",
       "<text text-anchor=\"middle\" x=\"435\" y=\"-197.3\" font-family=\"Times New Roman,serif\" font-size=\"14.00\">...</text>\r\n",
       "</g>\r\n",
       "<!--  Python &#45;&gt;... -->\r\n",
       "<g id=\"edge5\" class=\"edge\"><title> Python &#45;&gt;...</title>\r\n",
       "<path fill=\"none\" stroke=\"black\" d=\"M84.2968,-283.529C146.497,-276.224 286.691,-256.74 399,-219 399.36,-218.879 399.722,-218.755 400.084,-218.629\"/>\r\n",
       "<polygon fill=\"black\" stroke=\"black\" points=\"401.298,-221.162 407.756,-215.673 399.284,-215.937 401.298,-221.162\"/>\r\n",
       "</g>\r\n",
       "<!-- 非Python -->\r\n",
       "<g id=\"node7\" class=\"node\"><title>非Python</title>\r\n",
       "<polygon fill=\"#c1b2ff\" stroke=\"#c1b2ff\" points=\"84,-219 16,-219 16,-183 84,-183 84,-219\"/>\r\n",
       "<text text-anchor=\"middle\" x=\"50\" y=\"-197.3\" font-family=\"Times New Roman,serif\" font-size=\"14.00\">非Python</text>\r\n",
       "</g>\r\n",
       "<!--  Python &#45;&gt;非Python -->\r\n",
       "<g id=\"edge6\" class=\"edge\"><title> Python &#45;&gt;非Python</title>\r\n",
       "<path fill=\"none\" stroke=\"black\" d=\"M51.4046,-261.694C51.1499,-250.869 50.853,-238.254 50.5981,-227.417\"/>\r\n",
       "<polygon fill=\"black\" stroke=\"black\" points=\"48.6078,-261.867 51.5953,-269.799 54.2062,-261.735 48.6078,-261.867\"/>\r\n",
       "<polygon fill=\"black\" stroke=\"black\" points=\"53.3916,-227.107 50.4041,-219.175 47.7932,-227.239 53.3916,-227.107\"/>\r\n",
       "<text text-anchor=\"middle\" x=\"63.5\" y=\"-240.8\" font-family=\"Times New Roman,serif\" font-size=\"14.00\">API</text>\r\n",
       "</g>\r\n",
       "<!-- calculators -->\r\n",
       "<g id=\"node8\" class=\"node\"><title>calculators</title>\r\n",
       "<polygon fill=\"none\" stroke=\"black\" points=\"207.5,-125 130.5,-125 130.5,-89 207.5,-89 207.5,-125\"/>\r\n",
       "<text text-anchor=\"middle\" x=\"169\" y=\"-103.3\" font-family=\"Times New Roman,serif\" font-size=\"14.00\">calculators</text>\r\n",
       "</g>\r\n",
       "<!-- ASE&#45;&gt;calculators -->\r\n",
       "<g id=\"edge7\" class=\"edge\"><title>ASE&#45;&gt;calculators</title>\r\n",
       "<path fill=\"none\" stroke=\"black\" d=\"M256.939,-182.911C239.62,-168.158 214.469,-146.733 195.497,-130.571\"/>\r\n",
       "<polygon fill=\"black\" stroke=\"black\" points=\"197.226,-128.366 189.32,-125.31 193.594,-132.629 197.226,-128.366\"/>\r\n",
       "</g>\r\n",
       "<!-- atoms.py -->\r\n",
       "<g id=\"node12\" class=\"node\"><title>atoms.py</title>\r\n",
       "<polygon fill=\"none\" stroke=\"black\" points=\"360,-125 292,-125 292,-89 360,-89 360,-125\"/>\r\n",
       "<text text-anchor=\"middle\" x=\"326\" y=\"-103.3\" font-family=\"Times New Roman,serif\" font-size=\"14.00\">atoms.py</text>\r\n",
       "</g>\r\n",
       "<!-- ASE&#45;&gt;atoms.py -->\r\n",
       "<g id=\"edge11\" class=\"edge\"><title>ASE&#45;&gt;atoms.py</title>\r\n",
       "<path fill=\"none\" stroke=\"black\" d=\"M286.217,-182.696C293.745,-168.56 304.479,-148.406 312.901,-132.595\"/>\r\n",
       "<polygon fill=\"black\" stroke=\"black\" points=\"315.535,-133.604 316.825,-125.227 310.593,-130.972 315.535,-133.604\"/>\r\n",
       "</g>\r\n",
       "<!-- abinit.py -->\r\n",
       "<g id=\"node9\" class=\"node\"><title>abinit.py</title>\r\n",
       "<polygon fill=\"none\" stroke=\"black\" points=\"81.5,-52 16.5,-52 16.5,-16 81.5,-16 81.5,-52\"/>\r\n",
       "<text text-anchor=\"middle\" x=\"49\" y=\"-30.3\" font-family=\"Times New Roman,serif\" font-size=\"14.00\">abinit.py</text>\r\n",
       "</g>\r\n",
       "<!-- calculators&#45;&gt;abinit.py -->\r\n",
       "<g id=\"edge8\" class=\"edge\"><title>calculators&#45;&gt;abinit.py</title>\r\n",
       "<path fill=\"none\" stroke=\"black\" d=\"M140.257,-88.9937C123.755,-79.2298 102.876,-66.8763 85.2545,-56.4506\"/>\r\n",
       "<polygon fill=\"black\" stroke=\"black\" points=\"86.2353,-53.7775 77.9244,-52.1136 83.3837,-58.5971 86.2353,-53.7775\"/>\r\n",
       "</g>\r\n",
       "<!-- dmol.py -->\r\n",
       "<g id=\"node10\" class=\"node\"><title>dmol.py</title>\r\n",
       "<polygon fill=\"none\" stroke=\"black\" points=\"162.5,-52 99.5,-52 99.5,-16 162.5,-16 162.5,-52\"/>\r\n",
       "<text text-anchor=\"middle\" x=\"131\" y=\"-30.3\" font-family=\"Times New Roman,serif\" font-size=\"14.00\">dmol.py</text>\r\n",
       "</g>\r\n",
       "<!-- calculators&#45;&gt;dmol.py -->\r\n",
       "<g id=\"edge9\" class=\"edge\"><title>calculators&#45;&gt;dmol.py</title>\r\n",
       "<path fill=\"none\" stroke=\"black\" d=\"M159.801,-88.8129C155.04,-79.9174 149.149,-68.9094 143.937,-59.1717\"/>\r\n",
       "<polygon fill=\"black\" stroke=\"black\" points=\"146.358,-57.7609 140.114,-52.0288 141.42,-60.4034 146.358,-57.7609\"/>\r\n",
       "</g>\r\n",
       "<!-- vasp -->\r\n",
       "<g id=\"node11\" class=\"node\"><title>vasp</title>\r\n",
       "<polygon fill=\"none\" stroke=\"black\" points=\"235,-52 181,-52 181,-16 235,-16 235,-52\"/>\r\n",
       "<text text-anchor=\"middle\" x=\"208\" y=\"-30.3\" font-family=\"Times New Roman,serif\" font-size=\"14.00\">vasp</text>\r\n",
       "</g>\r\n",
       "<!-- calculators&#45;&gt;vasp -->\r\n",
       "<g id=\"edge10\" class=\"edge\"><title>calculators&#45;&gt;vasp</title>\r\n",
       "<path fill=\"none\" stroke=\"black\" d=\"M178.441,-88.8129C183.327,-79.9174 189.374,-68.9094 194.723,-59.1717\"/>\r\n",
       "<polygon fill=\"black\" stroke=\"black\" points=\"197.249,-60.3887 198.646,-52.0288 192.34,-57.6926 197.249,-60.3887\"/>\r\n",
       "</g>\r\n",
       "<!-- Atoms -->\r\n",
       "<g id=\"node13\" class=\"node\"><title>Atoms</title>\r\n",
       "<polygon fill=\"none\" stroke=\"black\" points=\"313,-52 259,-52 259,-16 313,-16 313,-52\"/>\r\n",
       "<text text-anchor=\"middle\" x=\"286\" y=\"-30.3\" font-family=\"Times New Roman,serif\" font-size=\"14.00\">Atoms</text>\r\n",
       "</g>\r\n",
       "<!-- atoms.py&#45;&gt;Atoms -->\r\n",
       "<g id=\"edge12\" class=\"edge\"><title>atoms.py&#45;&gt;Atoms</title>\r\n",
       "<path fill=\"none\" stroke=\"black\" d=\"M316.317,-88.8129C311.306,-79.9174 305.104,-68.9094 299.618,-59.1717\"/>\r\n",
       "<polygon fill=\"black\" stroke=\"black\" points=\"301.96,-57.6245 295.594,-52.0288 297.081,-60.3732 301.96,-57.6245\"/>\r\n",
       "</g>\r\n",
       "<!-- set_*() -->\r\n",
       "<g id=\"node14\" class=\"node\"><title>set_*()</title>\r\n",
       "<polygon fill=\"none\" stroke=\"black\" points=\"387,-52 331,-52 331,-16 387,-16 387,-52\"/>\r\n",
       "<text text-anchor=\"middle\" x=\"359\" y=\"-30.3\" font-family=\"Times New Roman,serif\" font-size=\"14.00\">set_*()</text>\r\n",
       "</g>\r\n",
       "<!-- atoms.py&#45;&gt;set_*() -->\r\n",
       "<g id=\"edge13\" class=\"edge\"><title>atoms.py&#45;&gt;set_*()</title>\r\n",
       "<path fill=\"none\" stroke=\"black\" d=\"M333.988,-88.8129C338.082,-80.0046 343.139,-69.125 347.632,-59.4584\"/>\r\n",
       "<polygon fill=\"black\" stroke=\"black\" points=\"350.252,-60.4637 351.085,-52.0288 345.174,-58.1033 350.252,-60.4637\"/>\r\n",
       "</g>\r\n",
       "<!-- get_*() -->\r\n",
       "<g id=\"node15\" class=\"node\"><title>get_*()</title>\r\n",
       "<polygon fill=\"none\" stroke=\"black\" points=\"461,-52 405,-52 405,-16 461,-16 461,-52\"/>\r\n",
       "<text text-anchor=\"middle\" x=\"433\" y=\"-30.3\" font-family=\"Times New Roman,serif\" font-size=\"14.00\">get_*()</text>\r\n",
       "</g>\r\n",
       "<!-- atoms.py&#45;&gt;get_*() -->\r\n",
       "<g id=\"edge14\" class=\"edge\"><title>atoms.py&#45;&gt;get_*()</title>\r\n",
       "<path fill=\"none\" stroke=\"black\" d=\"M351.629,-88.9937C366.212,-79.317 384.629,-67.0967 400.252,-56.7303\"/>\r\n",
       "<polygon fill=\"black\" stroke=\"black\" points=\"402.091,-58.8699 407.209,-52.1136 398.995,-54.2037 402.091,-58.8699\"/>\r\n",
       "</g>\r\n",
       "</g>\r\n",
       "</svg>\r\n"
      ],
      "text/plain": [
       "<graphviz.files.Source at 0x175b6c58c88>"
      ]
     },
     "execution_count": 3,
     "metadata": {},
     "output_type": "execute_result"
    }
   ],
   "source": [
    "dot2graph(\"data/python_tree.dot\")"
   ]
  },
  {
   "cell_type": "markdown",
   "metadata": {},
   "source": [
    "普通化学类中的典型代表是mendeleev(门捷列夫), 该包提供了一个API(程序访问接口), 可用于访问元素周期表中元素(或离子,同位素)的各种属性, 此外它还提供了创建和可视化元素周期表的功能. "
   ]
  },
  {
   "cell_type": "markdown",
   "metadata": {},
   "source": [
    "openbabel: pybal  \n",
    "mendeleev: 访问元素周期表中元素的各种性质, ==> 简单的数据集? 机器学习模型的演示  \n"
   ]
  },
  {
   "cell_type": "markdown",
   "metadata": {},
   "source": [
    "一些小函数:  \n",
    "dir2, %col, ggtrans, 原子径向分布, 角度分布, "
   ]
  },
  {
   "cell_type": "code",
   "execution_count": 116,
   "metadata": {},
   "outputs": [],
   "source": [
    "Atoms\n",
    "get_*()\n",
    "set_*()\n",
    "\n",
    "\n",
    "import ase"
   ]
  },
  {
   "cell_type": "code",
   "execution_count": 117,
   "metadata": {},
   "outputs": [
    {
     "name": "stdout",
     "output_type": "stream",
     "text": [
      "C:\\Users\\tfliu\\AppData\\Roaming\\Python\\Python36\\site-packages\\ase"
     ]
    }
   ],
   "source": [
    "module_location(ase)"
   ]
  },
  {
   "cell_type": "code",
   "execution_count": 119,
   "metadata": {},
   "outputs": [],
   "source": [
    "! code C:\\Users\\tfliu\\AppData\\Roaming\\Python\\Python36\\site-packages\\ase"
   ]
  },
  {
   "cell_type": "code",
   "execution_count": 28,
   "metadata": {},
   "outputs": [
    {
     "name": "stdout",
     "output_type": "stream",
     "text": [
      "C:\\Users\\tfliu\\Anaconda3\\lib\\site-packages\\mendeleev"
     ]
    }
   ],
   "source": [
    "module_location(mendeleev)"
   ]
  },
  {
   "cell_type": "code",
   "execution_count": 29,
   "metadata": {},
   "outputs": [],
   "source": [
    "!code C:\\Users\\tfliu\\Anaconda3\\lib\\site-packages\\mendeleev"
   ]
  },
  {
   "cell_type": "code",
   "execution_count": 11,
   "metadata": {
    "scrolled": false
   },
   "outputs": [],
   "source": [
    "# help(mendeleev)"
   ]
  },
  {
   "cell_type": "markdown",
   "metadata": {},
   "source": [
    "## 与计算化学相关的包"
   ]
  },
  {
   "cell_type": "markdown",
   "metadata": {},
   "source": [
    ": ase and pymatgen"
   ]
  },
  {
   "cell_type": "markdown",
   "metadata": {},
   "source": [
    "ase: \n",
    "晶格常数的确定:  \n",
    "VAsp参数IS.或6-7个点\n",
    "ase: 状态方程\n",
    "pymatgen"
   ]
  },
  {
   "cell_type": "markdown",
   "metadata": {},
   "source": [
    "## python应用"
   ]
  },
  {
   "cell_type": "markdown",
   "metadata": {},
   "source": [
    "### 翻译, 文献阅读工具"
   ]
  },
  {
   "cell_type": "markdown",
   "metadata": {},
   "source": [
    "### 简单运算核图形演示"
   ]
  },
  {
   "cell_type": "markdown",
   "metadata": {},
   "source": [
    "### ase生成结构和计算晶格参数"
   ]
  },
  {
   "cell_type": "markdown",
   "metadata": {},
   "source": [
    "# 与机器学习相关的包"
   ]
  },
  {
   "cell_type": "markdown",
   "metadata": {},
   "source": [
    "sklearn"
   ]
  },
  {
   "cell_type": "markdown",
   "metadata": {},
   "source": [
    "# Li-S电池的"
   ]
  },
  {
   "cell_type": "markdown",
   "metadata": {},
   "source": [
    "确定结构的晶格常数:  \n",
    "6-7个计算即可: \n",
    "* 一般间隔然后计算能量,  \n",
    "* 状态方程拟合\n",
    "* Vasp参数控制"
   ]
  },
  {
   "cell_type": "markdown",
   "metadata": {},
   "source": [
    "# Li离子在 TMDs上的吸附 "
   ]
  },
  {
   "cell_type": "markdown",
   "metadata": {},
   "source": []
  },
  {
   "cell_type": "markdown",
   "metadata": {},
   "source": [
    "# 总结和展望"
   ]
  },
  {
   "cell_type": "markdown",
   "metadata": {},
   "source": []
  },
  {
   "cell_type": "markdown",
   "metadata": {},
   "source": []
  }
 ],
 "metadata": {
  "kernelspec": {
   "display_name": "Python 3",
   "language": "python",
   "name": "python3"
  },
  "toc": {
   "base_numbering": 1,
   "nav_menu": {},
   "number_sections": true,
   "sideBar": true,
   "skip_h1_title": false,
   "title_cell": "Table of Contents",
   "title_sidebar": "Contents",
   "toc_cell": false,
   "toc_position": {},
   "toc_section_display": true,
   "toc_window_display": false
  },
  "varInspector": {
   "cols": {
    "lenName": 16,
    "lenType": 16,
    "lenVar": 40
   },
   "kernels_config": {
    "python": {
     "delete_cmd_postfix": "",
     "delete_cmd_prefix": "del ",
     "library": "var_list.py",
     "varRefreshCmd": "print(var_dic_list())"
    },
    "r": {
     "delete_cmd_postfix": ") ",
     "delete_cmd_prefix": "rm(",
     "library": "var_list.r",
     "varRefreshCmd": "cat(var_dic_list()) "
    }
   },
   "types_to_exclude": [
    "module",
    "function",
    "builtin_function_or_method",
    "instance",
    "_Feature"
   ],
   "window_display": false
  }
 },
 "nbformat": 4,
 "nbformat_minor": 2
}
