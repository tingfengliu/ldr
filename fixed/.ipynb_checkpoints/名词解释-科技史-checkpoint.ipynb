{
 "cells": [
  {
   "cell_type": "markdown",
   "metadata": {},
   "source": [
    "变分:  \n",
    "变分法概念与寻常分析中的微分概念很为类似，但所联系的不是x的变化，而是函数y（x）的变化。如果函数y（x）使U（y）达其极值，则U的变分δU变为0。"
   ]
  },
  {
   "cell_type": "markdown",
   "metadata": {},
   "source": [
    "**动力学**: 研究, 在力的作用下产生运动的学科"
   ]
  },
  {
   "cell_type": "markdown",
   "metadata": {},
   "source": [
    "物体受外磁场吸引或排斥的性质叫做**磁性**(magnetism), 该物体叫做**磁体**(任何物体都会受到磁场的作用, 任何物体都是磁体?).  \n",
    "**磁极**: 磁体上磁性最强的部分叫做磁极, 磁体无论多小, 都有两个磁极, 已知指向N, 一个指向S.   \n",
    "**磁场**: 磁极周围存在磁场(可以使用磁力线表征), 磁场是磁体之间相互作用的媒介.   \n",
    "**磁荷**: 电场电荷在磁场中的等视物, 也可分为正磁荷和负磁荷.   \n",
    "**磁场强度**: 类似于电场强度, 单位正磁荷在磁场中所受的力就是**磁场强度**. 后来安培提出**分子电流假说**, 认为并不存在磁荷, 磁现象的本质是分子电流. 自此, 磁场的强度多用**磁感应强度**B表示. 但是在磁介质的磁化问题中, 磁场强度H作为一个导出的辅助量仍然发挥着重要作用.  \n",
    "**洛伦兹力**:  \n",
    "**磁通量**:  \n",
    "**磁通量密度**:  \n",
    "**磁化强度**: magnetization\n",
    "**磁感应强度**:  \n",
    "真空中的磁感应强度:  \n",
    "**磁矩**:  \n",
    "**磁化率**: magnetic susceptibility;  \n",
    "常用符号 $\\chi$ 表示. 等于磁化强度M与磁场强度H之比，即 $\\chi =\\frac{M}{H}$.    \n",
    "对于顺磁质, $\\chi>0$, 对于抗磁质, $\\chi < 0 $, 其值都很小, 对于铁磁质, $\\chi$很大, 且还与H有关(即M与H之间有复杂的非线性关系).   \n",
    "对于各向同性磁介质, $\\chi$ 是标量, 对于各向异性磁介质, 磁化率是一个二阶张量.\n",
    "\n",
    "**抗磁性**:  \n",
    "**顺磁性**:  \n",
    "**铁磁性**:  \n",
    "反铁磁性:  \n",
    "亚铁磁性:  "
   ]
  },
  {
   "cell_type": "markdown",
   "metadata": {},
   "source": [
    "**Chemical evolution**: 生物进化(biological evolution) => 化学演化"
   ]
  },
  {
   "cell_type": "markdown",
   "metadata": {},
   "source": [
    "**价键理论**: valence-bond theory，一种获得分子薛定谔方程近似解的处理方法。又称**电子配对法**。历史上最早发展起来的化学键理论。其核心思想是`原子间相互接近轨道重叠`，`原子间共用自旋相反的电子对`使能量降低而成键。"
   ]
  },
  {
   "cell_type": "markdown",
   "metadata": {},
   "source": [
    "从头算/半经验:  "
   ]
  },
  {
   "cell_type": "markdown",
   "metadata": {},
   "source": [
    "Enrico Clementi: 恩里科$\\cdot$克莱门蒂  \n",
    "Giorgina Corongiu: 乔吉纳$\\cdot$科伦吉屋"
   ]
  },
  {
   "cell_type": "code",
   "execution_count": 5,
   "metadata": {
    "scrolled": false
   },
   "outputs": [
    {
     "name": "stdout",
     "output_type": "stream",
     "text": [
      "哈特里\n"
     ]
    }
   ],
   "source": [
    "ggtrans(\"Hartree\")"
   ]
  },
  {
   "cell_type": "markdown",
   "metadata": {},
   "source": [
    "Uhlenbeck: 乌伦贝克  \n",
    "Goudsmith: 古德史密斯  \n",
    "Hartree: 哈特里(/哈吹/)"
   ]
  },
  {
   "cell_type": "code",
   "execution_count": 1,
   "metadata": {},
   "outputs": [
    {
     "name": "stdout",
     "output_type": "stream",
     "text": [
      "26: 1s2 2s2 2p6 3s2 3p6 3d6 4s2\n",
      ">>>>>>>>>>>>>>>>>>>>>>>>>>>>>>>>>>>>>>>>>>>>>>>>>>>>>>>>>>>>>>>>>>>>>>\n",
      "H                                                                   He \n",
      "Li  Be                                          B   C   N   O   F   Ne \n",
      "Na  Mg                                          Al  Si  P   S   Cl  Ar \n",
      "K   Ca  Sc  Ti  V   Cr  Mn  Fe  Co  Ni  Cu  Zn  Ga  Ge  As  Se  Br  Kr \n",
      "Rb  Sr  Y   Zr  Nb  Mo  Tc  Ru  Rh  Pd  Ag  Cd  In  Sn  Sb  Te  I   Xe \n",
      "Cs  Ba      Hf  Ta  W   Re  Os  Ir  Pt  Au  Hg  Tl  Pb  Bi  Po  At  Rn \n",
      "Fr  Ra                                                                 \n",
      "        La  Ce  Pr  Nd  Pm  Sm  Eu  Gd  Tb  Dy  Ho  Er  Tm  Yb  Lu     \n",
      "        Ac  Th  Pa  U   Np  Pu  Am  Cm  Bk  Cf  Es  Fm  Md  No  Lr     \n"
     ]
    }
   ],
   "source": [
    "electronic_structure(\"Fe\",ppt=1)"
   ]
  },
  {
   "cell_type": "markdown",
   "metadata": {},
   "source": [
    "# 附录:"
   ]
  },
  {
   "cell_type": "markdown",
   "metadata": {},
   "source": [
    "从历届诺贝尔奖了解科技史:  \n",
    "诺贝奖官网: https://www.nobelprize.org/;  \n",
    "历届诺贝尔奖: https://wenku.baidu.com/view/c138c1f129ea81c758f5f61fb7360b4c2e3f2ab1.html"
   ]
  },
  {
   "cell_type": "markdown",
   "metadata": {},
   "source": [
    "## 物理学奖"
   ]
  },
  {
   "cell_type": "markdown",
   "metadata": {},
   "source": [
    "1901年: 伦琴发现X射线;  \n",
    "1902年: 洛伦兹和塞曼, 在磁场中谱线的分裂;  \n",
    "1906: 汤姆逊, 在实验中发现电子;  "
   ]
  },
  {
   "cell_type": "markdown",
   "metadata": {},
   "source": [
    "## 化学奖  "
   ]
  },
  {
   "cell_type": "markdown",
   "metadata": {},
   "source": [
    "1908: 卢瑟福, "
   ]
  },
  {
   "cell_type": "markdown",
   "metadata": {},
   "source": [
    "## 其他重大科技实践"
   ]
  },
  {
   "cell_type": "markdown",
   "metadata": {},
   "source": [
    "1900年瑞利-金斯(Rayleigh-Jeans)导出黑体辐射的低频公式.\n",
    "\n",
    "1900年普朗克由黑体辐射的能量密度公式提出量子化的概念.\n",
    "\n",
    "1907年爱因斯坦根据普朗克的量子化假设计算了固体中原子的比热--固体原子比热随温度的下降而下降直至为0.\n",
    "\n",
    "1913年玻尔(Bohr)将普朗克与爱因斯坦的观点推广应用于原子结构, 成功的推导出氢原子光谱线频率的巴尔末公式, 并提出量子化条件: $\\displaystyle L=\\mu v r = n\\hbar$.\n",
    "\n",
    "1923年德布罗意提出物质波假设.\n",
    "\n",
    "1924年，美国物理学家康普顿在研究x射线通过实物物质发生散射的实验时，发现了一个新的现象，即散射光中除了有原波长λ0的x光外，还产生了波长λ>λ0 的x光，其波长的增量随散射角的不同而变化。这种现象称为康普顿效应(Compton Effect)。 光具有粒子性.\n",
    "\n",
    "1925年海森伯(Heisenberg), 玻恩(Born)与约当(Jordon)以矩阵力学的形式建立了量子力学, 同时薛定谔(Schrodinger)以波动力学的形式建立了量子力学.\n",
    "\n",
    "1927年戴维逊(Davisson)和盖末(Germer)用54eV的电子束投射到Ni单晶上, 观察到同X射线相似的衍射图样."
   ]
  }
 ],
 "metadata": {
  "kernelspec": {
   "display_name": "Python 3",
   "language": "python",
   "name": "python3"
  },
  "language_info": {
   "codemirror_mode": {
    "name": "ipython",
    "version": 3
   },
   "file_extension": ".py",
   "mimetype": "text/x-python",
   "name": "python",
   "nbconvert_exporter": "python",
   "pygments_lexer": "ipython3",
   "version": "3.6.5"
  },
  "toc": {
   "base_numbering": 1,
   "nav_menu": {},
   "number_sections": true,
   "sideBar": true,
   "skip_h1_title": false,
   "title_cell": "Table of Contents",
   "title_sidebar": "Contents",
   "toc_cell": false,
   "toc_position": {},
   "toc_section_display": true,
   "toc_window_display": false
  },
  "varInspector": {
   "cols": {
    "lenName": 16,
    "lenType": 16,
    "lenVar": 40
   },
   "kernels_config": {
    "python": {
     "delete_cmd_postfix": "",
     "delete_cmd_prefix": "del ",
     "library": "var_list.py",
     "varRefreshCmd": "print(var_dic_list())"
    },
    "r": {
     "delete_cmd_postfix": ") ",
     "delete_cmd_prefix": "rm(",
     "library": "var_list.r",
     "varRefreshCmd": "cat(var_dic_list()) "
    }
   },
   "types_to_exclude": [
    "module",
    "function",
    "builtin_function_or_method",
    "instance",
    "_Feature"
   ],
   "window_display": false
  }
 },
 "nbformat": 4,
 "nbformat_minor": 2
}
