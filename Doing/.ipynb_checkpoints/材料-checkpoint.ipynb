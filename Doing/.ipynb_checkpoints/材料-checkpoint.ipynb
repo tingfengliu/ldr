{
 "cells": [
  {
   "cell_type": "markdown",
   "metadata": {},
   "source": [
    "https://www.sohu.com/a/251081938_526255"
   ]
  },
  {
   "cell_type": "markdown",
   "metadata": {},
   "source": [
    "Adv. Funct. Mater.专题文章：第一性原理计算助力可再充电电池材料发展 \n",
    "\n",
    "http://www.sohu.com/a/196889042_472924  \n"
   ]
  },
  {
   "cell_type": "markdown",
   "metadata": {},
   "source": [
    "## 万字长文：带你从制备到应用全面了解二维过渡金属硫化物（TMDC）"
   ]
  },
  {
   "cell_type": "markdown",
   "metadata": {},
   "source": [
    " http://www.sohu.com/a/278483568_472924"
   ]
  },
  {
   "cell_type": "markdown",
   "metadata": {},
   "source": [
    "石墨烯[]=>TMD  柔韧性, 热稳定性, 光电器件, 电化学储能   \n",
    "\n",
    "MX2的结构以及一种制备方式 TMDCs层间也是通过范德瓦尔斯力层间生长的.所以，单层或者多层的TMD能够从体材料中剥离出来.  \n",
    "\n",
    "TMDCs有各种各样的物理性质，例如：他们可以作为绝缘体材料[7]（eg,HfS2),半导体（e.g.MoS2和WS2）[8, 9],金属（e.g.TiS2，VS2和NbSe2）[10, 11] \n",
    "\n",
    "大多数的TMD材料拥有三种相特征：三角形（1T）也叫做金属相，六角形（2H）以及3R[13].这三种相位不是固定不变的，在某种特定的条件中，他们之间是可以相互转化的.  \n",
    "\n",
    "电化学能量储存及转化的优点:  \n",
    "1）因为电化学反应总是发生在表面或者界面处，而TMDC材料有着较大的比表面积和原子曝光率，例如，TMDC的大的表面积为静电场吸附离子提供了丰富的位点，为高双电层电容的形成提供了条件.在HER反应过程中，未饱和硫原子在MoS2中充当催化点[14].2）\n",
    "\n",
    "获得单层二维材料Zhang课题组[26]通过电化学方法控制Li+在块体材料层间的插入量, 发展了合成单层二维层状结构的方法(图4)\n",
    "\n",
    "3.TMDC材料的光电应用 不太懂\n",
    "\n",
    "4. TMDC材料的电化学应用 重点  \n",
    "\n",
    "二维层状材料具有优异电子特性、高比表面积及良好的电子传导等特点, 可作为理想电极材料在电化学储能器中得到应用, 以期提高器件的能量密度、倍率性和循环稳定性等.\n",
    "二硒化钼颗粒在锂离子嵌入过程中, 粒径增加缓慢. 高度有序多孔结构一定程度上缓冲了材料形变, 确保了材料的优良循环稳定性. 同时, 在充放电过程中所形成的中间产物Li2Se, 其电导率显著高于Li2S, 所以**二硒化钼[42]**的倍率性能会好于二硫化钼材料\n",
    "\n",
    "**锂离子电池**\n",
    "**镁离子电池**.,WSe2[]49;\n",
    "**钠离子电池**[]\n",
    "\n",
    "Cui课题组[64]研究了一系**列过渡金属硒化物**(FeSe2, CoSe2, NiSe2, FeS2, NiS2和CoS2), 结果表明C/CoSe2复合纳米材料具有最优异的电化学析氢性能.   \n",
    "过渡金属硫化物/硒化物在钠离子电池中存在的机遇与挑战\n",
    "http://www.materialsviewschina.com/2017/12/27393/"
   ]
  },
  {
   "cell_type": "markdown",
   "metadata": {},
   "source": [
    "http://theory.cm.utexas.edu/henkelman/research/li_ion/\n",
    "小组    成员    教授    研究    代码    资助    出版物    论坛   \n",
    "可充电离子电池材料：结构和动力学\n",
    "小组成员\n",
    "Ieuan Seymour\n",
    "\n",
    "商用电池的当前需求是它们在一定温度范围内是安全，经济，稳定的并且具有高容量和充电速率以用于电动车辆和并网存储。可充电离子电池通常具有满足这些要求的潜力，但是电极和电解质的性质需要更多的理解，因为二次电池基本上受到这些组件的相互作用的限制。 \n",
    "\n",
    "我们研究了锂离子电池和钠离子电池电极和电解质的替代材料。使用各种过渡态和电子结构方法，我们预测电容/电压分布的影响因素，离子扩散机制，并为实验现象提供基本的理解。\n",
    "\n",
    "阴极\n",
    "\n",
    "LiFePO 4具有170mAh / g的理论比电荷容量和在各种温度下循环时的高稳定性，但由于缓慢的离子扩散而具有低的固有电子传导性。在实验和计算研究之间存在大量Li扩散的不一致报道，并且我们发现可能的解释是存在抗位点缺陷，其具有比沿着通道的扩散更低的扩散阻挡。我们还研究了Li在表面的键合，发现表面上未配位的Fe3 + / Fe4 +氧化还原对提供了高电荷转移势垒，但它可以通过氮或硫吸附来稳定。 \n",
    "\n",
    "Li嵌入通道中的橄榄石磷酸盐（FePO 4）\n",
    "\n",
    "氧损失可导致高容量的Li 2 MnO 3基富锂层状阴极，并且Mn的过渡金属取代可显着影响第一次充电/放电循环期间的氧损失量和容量。我们已经解释了过渡金属取代对来自用DFT + U计算的电子结构的富锂层状氧化物Li [Li 1/3 M 2/3 ] O 2中的氧损失的影响。我们发现阴极的带隙决定了氧结合能，因为未占用的金属带为去除的O中的电子提供空能级。 \n",
    "虽然锂离子电池由于具有高重量容量而优于其他二次电池，但钠离子电池因其在地壳中的天然丰度而备受关注，并为高重量容量密度不严格的并网存储应用提供了替代方案。需要。 \n",
    "\n",
    "Na x V 2 O 2（PO 4）2 F由我们的合作者使用环境友好的溶剂热法合成。实验电压曲线显示两个平台表明三个稳定相，而密度泛函理论计算确定了四个稳定相Na x V 2 O 2（PO 4）2 F的Na浓度x = 0,1,2,3产生Na化学势的三个值和Na嵌入的三个电压平台。我们的计算表明，由于VO键合状态的稳定性和Na与阴离子之间强烈的库仑吸引力，第三个Na将仅在5.3 V下被去除。该高电压在电解质相的（4.8V）稳定窗口之外，因此不能通过实验观察到。我们发现一种可能的方法来获得每个配方单元的第三个Na是用Cl代替O形成Na 3 V 2 Cl 2（PO 4）2通过实验证实，F没有显着降低材料的电池电位或能量密度。另外，我们表明Na 3-x Li x V 2 O 2（PO 4）2 F也可用作Li离子电池中的阴极，具有更高的倍率性能。\n",
    "\n",
    "阳极\n",
    "Li / TiO 2（B）是高容量阳极材料，其为氧化钛多晶型物家族。然而，TiO 2（B）已成功合成为不同的纳米结构，我们的合作者已经看到纳米3D和2D材料的差分电容图的差异。我们的研究表明，在单斜C2 / m TiO 2（B）主体中，两种不同的扩散机制是可能的，这取决于系统的维数。对于TiO 2（B）纳米颗粒，首先填充赤道TiO八面体附近的A2位点，然后在轴向TiO八面体附近的A1位点。在所研究的电压范围内未观察到开放通道C位点填充。相反，TiO 2（B）纳米片逐渐填充C位点，然后是A2和A1。DFT + U计算表明，不同的锂化机制与沿a轴的纳米片的细长几何形状有关，这减少了C和A2位点之间的Li Li相互作用。 \n",
    "\n",
    "TiO 2（B）3D纳米粒子（NP）和2D纳米片（NS）中Li嵌入位点和电压的比较\n",
    "固体电解质\n",
    "同样，常规有机溶剂/无机盐混合物的替代电解质将大大减少与电解质分解相关的容量损失和安全危害，这增加了对固体电解质的可行性的研究。 成功合成了一种对水和空气稳定\n",
    "\n",
    "的高纯度PP 13 PF 4离子晶体，并由我们的合作者进行了表征，并显示出7.2 V的宽电化学窗口，我们在计算上证实了这一点。离子晶体显示出增强的锂离子传输，离子电导率为2.4×10 -4室温升高时的S / cm。计算出的Li离子电导率仅为0.4eV的能垒与实验确定的活化能很好地匹配。此外，MD模拟表明离子晶体显示出促进锂离子传输的容易的分子运动。 \n",
    " \n",
    "PP 13 PF 4中Li扩散的最小能量路径\n",
    "参考\n",
    "GKP Dathar，D。Sheppard，KJ Stevenson和G. Henkelman，“ 橄榄石磷酸盐 中Li离子扩散的计算”， Chem。母校。 23，4032-4037（2011）。 DOI \n",
    "\n",
    "K.-S. Park，P。Xiao，S.-Y。Kim，A。Dylla，Y.-M。Choi，G。Henkelman，KJ Stevenson和JB Goodenough， 通过阴离子表面改性LiFePO 4增强电荷转移动力学， Chem。母校。 24，3212-3218（2012）。 DOI \n",
    "\n",
    "P.肖，ZQ邓，A. Manthiram，和G. Henkelman， 在富锂的阴极氧的稳定性的计算， J.物理学。化学。C 116，23201-23204（2012）。 DOI \n",
    "\n",
    "M.-W. Xu，P。Xiao，S。Stauffer，J。Song，G。Henkelman和JB Goodenough， 用于可充电电池的钒基氟磷酸盐阴极的理论和实验研究， Chem。母校。 26，3089-3097（2014）。 DOI \n",
    "\n",
    "AG Dylla，G。Henkelman和KJ Stevenson， 纳米结构TiO 2（B）结构中的锂插入， Acc。化学。RES。 46，1104至12年（2013年）。 DOI \n",
    "\n",
    "AG Dylla，P。Xiao，G。Henkelman和KJ Stevenson， 纳米晶TiO中锂插入的形态依赖性2（B）纳米颗粒和纳米片， J.Phys。化学。快报。 3，2015至19年（2012年）。 DOI \n",
    "\n",
    "S. Murugesan，OA Quintero，BP Chou，P。Xiao，K.-S。公园，JW霍尔，RA琼斯，G. Henkelman，JB古迪纳夫，和KJ史蒂文森， 在正电性金属电沉积和固态锂离子电池使用电化学窗口宽离子盐， J.母校。化学。阿 2，2194至2201年（2014）。 DOI"
   ]
  },
  {
   "cell_type": "markdown",
   "metadata": {},
   "source": [
    "## 材料基因组技术在新能源材料领域应用进展"
   ]
  },
  {
   "cell_type": "markdown",
   "metadata": {},
   "source": [
    "2). **Machine-learning-assisted materials discovery using failed experiments**  \n",
    "无机 - 有机杂化材料，如有机模板化金属氧化物，金属有机骨架（MOFs）和有机卤化物钙钛矿已经研究了数十年，水热和（非水）溶剂热合成已经产生了数以千计的新材料，几乎包含所有的元素周期表中的金属。然而，这些化合物的形成尚不完全清楚，新化合物的开发主要依赖于探索性合成。模拟和数据驱动的方法（由材料基因组计划等工作推动）提供了实验试验和错误的替代方法。三个主要策略是：基于模拟的物理特性预测（例如，电荷迁移率，光伏特性，气体吸附能力或锂离子嵌入），以确定合成努力的有希望的目标候选者; 通过与高通量综合和测量工具相结合，确定大量实验数据的结构 - 性质关系; 基于相似的晶体结构（例如，沸石结构分类或气体吸附性质）聚集。在这里，我们展示了一种替代方法，该方法使用机器学习算法训练反应数据来预测模板化钒亚硒酸盐结晶的反应结果。我们使用了来自我们实验室的归档实验室笔记本中收集的“黑暗”反应 - 失败或不成功的水热合成的信息，并使用化学信息学技术将原始化学性质描述添加到原始笔记本信息中。我们使用得到的数据来训练机器学习模型以预测反应成功。当使用以前未经测试的商业化有机构件进行水热合成实验时，我们的机器学习模型优于传统的人类策略，并成功预测了新的有机模板化无机产品形成条件，成功率为89％。反转机器学习模型揭示了关于成功产品形成条件的新假设    \n",
    "get 1点: https://github.com/darkreactions  Github的\n",
    "\n",
    "10). **Phase transformations and volume changes in spinel Li Mn O x 2 4**  \n",
    "已经使用DFT来计算尖晶石 ${Li}_xMnO$ 的相图和体积膨胀(作为锂含量的函数).\n",
    "计算证实了实验所观察到的在 x=1和x=2和x=1/2(有序相位)之间的两相区域.\n",
    "另外, 预期的最大电压台阶出现在x=1时 .\n",
    "结果表明,这些现象是由Li(Li-Li也有相互作用)和主体MnO的相互作用决定的(定性上),并且仅受到更微妙的电子效应(如Jahn-Teller畸变,电荷有序和磁激发)的定量影响.\n",
    "x=1-2之间的两相区域由占据相邻四面体8a和八面体16c位点的锂离子之间的强排斥相互作用驱动. \n",
    "从第一原理研究了从LiMnO转变为Li2MnO后的大体积变化的起源.\n",
    "体积变化的可能来源被确定为插入锂,Jahn-Teller变形,以及将抗键合e_g电子引入Mn d轨道.\n",
    "发现后一种效应占主导地位.对于如何防止二氧化锰锂化时的大体积变化提供了一些推测.\n"
   ]
  },
  {
   "cell_type": "markdown",
   "metadata": {},
   "source": [
    "11). 层嵌化合物种Li的扩散机理 \n",
    "我们从第一原理研究了层状插层化合物中锂扩散的机理。\n",
    "我们专注于 ${Li}_xCoO_2$ 和 发现该化合物中的锂扩散主要发生在双双空位机制中。\n",
    "激活势垒对锂浓度非常敏感 由于主体的c-晶格参数的强烈变化和变化， 有效的钴离子价。 \n",
    "这转化为扩散系数，其随着状态的变化而变化几个数量级."
   ]
  },
  {
   "cell_type": "markdown",
   "metadata": {},
   "source": [
    "14) **First-principles calculations of lithium ordering and phase stability on LixNiO2**\n",
    "结合DFT和蒙特卡罗模拟计算了LixNiO2 (0,x,1)的相图。\n",
    "Li空位构型无序的能量依赖性通过簇扩展进行了参数化.\n",
    "在室温下，有序的LixNiO2相出现在相图中x=1/4、1/3、2/5、1/2和3/4处。\n",
    "在x=1/4和1/3处锂空位序(lithium-vacancy ordering)的预测与实验结果吻合较好，而在其他阶段则没有详细的实验证据。\n",
    "我们预测，在x=2/5处存在一个以前未检测到的相位，以主导低锂含量时的相位图。\n",
    "有序LixNiO2结构的稳定性由短程排斥的面内Li-Li相互作用和长程有吸引力的层间Li-Li相互作用决定.\n",
    "这些有吸引力的层间Li-Li相互作用是由于Ni13离子的Jahn-Teller活性.\n",
    "因此，尽管LixNiO2与LixCoO2的主体结构相同，且Co和Ni的离子尺寸相近，但LixNiO2的行为与LixCoO2有着本质的区别。"
   ]
  },
  {
   "cell_type": "markdown",
   "metadata": {},
   "source": [
    "19) **Evaluation of tavorite-structured cathode materials for lithium-ion batteries using high-throughput computing.**用高通量计算评价用于锂离子电池的Tavorite结构阴极材料  \n",
    "具有类似于矿物质tavorite的结构的阴极材料已经显示出用于锂离子电池的前景,但是这类材料是相对未开发的.\n",
    "我们使用高通量密度泛函理论计算来评估tavorite结构的磷酸盐,氟磷酸盐,氧硫酸盐和氟硫酸盐,用作锂离子电池的阴极材料.\n",
    "对于每一种材料，我们都要考虑在每一种氧化还原活性金属中插入一个或两个锂离子, 计算相对于近100,000个先前计算的化合物的数据库的平均电压和稳定性.\n",
    "为了评估锂迁移率,我们计算了通过已知的Tavorite阴极材料LiVO(PO4),LiV(PO4)F和LiFe(SO4)F的锂扩散的活化能.\n",
    "我们的计算表明,tavorite结构的材料能够具有非常高的一维锂扩散速率,并且几种tavorite结构的材料能够每个氧化还原活性金属可逆地插入两个锂离子."
   ]
  },
  {
   "cell_type": "markdown",
   "metadata": {},
   "source": [
    "[锂离子电池正极材料第一性原理计算研究进展](https://pubs.acs.org.ccindex.cn/doi/full/10.1021/ar2002396?src=recsys)\n",
    "为了满足日益增长的储能需求，尤其是插电式混合动力汽车等交通运输应用，研究人员需要开发出具有高能量密度，高功率，更好安全性和更长循环寿命的改进型锂离子电池电极材料。 。材料发现，合成和优化的加速将受益于实验和计算方法的结合。第一原理（ab Initio）计算方法已广泛应用于材料科学，可在加速新能源储存材料的开发和优化方面发挥重要作用。这些方法可预先筛选以前未知的化合物，并可解释用这些化合物观察到的复杂现象\n",
    "\n",
    "插层化合物，其中Li +离子插入主体结构而不会引起原始结构的显着重排，已经成为锂离子可充电电池电极的主力。插层化合物还将促进新电池化学品（如钠离子电池）的开发。在电化学放电反应过程中，嵌入物质从负电极行进到正电极，将正电极中的过渡金属离子驱动到较低的氧化态，从而提供有用的电流。许多材料特性随着嵌入物质浓度（在不同的充电状态下）而变化。因此，研究人员需要了解和控制这些动态变化，以优化电池的电化学性能。在此帐户中，2），尖晶石氧化物$LiM_2O_4$，橄榄石磷酸盐 $LiMPO_4$，硅酸盐- $Li_2MSiO_4$ 和 tavorite-$LiM(XO_4)F$（塔佛拉特, M = 3d过渡金属元素）。对于这五类材料，我们描述了晶体结构，氧化还原电位，离子迁移率，可能的相变机制和结构稳定性变化，以及这些特性与高能量，高功率发展的相关性，低成本的电化学系统。这些结果证明了计算工具在实际材料开发中的重要性，优化或最小化实验合成和测试，以及预测材料在不同条件下的性能。\n",
    "\n",
    "在本账户中，我们已经说明了第一性原理计算如何加速锂离子电池储能电极材料的搜索。必须开发具有高能量，高功率，更好安全性和更长循环寿命的新电极材料，以满足日益增长的能量存储需求，特别是在诸如插入式HEV的运输应用中。我们已经证明了使用基于DFT的第一原理方法预测电极材料的相关特性（包括电压，结构稳定性，电子特性等）的成就。总之，这些能力建立了第一原理计算，作为设计锂离子电池新电极材料的宝贵工具。（45）然而，尽管有这些能力，重要的是要认识到仍然需要解决许多挑战; 预测新机制（除了插层），纳米材料的新特性，以及对表面和界面的原子理解仍然是第一原理计算的挑战。计算材料设计的含义远远超出锂离子电池材料领域。我们将在不久的将来看到的是先进材料发现和部署的范式转变。计算工具对于实现真实材料开发，优化或最小化传统实验测试以及在不同条件下预测材料性能至关重要。"
   ]
  },
  {
   "cell_type": "markdown",
   "metadata": {},
   "source": [
    "[20]: **Data-mining-driven quantum mechanics for the prediction of structure**  \n",
    "晶体结构的预测是材料科学中一个关键的突出问题,也是计算材料设计的基础.\n",
    "我们认为,通过将量子力学的预测准确性与数据挖掘工具相结合,从大量历史实验或计算结果中提取知识,可以成功解决这个问题. 结论\n",
    "这些示例表明数据挖掘能够捕获非隐式规则中的历史知识,并利用它们快速推动量子力学向低能量结构发展.\n",
    "我们相信知识方法和量子力学之间的这种协同作用解决了目前结构预测方法中存在的局限性.\n",
    "虽然计算量子力学非常准确,但它并不具有启发性,只能通过用户的经验来融入知识.\n",
    "另一方面,已经开发了许多启发式方法以将**材料的结构与其组成元素的简单属性相关联**.\n",
    "使用电负性,原子尺寸或周期表中的简单位置的结构图在组织各种结构类型方面取得了实质性成功.\n",
    "虽然这种启发式方法对控制结构选择的物理机制产生了相当大的洞察力,但是它们的准确性受到关于什么构成相关物理参数的假设的限制,并且通常仅关注于元素属性.\n",
    "数据挖掘方法的一个优点是不需要先验地识别重要参数,并且可以自动挖掘大型复杂数据集(如已知的金属间结构)以获取其隐藏信息.\n",
    "此外,典型的启发式方法缺乏系统地提高预测能力的机制.\n",
    "使用数据挖掘来建议可以通过量子力学快速分类的有意义的结构候选列表,将知识方法的暗示性特征与量子力学的准确性结合起来,是预测晶体结构问题的实用和功能性解决方案.\n",
    "数据挖掘方法与科学中的演绎逻辑方法完全不同,通常在消费者偏好研究,商业和社会科学中更常见.\n",
    "理想情况下,人们可以通过理解和形式化与所有相关潜在微观现象的关系来预测材料的宏观特性.\n",
    "虽然这种方法通常在理论上对物理科学家来说更令人满意,但许多材料的复杂性以及需要桥接的长度和时间尺度有时会使演绎方法几乎不可能.\n",
    "对于难以创建或实施正式粗粒度理论以从微观计算预测宏观性质的属性,数据挖掘(其允许基本关系以归纳方式建立)可以是替代方法.\n",
    "数据挖掘技术已经适用于许多材料特性,包括沸点,蠕变,机械焊接特性,时间 - 温度转换图和催化活性(参见参考文献18中的评论).\n",
    "晶体结构现在加入了许多正在使用数据挖掘方法处理的材料属性."
   ]
  },
  {
   "cell_type": "markdown",
   "metadata": {},
   "source": [
    "[18]: **First principles high throughput screening of oxynitrides for water-splitting photocatalysts**  \n",
    "在本文中，我们提出了第一个原理高通量筛选系统，以寻找新的水分解光催化剂。我们使用这种方法来筛选氮化物和氮氧化物。筛选的化学空间中的大多数已知的光催化材料被复制。此外，筛选方法提出了16种新材料作为有前途的光催化剂，包括三种二元氮化物，两种三元氮氧化物和十一种季氮氧化物。"
   ]
  },
  {
   "cell_type": "markdown",
   "metadata": {},
   "source": [
    "21: **用于密度泛函理论计算的高通量基础设施**A high-throughput infrastructure for density functional theory calculations  \n",
    "使用高通量密度泛函理论(DFT)计算来筛选新材料并进行基础研究,为材料科学和材料创新提供了一个令人兴奋的机会.\n",
    "高通量DFT通常涉及数百,数千或数万种化合物的计算,并且这种规模的变化需要新的计算和数据管理方法.\n",
    "在本文中,我们描述了这些项目的必要数据基础架构的各个方面,以便以可扩展的方式处理数据生成和数据分析.\n",
    "我们讨论了使用单一交换相关函数精确计算化合物在不同化学空间中的性质的问题,**并证明了广义梯度近似中的误差高度依赖于化学环境**."
   ]
  },
  {
   "cell_type": "markdown",
   "metadata": {},
   "source": [
    "[22]: Phosphates as Lithium-Ion Battery Cathodes: An Evaluation Based on High-Throughput ab Initio Calculations  \n",
    "磷酸盐材料正在作为锂离子电池电极进行广泛研究。在这项工作中，我们提出了一个高吞吐量的ab initio磷酸盐作为阴极材料的分析。在数千种化合物上计算评估容量，电压，比能量，能量密度和热稳定性。确定了磷酸盐化学固有的重量和体积容量方面的限制。提供磷酸盐中所有氧化还原对的电压范围，并分析影响电压的结构因素。我们重新研究磷酸盐材料是否具有固有的安全性，并发现，对于相同的氧化态，磷酸盐在较低温度下的热释放发生氧气释放比氧化物。这些发现用于推荐磷酸盐类中的特定化学物质，并显示当前感兴趣的某些物质的固有限制（例如，LiCoPO 4和LiNiPO 4））。"
   ]
  },
  {
   "cell_type": "markdown",
   "metadata": {},
   "source": [
    "[23]: **Data mined ionic substitutions for the discovery of new compounds**  \n",
    "数据挖掘离子取代发现新的化合物\n",
    "固态化学家通常假定存在新的化合物，用化学上类似的离子取代已知化合物晶体结构中的离子。\n",
    "在这项工作中，我们提出了如何通过离子替换在数学框架中表达这种新的化合物发现过程。\n",
    "我们提出了一个概率模型来评估离子在保持晶体结构的同时相互取代的可能性。\n",
    "该模型建立在晶体结构实验数据库的基础上，可以定量地提出新的化合物及其结构。\n",
    "通过对四元离子化合物的交叉验证，验证了该模型的预测能力。\n",
    "分析了模型中嵌入的不同取代规则，并与固相化学家提出新化合物(如离子尺寸)时使用的一些传统规则进行了比较。"
   ]
  },
  {
   "cell_type": "markdown",
   "metadata": {},
   "source": [
    "[25]材料成分之间的数据挖掘相似性函数  \n",
    "描述了一种评估材料组成相似性的新方法。相似性度量对于组合物的分类和聚类是重要的。基于在相同结构原型内两种离子将彼此替代的概率，利用数据挖掘的离子取代相似性来计算材料组成的相似性。该方法通过预测无机晶体结构数据库中氧化物的晶体结构原型来验证，在75％的时间内在五个猜测中从已知原型列表中选择正确的原型。它在四元氧化物上表现特别好，在65％的时间内首次猜测从已知原型列表中选择正确的原型。"
   ]
  },
  {
   "cell_type": "markdown",
   "metadata": {},
   "source": [
    "[54]: 层状Li（Ni x Mn y Co z）O 2中热稳定性的调整\n",
    "理解和进一步设计具有优化的热稳定性的新的层状Li（Ni x Mn y Co z）O 2（NMC）（x + y + z = 1）材料对于用于电动车辆（EV）的可充电锂电池（LIB）是重要的。使用ab initio计算结合实验，我们阐明了NMC材料的热稳定性如何通过最不稳定的氧来调节，这是由氧的局部配位结构单元（LCSU）（TM（Ni，Mn，Co）3）决定的。 -O-Li 3- x '）：每个O原子与来自TM层的三种过渡金属（TM）和从Li层完全放电到充电状态的三到零Li结合。在这个模型下，锂的含量，Ni的价态，Ni，Mn和Co的含量以及Ni / Li的混乱如何通过影响NMC材料的位置，含量和释放温度来调节NMC材料的热稳定性。提出了不稳定的氧气。在脱锂过程中Li空位与Ni的升高价态之间的协同效应会加剧氧的不稳定性，并且在固定的脱锂状态下，LSCU中与更多镍（特别是高价态）配位的氧变得更不稳定。Ni / Li混合会降低“Ni = Mn”族NMC材料的热稳定性，但有利于“富Ni”基团的热稳定性，因为Li层中的Ni会在“富Ni”NMC材料中形成180°Ni-O-Ni超级交换链。Mn和Co掺杂可以调节Ni的初始价态，氧的局部配位环境和Ni / Li无序，从而直接调节热稳定性。"
   ]
  },
  {
   "cell_type": "code",
   "execution_count": 31,
   "metadata": {},
   "outputs": [
    {
     "name": "stdout",
     "output_type": "stream",
     "text": [
      "\n",
      "数据挖掘离子取代发现新的化合物\n",
      "固态化学家通常假定存在新的化合物，用化学上类似的离子取代已知化合物晶体结构中的离子。\n",
      "在这项工作中，我们提出了如何通过离子替换在数学框架中表达这种新的化合物发现过程。\n",
      "我们提出了一个概率模型来评估离子在保持晶体结构的同时相互取代的可能性。\n",
      "该模型建立在晶体结构实验数据库的基础上，可以定量地提出新的化合物及其结构。\n",
      "通过对四元离子化合物的交叉验证，验证了该模型的预测能力。\n",
      "分析了模型中嵌入的不同取代规则，并与固相化学家提出新化合物(如离子尺寸)时使用的一些传统规则进行了比较。\n"
     ]
    }
   ],
   "source": [
    "youdao2(\"\"\" \n",
    "Data mined ionic substitutions for the discovery of new compounds\n",
    "The existence of new compounds is often postulated by solid state chemists by replacing an ion in the crystal structure of a known compound by a chemically similar ion. \n",
    "In this work, we present how this new compound discovery process through ionic substitutions can be formulated in a mathematical framework.\n",
    "We propose a probabilistic model assessing the likelihood for ionic species to substitute for each other while retaining the crystal structure. \n",
    "This model is trained on an experimental database of crystal structures, and can be used to quantitatively suggest novel compounds and their structures. \n",
    "The predictive power of the model is demonstrated using cross-validation on quaternary ionic compounds.\n",
    "The different substitution rules embedded in the model are analyzed and compared to some of the traditional rules used by solid state chemists to propose new compounds (e.g., ionic size).\n",
    "\n",
    "\"\"\")"
   ]
  },
  {
   "cell_type": "markdown",
   "metadata": {},
   "source": [
    "开放量子材料数据库（OQMD）：评估DFT形成能量的准确性https://www.nature.com/articles/npjcompumats201510  \n",
    "开放量子材料数据库（OQMD）是一个高通量数据库，目前包含近300,000密度泛函理论（DFT）的无机晶体结构数据库（ICSD）化合物的总能量计算和常见晶体结构的装饰。为了最大限度地发挥这些数据的影响，整个数据库都可以在www.oqmd.org/download上免费获得。在本文中，我们概述了数据库的结构和内容，然后通过比较DFT预测与所有元素基态结构的稳定性和化合物的1,670个实验形成能的实验测量来评估其中的计算的准确性。 。这代表了迄今为止DFT与实验形成能量之间的最大比较。实验测量与我们的计算之间的表观平均绝对误差为0.096eV / atom。为了估计归因于DFT计算的误差量，我们还检查了多个源可用的不同实验测量值之间的偏差，并发现了惊人的大平均绝对误差0.082 eV / atom。因此，我们认为DFT和实验形成能量之间的很大一部分误差可能归因于实验的不确定性。最后，我们评估化合物在OQMD中的稳定性（包括从ICSD获得的化合物以及假设结构），这使我们能够预测大约3,200种新化合物的存在，这些化合物尚未通过实验表征并揭示物质发现的趋势，根据ICSD内提供的历史数据。\n",
    "\n"
   ]
  },
  {
   "cell_type": "code",
   "execution_count": null,
   "metadata": {},
   "outputs": [],
   "source": []
  },
  {
   "cell_type": "markdown",
   "metadata": {},
   "source": []
  },
  {
   "cell_type": "markdown",
   "metadata": {},
   "source": []
  },
  {
   "cell_type": "markdown",
   "metadata": {},
   "source": []
  },
  {
   "cell_type": "markdown",
   "metadata": {},
   "source": [
    "1. cathode: ['kæθəʊd], n. 阴极\n",
    "1. anode: ['ænəʊd]\n",
    "n. 阳极(电解池)\n",
    "n. 负极(原电池)\n",
    "1. scalable: ['skeɪləb(ə)l]\n",
    "adj. 可攀登的;可去鳞的;可称量的"
   ]
  },
  {
   "cell_type": "markdown",
   "metadata": {},
   "source": []
  },
  {
   "cell_type": "markdown",
   "metadata": {},
   "source": []
  },
  {
   "cell_type": "markdown",
   "metadata": {},
   "source": []
  },
  {
   "cell_type": "markdown",
   "metadata": {},
   "source": []
  },
  {
   "cell_type": "markdown",
   "metadata": {},
   "source": []
  },
  {
   "cell_type": "markdown",
   "metadata": {},
   "source": []
  },
  {
   "cell_type": "markdown",
   "metadata": {},
   "source": []
  },
  {
   "cell_type": "markdown",
   "metadata": {},
   "source": []
  },
  {
   "cell_type": "markdown",
   "metadata": {},
   "source": []
  },
  {
   "cell_type": "markdown",
   "metadata": {},
   "source": []
  },
  {
   "cell_type": "markdown",
   "metadata": {},
   "source": [
    "1. genome: ['dʒiːnəʊm]  n. 基因组;染色体组\n",
    "1. lifecycle: [laɪf'saɪkl]  n. 生命周期\n",
    "1. spinel: ['spɪnəl]  n. [矿物] 尖晶石\n",
    "1. the ordered phase: 有序相\n",
    "1. "
   ]
  }
 ],
 "metadata": {
  "kernelspec": {
   "display_name": "Python 3",
   "language": "python",
   "name": "python3"
  },
  "toc": {
   "base_numbering": 1,
   "nav_menu": {},
   "number_sections": true,
   "sideBar": true,
   "skip_h1_title": false,
   "title_cell": "Table of Contents",
   "title_sidebar": "Contents",
   "toc_cell": false,
   "toc_position": {},
   "toc_section_display": true,
   "toc_window_display": false
  },
  "varInspector": {
   "cols": {
    "lenName": 16,
    "lenType": 16,
    "lenVar": 40
   },
   "kernels_config": {
    "python": {
     "delete_cmd_postfix": "",
     "delete_cmd_prefix": "del ",
     "library": "var_list.py",
     "varRefreshCmd": "print(var_dic_list())"
    },
    "r": {
     "delete_cmd_postfix": ") ",
     "delete_cmd_prefix": "rm(",
     "library": "var_list.r",
     "varRefreshCmd": "cat(var_dic_list()) "
    }
   },
   "types_to_exclude": [
    "module",
    "function",
    "builtin_function_or_method",
    "instance",
    "_Feature"
   ],
   "window_display": false
  }
 },
 "nbformat": 4,
 "nbformat_minor": 2
}
