{
 "cells": [
  {
   "cell_type": "markdown",
   "metadata": {},
   "source": [
    "**变分**: 最速降线  \n",
    "变分法概念与寻常分析中的微分概念很为类似，但所联系的不是x的变化，而是函数y（x）的变化。如果函数y（x）使U（y）达其极值，则U的变分δU变为0。"
   ]
  },
  {
   "cell_type": "markdown",
   "metadata": {},
   "source": [
    "**动力学**: 研究, 在力的作用下产生运动的学科, 研究的物理量是速度"
   ]
  },
  {
   "cell_type": "markdown",
   "metadata": {},
   "source": [
    "物理化学中讲过: **热力学**讨论反应能否发生的问题, **动力学**讨论反应进行的快慢"
   ]
  },
  {
   "cell_type": "markdown",
   "metadata": {},
   "source": [
    "物体受外磁场吸引或排斥的性质叫做**磁性**(magnetism), 该物体叫做**磁体**(任何物体都会受到磁场的作用, 任何物体都是磁体?).  \n",
    "**磁极**: 磁体上磁性最强的部分叫做磁极, 磁体无论多小, 都有两个磁极, 已知指向N, 一个指向S.   \n",
    "**磁场**: 磁极周围存在磁场(可以使用磁力线表征), 磁场是磁体之间相互作用的媒介.   \n",
    "**磁荷**: 电场电荷在磁场中的等视物, 也可分为正磁荷和负磁荷.   \n",
    "**磁场强度**: 类似于电场强度, 单位正磁荷在磁场中所受的力就是**磁场强度**. 后来安培提出**分子电流假说**, 认为并不存在磁荷, 磁现象的本质是分子电流. 自此, 磁场的强度多用**磁感应强度**B表示. 但是在磁介质的磁化问题中, 磁场强度H作为一个导出的辅助量仍然发挥着重要作用.  \n",
    "**洛伦兹力**:  \n",
    "**磁通量**:  \n",
    "**磁通量密度**:  \n",
    "**磁化强度**: magnetization\n",
    "**磁感应强度**:  \n",
    "真空中的磁感应强度:  \n",
    "**磁矩**:  \n",
    "**磁化率**: magnetic susceptibility;  \n",
    "常用符号 $\\chi$ 表示. 等于磁化强度M与磁场强度H之比，即 $\\chi =\\frac{M}{H}$.    \n",
    "对于顺磁质, $\\chi>0$, 对于抗磁质, $\\chi < 0 $, 其值都很小, 对于铁磁质, $\\chi$很大, 且还与H有关(即M与H之间有复杂的非线性关系).   \n",
    "对于各向同性磁介质, $\\chi$ 是标量, 对于各向异性磁介质, 磁化率是一个二阶张量.\n",
    "\n",
    "**抗磁性**:  \n",
    "**顺磁性**:  \n",
    "**铁磁性**:  \n",
    "反铁磁性:  \n",
    "亚铁磁性:  "
   ]
  },
  {
   "cell_type": "markdown",
   "metadata": {},
   "source": [
    "**Chemical evolution**: 生物进化(biological evolution) => 化学演化"
   ]
  },
  {
   "cell_type": "markdown",
   "metadata": {},
   "source": [
    "**价键理论**: valence-bond theory，一种获得分子薛定谔方程近似解的处理方法。又称**电子配对法**。历史上最早发展起来的化学键理论。其核心思想是`原子间相互接近轨道重叠`，`原子间共用自旋相反的电子对`使能量降低而成键。"
   ]
  },
  {
   "cell_type": "markdown",
   "metadata": {},
   "source": [
    "分子轨道理论: 分子轨道是由原子轨道线性组合而成, 允许电子在整个分子中运动, 而价键理论只允许电子在各自的化学键中运动, 马利肯1966年诺贝尔化学奖.  分子轨道理论是由Slater,Hunt, Huckel, Mulliken等人建立. Huckel提出在MO方法中引入某些近似, 是计算大大简化, 即HMO法, 是处理体系由H2扩大值有机共轭分子(Pi电子体系).  环状共轭多烯化物种 Pi电子数复合4n+2(n=1,2,3)芳香性者具有芳香性.  "
   ]
  },
  {
   "cell_type": "markdown",
   "metadata": {},
   "source": [
    "从头算/半经验:  "
   ]
  },
  {
   "cell_type": "markdown",
   "metadata": {},
   "source": [
    "Enrico Clementi: 恩里科$\\cdot$克莱门蒂  \n",
    "Giorgina Corongiu: 乔吉纳$\\cdot$科伦吉屋"
   ]
  },
  {
   "cell_type": "code",
   "execution_count": 6,
   "metadata": {
    "scrolled": false
   },
   "outputs": [
    {
     "name": "stdout",
     "output_type": "stream",
     "text": [
      "哈特里\n"
     ]
    }
   ],
   "source": [
    "ggtrans(\"Hartree\")"
   ]
  },
  {
   "cell_type": "markdown",
   "metadata": {},
   "source": [
    "Uhlenbeck: 乌伦贝克  \n",
    "Goudsmith: 古德史密斯  \n",
    "Hartree: 哈特里(/哈吹/)"
   ]
  },
  {
   "cell_type": "code",
   "execution_count": 7,
   "metadata": {},
   "outputs": [
    {
     "name": "stdout",
     "output_type": "stream",
     "text": [
      "26: 1s2 2s2 2p6 3s2 3p6 3d6 4s2\n",
      ">>>>>>>>>>>>>>>>>>>>>>>>>>>>>>>>>>>>>>>>>>>>>>>>>>>>>>>>>>>>>>>>>>>>>>\n",
      "H                                                                   He \n",
      "Li  Be                                          B   C   N   O   F   Ne \n",
      "Na  Mg                                          Al  Si  P   S   Cl  Ar \n",
      "K   Ca  Sc  Ti  V   Cr  Mn  Fe  Co  Ni  Cu  Zn  Ga  Ge  As  Se  Br  Kr \n",
      "Rb  Sr  Y   Zr  Nb  Mo  Tc  Ru  Rh  Pd  Ag  Cd  In  Sn  Sb  Te  I   Xe \n",
      "Cs  Ba      Hf  Ta  W   Re  Os  Ir  Pt  Au  Hg  Tl  Pb  Bi  Po  At  Rn \n",
      "Fr  Ra                                                                 \n",
      "        La  Ce  Pr  Nd  Pm  Sm  Eu  Gd  Tb  Dy  Ho  Er  Tm  Yb  Lu     \n",
      "        Ac  Th  Pa  U   Np  Pu  Am  Cm  Bk  Cf  Es  Fm  Md  No  Lr     \n"
     ]
    }
   ],
   "source": [
    "electronic_structure(\"Fe\",ppt=1)"
   ]
  },
  {
   "cell_type": "markdown",
   "metadata": {},
   "source": [
    "# 附录:"
   ]
  },
  {
   "cell_type": "markdown",
   "metadata": {},
   "source": [
    "从历届诺贝尔奖了解科技史:  \n",
    "诺贝奖官网: https://www.nobelprize.org/;  \n",
    "历届诺贝尔奖: https://wenku.baidu.com/view/c138c1f129ea81c758f5f61fb7360b4c2e3f2ab1.html"
   ]
  },
  {
   "cell_type": "markdown",
   "metadata": {},
   "source": [
    "## 物理学奖"
   ]
  },
  {
   "cell_type": "markdown",
   "metadata": {},
   "source": [
    "https://www.nobelprize.org/prizes/lists/all-nobel-prizes-in-physics/"
   ]
  },
  {
   "cell_type": "markdown",
   "metadata": {},
   "source": [
    "诺贝尔物理学奖2018年: 激光物理领域\n",
    "* Arthur Ashkin “用于光学镊子及其在生物系统中的应用”\n",
    "* GérardMourou和Donna Strickland “为他们生成高强度，超短光脉冲的方法”\n",
    "\n",
    "2017年诺贝尔物理学奖: Rainer Weiss，Barry C. Barish和Kip S. Thorne “LIGO探测器和引力波的观测”"
   ]
  },
  {
   "cell_type": "markdown",
   "metadata": {},
   "source": [
    "2016年诺贝尔物理学奖: David J. Thouless，F。Duncan M. Haldane和J. Michael Kosterlitz “关于拓扑相变和物质拓扑阶段的理论发现”"
   ]
  },
  {
   "cell_type": "markdown",
   "metadata": {},
   "source": [
    "2015年诺贝尔物理学奖: Takaaki Kajita和Arthur B. McDonald “发现了中微子振荡，这表明中微子具有质量”\n",
    "\n",
    "2014年诺贝尔物理学奖: Isamu Akasaki，Hiroshi Amano和Shuji Nakamura “发明了高效的蓝色发光二极管，实现了明亮节能的白光源”"
   ]
  },
  {
   "cell_type": "markdown",
   "metadata": {},
   "source": [
    "2013年诺贝尔物理学奖: FrançoisEnglert和Peter W. Higgs, 描述了粒子物理学的标准模型,预测了基本粒子--希格斯玻色子, 被欧洲核子研究中心的大型强子对撞机发现\n",
    "\n",
    "2012年诺贝尔物理学奖: Serge Haroche和David J. Wineland “用于开发能够测量和**操纵单个量子系统**的突破性实验方法”\n",
    "\n",
    "2011年诺贝尔物理学奖: Saul Perlmutter，Brian P. Schmidt和Adam G. Riess “通过观察遥远的超新星来发现宇宙的加速膨胀”"
   ]
  },
  {
   "cell_type": "markdown",
   "metadata": {},
   "source": [
    "2010年: 安德烈.盖姆(Andre Geim)和诺沃肖洛夫(Novoselov), **石墨烯的发现**\n",
    "\n",
    "2009年: \n",
    "* Charles Kuen Kao “关于光通信光纤传输的突破性成就”\n",
    "* Willard S. Boyle和George E. Smith “发明成像半导体电路 - CCD传感器”\n",
    "\n",
    "2008年: \n",
    "* Yoichiro Nambu “用于发现亚原子物理中自发破裂对称的机制”\n",
    "* Makoto Kobayashi和Toshihide Maskawa “为了发现破碎对称性的起源，预测至少存在三个夸克家族的存在”\n",
    "\n",
    "2007年: Albert Fert和PeterGrünberg “发现巨磁电阻”\n",
    "\n",
    "2006年: John C. Mather和George F. Smoot “因为他们发现了宇宙微波背景辐射的黑体形态和各向异性”\n",
    "\n",
    "2005年: \n",
    "* Roy J. Glauber “因为他对光学相干量子理论的贡献”\n",
    "* John L. Hall和TheodorW.Hänsch “为开发基于激光的精密光谱学做出了贡献，包括光学频率梳技术”\n",
    "\n",
    "2004年: David J. Gross，H。David Politzer和Frank Wilczek “在强相互作用理论中发现了渐近自由”"
   ]
  },
  {
   "cell_type": "markdown",
   "metadata": {},
   "source": [
    "2003年: Alexei A. Abrikosov，Vitaly L. Ginzburg和Anthony J. Leggett 超导体和超流体理论\n",
    "\n",
    "2002年: \n",
    "* Raymond Davis Jr.和Masatoshi Koshiba “对宇宙物理学的开拓性贡献，尤其是宇宙中微子的探测”\n",
    "* Riccardo Giacconi “为天体物理学做出了开创性的贡献，导致了宇宙X射线源的发现”\n",
    "\n",
    "2001: Cornell(康奈尔)，**科勒特(Ketterle)**和Wieman(维曼) 碱金属原子稀薄气体的玻色-爱因斯坦凝聚态, 凝聚态物质性质"
   ]
  },
  {
   "cell_type": "markdown",
   "metadata": {},
   "source": [
    "2000年:“关于信息和通信技术的基础工作”\n",
    "* Zhores I. Alferov和Herbert Kroemer “开发用于高速和光电子的半导体异质结构”\n",
    "* Jack S. Kilby “参与了集成电路的发明”\n",
    "\n",
    "1999年: 霍夫特(Hooft)韦尔特曼(Veltman), 阐明**电弱相互作用的量子结构**\n",
    "\n",
    "1998年: Robert B. Laughlin，HorstL.Störmer和Daniel C. Tsui, 分数量子霍尔效应\n",
    "\n",
    "1997年:Steven Chu，Claude Cohen-Tannoudji和William D. Phillips, 激光冷却和捕获原子\n",
    "\n",
    "1996年: David M. Lee，Douglas D. Osheroff和Robert C. Richardson “因为他们发现了氦-3中的超流性”\n",
    "\n",
    "1995: “对于轻子物理的开创性实验贡献”\n",
    "* Martin L. Perl “发现tau轻子”\n",
    "* Frederick Reines “检测中微子”\n",
    "\n",
    "1994年: 在凝聚态物质研究中发展了中子散射技术\n",
    "* Bertram N. Brockhouse “用于中子光谱学的发展”\n",
    "* Clifford G. Shull “用于中子衍射技术的发展”\n",
    "\n",
    "1993: Russell A. Hulse和Joseph H. Taylor Jr. “发现了一种新型脉冲星，这一发现为引力研究开辟了新的可能性”\n",
    "\n",
    "1992年: Georges Charpak “为他发明和开发粒子探测器，特别是多线比例室”\n",
    "\n",
    "1991年: 热纳(Gennes), 把研究简单系统中有序现象的方法推广到比较复杂的物质形式, 特别是推广到液晶和聚合物的研究中\n",
    "\n",
    "1990年: 杰罗姆·弗里德曼，亨利·W·肯德尔和理查德·E·泰勒,“他们开展了关于质子和束缚中子上电子深度非弹性散射的研究，这对于粒子物理中夸克模型的发展至关重要”"
   ]
  },
  {
   "cell_type": "markdown",
   "metadata": {},
   "source": [
    "1989年: \n",
    "* Norman F. Ramsey “发明了分离的振荡场方法及其在氢脉泽和其他原子钟中的应用”\n",
    "* Hans G. Dehmelt和Wolfgang Paul “关于离子阱技术的发展”\n",
    "\n",
    "1988年: Leon M. Lederman，Melvin Schwartz和Jack Steinberger “通过发现μ子中微子的中微子束方法和轻子双重结构的演示”\n",
    "\n",
    "1987年: J. Georg Bednorz和K.AlexanderMüller “因发现陶瓷材料的超导性而取得重要突破”\n",
    "\n",
    "1986年\n",
    "* 恩斯特·鲁斯卡, 透射电子显微镜\n",
    "* Gerd Binnig和Heinrich Rohrer 扫描隧道显微镜\n",
    "\n",
    "1985年: 冯.克里津(von Klitzing) 发现量子化霍尔效应\n",
    "\n",
    "1984年: Carlo Rubbia和Simon van der Meer “为这个大型项目做出了决定性的贡献，这导致了场地粒子W和Z的发现，弱互动的传播者”\n",
    "\n",
    "1983年: \n",
    "* Subramanyan Chandrasekhar “对于对恒星结构和演化具有重要意义的物理过程的理论研究”\n",
    "* 威廉·阿尔弗雷德·福勒（William Alfred Fowler） “对于宇宙中化学元素形成的重要核反应的理论和实验研究”\n",
    "\n",
    "1982年: Kenneth G. Wilson “因为他的关于相变的临界现象的理论”\n",
    "\n",
    "1981年:\n",
    "* Nicolaas Bloembergen和Arthur Leonard Schawlow “为激光光谱学的发展做出了贡献”\n",
    "* Kai M. Siegbahn “因为他对高分辨率电子光谱学的贡献”\n",
    "\n",
    "1980年: James Watson Cronin和Val Logsdon Fitch “发现在中性K介子衰变中违反基本对称原理”\n",
    "\n",
    "1979年: Sheldon Lee Glashow，Abdus Salam和Steven Weinberg “因为他们对基本粒子之间统一的弱电磁相互作用理论的贡献，其中包括预测弱中性电流”\n",
    "\n",
    "1978年\n",
    "* 彼得·列昂尼多维奇·卡皮察 “因其在低温物理领域的基本发明和发现”\n",
    "* Arno Allan Penzias和Robert Woodrow Wilson “发现宇宙微波背景辐射”\n",
    "\n",
    "** 1977年: Philip Warren Anderson，Sir Nevill Francis Mott和John Hasbrouck van Vleck “对磁性和无序系统的电子结构进行了基础理论研究”**\n",
    "\n",
    "1976年: Burton Richter和Samuel Chao Chung Ting “因为他们在发现一种新的重型基本粒子方面的开创性工作”"
   ]
  },
  {
   "cell_type": "markdown",
   "metadata": {},
   "source": [
    "1975年: Aage Niels Bohr(不是早期的玻尔), 莫特尔森(Mottelson), 雷恩沃特(Rainwater), **发现原子核中计提运动和粒子运动之间的联系**, 根据这种联系提出核结构理论"
   ]
  },
  {
   "cell_type": "markdown",
   "metadata": {},
   "source": [
    "1974年: Sir Martin Ryle先生和Antony Hewish 先生 “为他们在射电天体物理学方面的开创性研究：Ryle的观察和发明，特别是孔径合成技术，以及Hewish在发现脉冲星时的决定性作用”\n",
    "\n",
    "1973年: \n",
    "* Leo Esaki和Ivar Giaever分别“关于半导体和超导体中隧道现象的实验发现”\n",
    "* Brian David Josephson “通过隧道屏障对超流电特性的理论预测，特别是那些通常被称为约瑟夫森效应的现象”\n",
    "\n",
    "1972年: John Bardeen，Leon Neil Cooper和John Robert Schrieffer “因为他们共同开发的超导理论，通常被称为BCS理论”\n",
    "\n",
    "1971年: 丹尼斯·加博尔 “为他的发明和全息方法的发展”\n",
    "\n",
    "1970年: \n",
    "* HannesOlofGöstaAlfvén “关于磁流体动力学的基础工作和发现，在等离子体物理学的不同部分有丰富的应用”\n",
    "* LouisEugèneFélixNéel “关于反铁磁性和亚铁磁性的基础工作和发现，已经在固态物理学中发挥了重要作用”\n",
    "\n",
    "1969年: Murray Gell-Mann “关于基本粒子分类及其相互作用的贡献和发现”\n",
    "\n",
    "1968年: Luis Walter Alvarez “因为他对基本粒子物理学的决定性贡献，特别是大量共振状态的发现，通过他开发使用氢气泡室和数据分析的技术而成为可能”\n",
    "\n",
    "1967年: Hans Albrecht Bethe “因为他对核反应理论的贡献，特别是他对恒星能量产生的发现”\n",
    "\n",
    "1966年: 阿尔弗雷德·卡斯特勒 “用于研究原子中赫兹共振的光学方法的发现和发展”\n",
    "\n",
    "1965年: Sin-Itiro Tomonaga，Julian Schwinger和Richard P. Feynman “因其在量子电动力学方面的基础工作，对基本粒子的物理学产生了深远的影响”\n",
    "\n",
    "1964年: Charles Hard Townes，Nicolay Gennadiyevich Basov和Aleksandr Mikhailovich Prokhorov “致力于量子电子领域的基础工作，导致基于激光激光原理构建振荡器和放大器”\n",
    "\n",
    "**1963年: \n",
    "* 魏格纳(Wigner):  基本粒子的对称性, 支配质子与中子相互作用的基本原理;\n",
    "* Maria Goeppert Mayer和J. Hans D. Jensen “关于核壳结构的发现”**\n",
    "\n",
    "1962年: 朗道(Landau): 关于凝聚态物质特别是液态氦\n",
    "\n",
    "1961年:\n",
    "** * 罗伯特. 霍夫斯塔特 “是因为他对原子核中电子散射的开创性研究以及他因此获得的有关核子结构的发现”**\n",
    "\n",
    "鲁道夫·路德维希·穆斯鲍尔（RudolfLudwigMössbauer） “关于γ射线共振吸收的研究以及他在这个以他的名字命名的效应中的发现”"
   ]
  },
  {
   "cell_type": "markdown",
   "metadata": {},
   "source": [
    "1960年: 唐纳德亚瑟格拉泽 “为泡泡室的发明”\n",
    "\n",
    "1959年: EmilioGinoSegrè和Owen Chamberlain “因为他们发现了反质子”\n",
    "\n",
    "1958年: Pavel Alekseyevich Cherenkov，Il'ja Mikhailovich Frank和Igor Yevgenyevich Tamm “为Cherenkov效应的发现和解释”\n",
    "\n",
    "1957年: Chen Ning Yang和Tsung-Dao（TD）Lee “对所谓的平价定律进行了深入研究，这些定律导致了关于基本粒子的重要发现”\n",
    "\n",
    "1956年: William Bradford Shockley，John Bardeen和Walter Houser Brattain “他们对半导体的研究及其晶体管效应的发现”\n",
    "\n",
    "1955年: \n",
    "* 拉姆: 因其关于**氢谱精细结构的发现**\n",
    "* Polykarp Kusch “用于精确测定电子的磁矩”\n",
    "\n",
    "1954年\n",
    "** 玻恩(Born): 波函数的统计解释**\n",
    "* Walther Bothe “因为巧合方法和他的发现”"
   ]
  },
  {
   "cell_type": "markdown",
   "metadata": {},
   "source": [
    "1953年: Frits Zernike “为他展示了相位对比法，特别是他发明的相位对比显微镜”\n",
    "\n",
    "1952年: Felix Bloch和Edward Mills Purcell “为他们开发核磁精密测量和与之相关的发现的新方法”\n",
    "\n",
    "1951年: 约翰道格拉斯科克罗夫特爵士和欧内斯特托马斯辛顿沃尔顿 “为人类加速原子粒子对原子核嬗变的开拓性工作”\n",
    "\n",
    "1950年: 塞西尔弗兰克鲍威尔 “因为他研究核过程的摄影方法的发展以及他用这种方法制造的介子的发现”\n",
    "\n",
    "1949年: Yukawa Hideki “在核力量理论工作的基础上预测介子的存在”\n",
    "\n",
    "1948年: Patrick Maynard Stuart Blackett “因为他开发了Wilson云室方法，以及他在核物理和宇宙辐射领域的发现”\n",
    "\n",
    "1947年: 爱德华·维克多·阿普尔顿爵士 “因为他对高层大气物理学的研究，特别是对于所谓的阿普尔顿层的发现”\n",
    "\n",
    "1946年: Percy Williams Bridgman “发明了一种产生极高压力的装置，以及他在高压物理领域所做的发现”"
   ]
  },
  {
   "cell_type": "markdown",
   "metadata": {},
   "source": [
    "1945年: 泡利, **泡利不相容原理**\n",
    "\n",
    "1944年: 拉比(Rabi), 核磁共振"
   ]
  },
  {
   "cell_type": "markdown",
   "metadata": {},
   "source": [
    "1943年: 斯特恩(Stern), 开发分子束方法和**测量质子磁矩**\n",
    "\n",
    "1942年, 1941年, 1940年: 无\n",
    "\n",
    "1939年: 劳伦斯,  “关于回旋加速器的发明和开发以及用它获得的结果，特别是关于人造放射性元素”\n",
    "\n",
    "1938年: **费米(Fermi)**, 发现由中子照射产生的新放射性元素并用慢中子实现核反应\n",
    "\n",
    "1937年: 戴维森和汤姆森, 通过晶体实验发现**电子衍射**\n",
    "\n",
    "1936年\n",
    "* Victor Franz Hess “因为他发现了宇宙辐射”\n",
    "* 卡尔大卫安德森 “因为他发现了正电子”\n",
    "\n",
    "1935年: 詹姆斯查德威克 “为了发现中子”\n",
    "\n",
    "1934年: 无"
   ]
  },
  {
   "cell_type": "markdown",
   "metadata": {},
   "source": [
    "1933年\n",
    "* Schrödinger: **创立波动力学理论**\n",
    "* Dirac: 狄拉克方程和空穴理论\n",
    "\n",
    "1932年: **海森堡(Heisenberg), 创立量子力学,** 导致氢的同素异形体的发现\n",
    "\n",
    "1931年: 无\n",
    "\n",
    "1930年: 拉曼(Raman), 光散射和拉曼效应\n",
    "\n",
    "1929年: **德布罗意, 发现了电子的波动性**\n",
    "\n",
    "1928年: Owen Willans Richardson “因为他在热电子现象方面的工作，特别是发现以他命名的法律”"
   ]
  },
  {
   "cell_type": "markdown",
   "metadata": {},
   "source": [
    "1927年\n",
    "* 朗普顿(Compton): **发现康普顿效应**\n",
    "* 威尔逊(Wilson): 发明了云雾室, 能显示电子穿过云雾的轨迹\n",
    "1926年: Jean Baptiste Perrin “关于物质不连续结构的研究，尤其是他对沉积平衡的发现"
   ]
  },
  {
   "cell_type": "markdown",
   "metadata": {},
   "source": [
    "1925年: **弗兰克(Franck)和赫兹(Hertz), 发现原子和电子的碰撞规律**"
   ]
  },
  {
   "cell_type": "markdown",
   "metadata": {},
   "source": [
    "1924年: Karl Manne Georg Siegbahn “因其在X射线光谱领域的发现和研究”"
   ]
  },
  {
   "cell_type": "markdown",
   "metadata": {},
   "source": [
    "1923年: 密立根,  基本电荷的研究以及验证光电效应"
   ]
  },
  {
   "cell_type": "markdown",
   "metadata": {},
   "source": [
    "1922年: Bohr: **原子结构**以及原子辐射的研究"
   ]
  },
  {
   "cell_type": "markdown",
   "metadata": {},
   "source": [
    "**1921年: 爱因斯坦, 解释光电效应**"
   ]
  },
  {
   "cell_type": "markdown",
   "metadata": {},
   "source": [
    "1920年: 查尔斯·爱德华·纪尧姆（Charles Edouard Guillaume） “认识到他通过发现镍钢合金异常而对物理学中的精确测量所提供的服务”\n",
    "\n",
    "1919年: 斯塔克(Stark), 电场中光谱线的分裂"
   ]
  },
  {
   "cell_type": "markdown",
   "metadata": {},
   "source": [
    "1918年: 普朗克(Planck), **量子理论的开创**\n",
    "\n",
    "1917年: Charles Glover Barkla “因为他发现了元素的特征性Röntgen辐射”"
   ]
  },
  {
   "cell_type": "markdown",
   "metadata": {},
   "source": [
    "1916年: 无"
   ]
  },
  {
   "cell_type": "markdown",
   "metadata": {},
   "source": [
    "1915年: 布拉格父子, **X射线对晶体结构的研究**"
   ]
  },
  {
   "cell_type": "markdown",
   "metadata": {},
   "source": [
    "1914年: 劳厄(Laue), **发现晶体对X射线的衍射**"
   ]
  },
  {
   "cell_type": "markdown",
   "metadata": {},
   "source": [
    "1913年: Heike Kamerlingh Onnes “用于研究低温下的物质特性，尤其是液氦的产生”\n",
    "\n",
    "1912年: NilsGustafDalén “因为他发明了自动调节器，与气体蓄电池配合使用，用于照亮灯塔和浮标”"
   ]
  },
  {
   "cell_type": "markdown",
   "metadata": {},
   "source": [
    "1911年: 维恩(Wien), **发现辐射定律**"
   ]
  },
  {
   "cell_type": "markdown",
   "metadata": {},
   "source": [
    "**1910年: 范德瓦尔斯(van der Waals), 关于气体和液体状态方程的研究**"
   ]
  },
  {
   "cell_type": "markdown",
   "metadata": {},
   "source": [
    "1909年: Guglielmo Marconi和Karl Ferdinand Braun “表彰他们对无线电报发展的贡献”\n",
    "\n",
    "1908年: Gabriel Lippmann “基于干涉现象以摄影方式再现色彩”\n",
    "\n",
    "1907年: 迈克尔逊(Michelson), 发明光学干涉仪, 并进行光谱学和基本度量学研究"
   ]
  },
  {
   "cell_type": "markdown",
   "metadata": {},
   "source": [
    "1906年: 汤姆逊(Thomson)**在气体放电实验中发现电子**"
   ]
  },
  {
   "cell_type": "markdown",
   "metadata": {},
   "source": [
    "1905年: Philipp Eduard Anton von Lenard “关于阴极射线的研究”\n",
    "\n",
    "1904年: 瑞利“因为他对最重要的气体密度的研究以及他发现与这些研究相关的氩气”\n",
    "\n",
    "1903年\n",
    "* 贝克勒耳(Becquerel): 发现天然放射性\n",
    "* Curie夫妇发现放射性元素钋(po)和镭，"
   ]
  },
  {
   "cell_type": "markdown",
   "metadata": {},
   "source": [
    "1902年: 洛伦兹和塞曼(Lorentz和Zeeman), **谱线在磁场中的分裂现象**\n",
    "\n",
    "1901年: **伦琴(Röntgen)发现X射线;**"
   ]
  },
  {
   "cell_type": "markdown",
   "metadata": {},
   "source": [
    "## 化学奖  "
   ]
  },
  {
   "cell_type": "markdown",
   "metadata": {},
   "source": [
    "Frances H. Arnold “用于酶的定向进化”，George P. Smith和Sir Gregory P. Winter “用于噬菌体展示肽和抗体”\n",
    "\n",
    "2017年\n",
    "Jacques Dubochet，Joachim Frank和Richard Henderson “开发低温电子显微镜用于溶液中生物分子的高分辨率结构测定”\n",
    "\n",
    "2016年\n",
    "Jean-Pierre Sauvage，J。Fraser Stoddart爵士和Bernard L. Feringa “用于设计和合成分子机器”\n",
    "\n",
    "2015年\n",
    "Tomas Lindahl，Paul Modrich和Aziz Sancar “进行DNA修复的机理研究”\n",
    "\n",
    "2014年\n",
    "Eric Betzig，Stefan W. Hell和William E. Moerner “开发超分辨荧光显微镜”\n",
    "\n",
    "2013年\n",
    "Martin Karplus，Michael Levitt和Arieh Warshel “为开发复杂化学系统的多尺度模型”\n",
    "\n",
    "2012年\n",
    "Robert J. Lefkowitz和Brian K. Kobilka “研究G蛋白偶联受体”\n",
    "\n",
    "2011年\n",
    "Dan Shechtman “为了发现准晶体”\n",
    "\n",
    "2010年\n",
    "Richard F. Heck，Ei-ichi Negishi和Akira Suzuki “用于有机合成中的钯催化交叉偶联”\n",
    "\n",
    "2009年\n",
    "Venkatraman Ramakrishnan，Thomas A. Steitz和Ada E. Yonath “研究核糖体的结构和功能”\n",
    "\n",
    "2008年\n",
    "Osamu Shimomura，Martin Chalfie和Roger Y. Tsien “为发现和开发绿色荧光蛋白，GFP”\n",
    "\n",
    "2007年\n",
    "Gerhard Ertl “研究固体表面的化学过程”\n",
    "\n",
    "2006年\n",
    "Roger D. Kornberg “他对真核转录分子基础的研究”\n",
    "\n",
    "2005年\n",
    "Yves Chauvin，Robert H. Grubbs和Richard R. Schrock “用于开发有机合成中的复分解方法”\n",
    "\n",
    "2004年\n",
    "Aaron Ciechanover，Avram Hershko和Irwin Rose “发现泛素介导的蛋白质降解”\n",
    "\n",
    "2003年\n",
    "“关于细胞膜中通道的发现”，Peter Agre “用于发现水通道”，而Roderick MacKinnon “用于离子通道的结构和机理研究”\n",
    "\n",
    "2002年\n",
    "“用于开发生物大分子的鉴定和结构分析方法”\n",
    "\n",
    "John B. Fenn和Koichi Tanaka “开发了用于生物大分子质谱分析的软解吸电离方法”。\n",
    "\n",
    "KurtWüthrich “用于开发核磁共振光谱以确定溶液中生物大分子的三维结构”\n",
    "\n",
    "2001\n",
    "William S. Knowles和Ryoji Noyori “因其在手性催化加氢反应方面的工作”\n",
    "\n",
    "K. Barry Sharpless “因其在手性催化氧化反应方面的工作”\n",
    "\n",
    "2000年\n",
    "Alan J. Heeger，Alan G. MacDiarmid和Hideki Shirakawa “用于发现和开发导电聚合物”\n",
    "\n",
    "1999年\n",
    "Ahmed H. Zewail “研究使用飞秒光谱法研究化学反应的过渡态”\n",
    "\n",
    "1998年\n",
    "Walter Kohn “因为他发展了密度泛函理论”\n",
    "\n",
    "John A. Pople “因为他开发了量子化学中的计算方法”\n",
    "\n",
    "\n",
    "1996年\n",
    "Robert F. Curl Jr.，Harold W. Kroto爵士和Richard E. Smalley “发现富勒烯”\n",
    "\n",
    "\n",
    "\n",
    "1992年\n",
    "Rudolph A. Marcus “他对化学系统中电子转移反应理论的贡献”\n",
    "\n",
    "1991年\n",
    "Richard R. Ernst “因为他对开发高分辨率核磁共振（NMR）光谱学方法的贡献”\n",
    "\n",
    "1990年\n",
    "Elias James Corey “因为他发展了有机合成的理论和方法论”\n",
    "\n",
    "1988年\n",
    "Johann Deisenhofer，Robert Huber和Hartmut Michel “用于确定光合作用反应中心的三维结构”\n",
    "\n",
    "1987年\n",
    "Donald J. Cram，Jean-Marie Lehn和Charles J. Pedersen “开发和使用具有高选择性结构特异性相互作用的分子”\n",
    "\n",
    "1986年\n",
    "Dudley R. Herschbach，Yuan T. Lee和John C. Polanyi “关于他们对化学基本过程动力学的贡献”\n",
    "\n",
    "1985年\n",
    "Herbert A. Hauptman和Jerome Karle “因其在确定晶体结构的直接方法方面的杰出成就”\n",
    "\n",
    "1984年\n",
    "Robert Bruce Merrifield “因为他在固体基质上开发化学合成方法”\n",
    "\n",
    "1983\n",
    "Henry Taube “关于电子转移反应机制的研究，特别是在金属络合物中”\n",
    "\n",
    "\n",
    "1981\n",
    "Kenichi Fukui和Roald Hoffmann “因为他们的理论，独立发展，关于化学反应的过程”\n",
    "\n",
    "\n",
    "1977年\n",
    "Ilya Prigogine “因为他对非平衡热力学的贡献，特别是耗散结构理论”\n",
    "\n",
    "1976\n",
    "William N. Lipscomb “研究硼烷结构，研究化学键合问题”\n",
    "\n",
    "\n",
    "\n",
    "Vladimir Prelog “他对有机分子和反应的立体化学的研究”\n",
    "\n",
    "1974年\n",
    "Paul J. Flory “在大分子的物理化学中取得了理论和实验方面的基本成就”\n",
    "\n",
    "1973年\n",
    "恩斯特·奥托·菲舍尔和杰弗里·威尔金森 “因其开创性的工作，独立完成了有机金属化学，所谓的三明治化合物”\n",
    "\n",
    "\n",
    "1971年\n",
    "Gerhard Herzberg “因为他对电子结构和分子几何学，特别是自由基的知识的贡献”\n",
    "\n",
    "1970年\n",
    "Luis F. Leloir “因为他发现了糖核苷酸及其在碳水化合物生物合成中的作用”\n",
    "\n",
    "1969年\n",
    "Derek HR Barton和Odd Hassel “为构建概念及其在化学中的应用所做出的贡献”\n",
    "\n",
    "1968年\n",
    "Lars Onsager “发现了与他的名字相关的互惠关系，这是不可逆过程热力学的基础”\n",
    "\n",
    "1967年\n",
    "Manfred Eigen，Ronald George Wreyford Norrish和George Porter “研究极快化学反应，通过非常短的能量脉冲扰乱平衡”"
   ]
  },
  {
   "cell_type": "markdown",
   "metadata": {},
   "source": [
    "1966年\n",
    "Robert S. Mulliken **通过分子轨道方法进行有关化学键和分子电子结构的基础工作**"
   ]
  },
  {
   "cell_type": "markdown",
   "metadata": {},
   "source": [
    "1959年\n",
    "Jaroslav Heyrovsky “因为他发现并开发了极谱法的分析方法”\n",
    "\n",
    "1956年\n",
    "Cyril Norman Hinshelwood先生和Nikolay Nikolaevich Semenov先生 “对化学反应机理的研究”"
   ]
  },
  {
   "cell_type": "markdown",
   "metadata": {},
   "source": [
    "1954年\n",
    "Linus Carl **Pauling** “研究化学键的性质及其在阐明复杂物质结构中的应用”"
   ]
  },
  {
   "cell_type": "markdown",
   "metadata": {},
   "source": [
    "1936年\n",
    "Petrus（Peter）Josephus Wilhelmus Debye “通过研究偶极矩和气体中X射线和电子的衍射，对我们对分子结构的认识做出了贡献”\n",
    "\n",
    "1932年\n",
    "欧文朗缪尔 “因其在表面化学方面的发现和研究”\n",
    "\n",
    "1931年\n",
    "Carl Bosch和Friedrich Bergius “表彰他们对发明和开发化学高压方法的贡献”\n",
    "\n",
    "1926年\n",
    "（Theodor）Svedberg “因其在分散系统方面的工作”\n",
    "\n",
    "1925年\n",
    "理查德阿道夫Zsigmondy “他证明了胶体溶液的异质性和他使用的方法，从而成为现代胶体化学的基础\n",
    "\n",
    "1923年\n",
    "Fritz Pregl “因为他发明了有机物的微量分析方法”\n",
    "\n",
    "1922年\n",
    "弗朗西斯·威廉·阿斯顿（Francis William Aston） “通过他的质谱仪发现同位素，大量非放射性元素，以及他对整数规则的阐述”\n",
    "\n",
    "1921年\n",
    "Frederick Soddy “因为他对我们放射性物质化学知识的贡献，以及他对同位素起源和性质的研究”\n",
    "\n",
    "1920\n",
    "Walther Hermann Nernst “表彰他在热化学方面的工作”\n",
    "\n",
    "\n",
    "1918年\n",
    "Fritz Haber “用于从其元素合成氨”\n",
    "\n",
    "1914年\n",
    "Theodore William Richards “表彰他对大量化学元素原子量的准确测定”\n",
    "\n",
    "1913年\n",
    "阿尔弗雷德·沃纳（Alfred Werner） “表彰他在分子中原子连接方面所做的工作，通过这项研究，他为早期研究开辟了新的亮点，开辟了新的研究领域，尤其是在无机化学领域。”\n",
    "\n",
    "1912年\n",
    "Victor Grignard “为发现所谓的格氏试剂，近年来大大推进了有机化学的进步”\n",
    "\n",
    "保罗萨巴蒂尔 “因其在细碎的金属存在下加氢有机化合物的方法，近年来有机化学的进步已大大推进”\n",
    "\n",
    "1911年\n",
    "Marie Curie，néeSklodowska “通过发现镭和pol元素，通过分离镭以及研究这种显着元素的性质和化合物，以表彰她对推动化学的服务”\n",
    "\n",
    "1909年\n",
    "Wilhelm Ostwald “表彰他在催化方面的工作以及他对化学平衡和反应速率的基本原理的研究”\n",
    "\n",
    "1908年\n",
    "欧内斯特·卢瑟福 “因为他对元素的解体和放射性物质的化学进行了调查”\n",
    "\n",
    "\n",
    "1904年\n",
    "威廉·拉姆齐爵士 “表彰他在空气中发现惰性气体元素的服务，以及他们在周期系统中的地位的确定”\n",
    "\n",
    "1903年\n",
    "Svante August Arrhenius “表彰他通过电解分离理论为化学的发展提供的非凡服务”\n",
    "\n",
    "1901年\n",
    "Jacobus Henricus van't Hoff “表彰他在解决方案中发现化学动力学和渗透压定律所带来的非凡服务”"
   ]
  },
  {
   "cell_type": "markdown",
   "metadata": {},
   "source": [
    "## 其他重大科技实践"
   ]
  },
  {
   "cell_type": "markdown",
   "metadata": {},
   "source": [
    "1900年瑞利-金斯(Rayleigh-Jeans)导出黑体辐射的低频公式.\n",
    "\n",
    "1900年普朗克由黑体辐射的能量密度公式提出量子化的概念.\n",
    "\n",
    "1907年爱因斯坦根据普朗克的量子化假设计算了固体中原子的比热--固体原子比热随温度的下降而下降直至为0.\n",
    "\n",
    "1913年玻尔(Bohr)将普朗克与爱因斯坦的观点推广应用于原子结构, 成功的推导出氢原子光谱线频率的巴尔末公式, 并提出量子化条件: $\\displaystyle L=\\mu v r = n\\hbar$.\n",
    "薛定谔海森堡狄拉克, 1923-1927年量子力学的建立为量子化学的发展奠定了理论基础.  \n",
    "\n",
    "1923年德布罗意提出物质波假设.\n",
    "1924年，美国物理学家康普顿在研究x射线通过实物物质发生散射的实验时，发现了一个新的现象，即散射光中除了有原波长λ0的x光外，还产生了波长λ>λ0 的x光，其波长的增量随散射角的不同而变化。这种现象称为康普顿效应(Compton Effect)。 光具有粒子性.\n",
    "1925年 Heisenberg发变了第一篇量子力学的文章.  \n",
    "1925年海森伯(Heisenberg), 玻恩(Born)与约当(Jordon)以矩阵力学的形式建立了量子力学, 同时薛定谔(Schrodinger)以波动力学的形式建立了量子力学.\n",
    "1926年 薛定谔发表了著名的波动方程.  \n",
    "1927年 海特勒个伦敦使用量子力学讨论H2的结构.用量子力学方法处理化学问题, 标志值量子化学计算的诞生.  \n",
    "\n",
    "1927年戴维逊(Davisson)和盖末(Germer)用54eV的电子束投射到Ni单晶上, 观察到同X射线相似的衍射图样\n",
    ".  \n",
    "1928HartreeN/N-1电子的平均势场中运动的假设.  \n",
    "1930年Fock和Slater提出了考虑泡利原理的自洽场迭代方程.(考虑自旋)  \n",
    "Roothaan: 罗特汉 LCAO: 原子轨道组成分子轨道, HFR(哈特利-福克-罗特汉方程)  \n",
    "1927-20世纪50年代: 三种化学键理论,分子间相互作用,  \n",
    "**价键理论**由鲍林(<<化学键的本质>>)在还勒特-伦敦H2结构上的基础上发展而来, 195年诺贝尔化学奖.   \n",
    "1928: 马利肯提出分子轨道理论, 1931年休克尔提出简单分子轨道理论, 处理共轭分子体系,   \n",
    "20世纪60-70: 半经验方法, 使用类氢离子的波函数, 改写为Slater函数(STO),高斯函数拟合,小分子进行计算可以试验对比.  \n",
    "20世纪80-90年代DFT发展起来, 20世纪60年代Kohn W提出(1964), 轨道函数=>密度函数\n",
    "1998年 美国化学家库恩(Walter Kohn)和英国科学家波普尔(John A. Pople)因为对量子化学的贡献获得诺贝尔化学奖；\n",
    "\n",
    "1929, 贝特在研究过渡金属配合物时,讨论离子在晶体场中的能级分裂, 并入分子轨道理论, 发展为现代配位场理论.  \n",
    "50年代计算机的发展, 提供了有利的工具, 发展了一系列的半经验方法, 如Hoffmann建立EHMO法,  \n",
    "70年代逐步不适用经验参数, 从头算方法发展, HartreeFock结合自洽场迭代犯法, MO的ab initio取代半经验方法, 称为量子化学的主流  \n",
    "80年代研究对象逐渐由小分子向大分子, 重原子体系发展, 组态相互作用, 多组态自洽场及微扰理论的发挥着那个校正呆子相关能. \n",
    "90年代固体表面吸附, 溶液中个的化学放应, 生物大分子, 元素从12周期发展到过渡金属和稀土  "
   ]
  },
  {
   "cell_type": "markdown",
   "metadata": {},
   "source": [
    "闭壳层体系: 指体系中所有的电子莒南自旋相反的方式配对充满某些壳层.  \n",
    "开壳层体系: 体系中含有未成对的电子.  \n"
   ]
  },
  {
   "cell_type": "markdown",
   "metadata": {},
   "source": []
  },
  {
   "cell_type": "markdown",
   "metadata": {},
   "source": []
  },
  {
   "cell_type": "markdown",
   "metadata": {},
   "source": [
    "价键理论中的电子是固定在某个区域内运动, 分子轨道理论中的电子是在分子内部的所有区域内运动.  \n",
    "Gaussian 从70-98每两年更新一次 类氢离子的波函数作为基函数=>Slater\n",
    "=>高斯函数拟合ST).  \n",
    "波普尔: 高斯系列  \n",
    "为了节省计算时间而又不失计算精度, 20-70, 开始只考虑原子的价电子而把内层电子和原子核看成一个凝固的原子实, 用一个核模型势来代替内层电子与价电子的从头算法被称为赝势法.  "
   ]
  },
  {
   "cell_type": "markdown",
   "metadata": {},
   "source": [
    "量子化学领域的诺贝尔将:  \n",
    "Mulliken: 1966年诺贝尔奖, 分子轨道理论  \n",
    "福井谦一, 前线轨道理论, Hoffman分子轨道对称守恒原理: 1981年Nobel化学奖.  \n",
    "Pople: 从头算, Kohn密度泛函理论: 1998Nobel化学奖  \n",
    "分子力学, 分子动力徐, 蒙特卡洛等...  "
   ]
  },
  {
   "cell_type": "markdown",
   "metadata": {},
   "source": [
    "计算化学的应用:  \n",
    "计算和预测各种分子性质: 分子构型, 偶极矩, NMR,振动频率, 光谱强度\n",
    "过渡态中间体, 研究反应机理  \n",
    "理解分子间作用力及溶液,固体中分子的行为  \n",
    "计算热力学性质: 熵, 吉布斯函数, 热容, 相图  "
   ]
  },
  {
   "cell_type": "markdown",
   "metadata": {},
   "source": [
    "研究范围: \n",
    "稳定和不稳定分子之间的结构, 性能 ,\n",
    "分子与分子之间的相互作用\n",
    "相互碰撞反应"
   ]
  },
  {
   "cell_type": "markdown",
   "metadata": {},
   "source": [
    "指导和预言一些可能的新化合物的合成   \n"
   ]
  },
  {
   "cell_type": "markdown",
   "metadata": {},
   "source": []
  },
  {
   "cell_type": "markdown",
   "metadata": {},
   "source": []
  },
  {
   "cell_type": "markdown",
   "metadata": {},
   "source": []
  },
  {
   "cell_type": "markdown",
   "metadata": {},
   "source": []
  },
  {
   "cell_type": "markdown",
   "metadata": {},
   "source": []
  },
  {
   "cell_type": "markdown",
   "metadata": {},
   "source": []
  },
  {
   "cell_type": "markdown",
   "metadata": {},
   "source": []
  },
  {
   "cell_type": "markdown",
   "metadata": {},
   "source": []
  },
  {
   "cell_type": "markdown",
   "metadata": {},
   "source": []
  },
  {
   "cell_type": "markdown",
   "metadata": {},
   "source": []
  },
  {
   "cell_type": "code",
   "execution_count": null,
   "metadata": {},
   "outputs": [],
   "source": []
  }
 ],
 "metadata": {
  "kernelspec": {
   "display_name": "Python 3",
   "language": "python",
   "name": "python3"
  },
  "language_info": {
   "codemirror_mode": {
    "name": "ipython",
    "version": 3
   },
   "file_extension": ".py",
   "mimetype": "text/x-python",
   "name": "python",
   "nbconvert_exporter": "python",
   "pygments_lexer": "ipython3",
   "version": "3.6.5"
  },
  "toc": {
   "base_numbering": 1,
   "nav_menu": {},
   "number_sections": true,
   "sideBar": true,
   "skip_h1_title": false,
   "title_cell": "Table of Contents",
   "title_sidebar": "Contents",
   "toc_cell": false,
   "toc_position": {},
   "toc_section_display": true,
   "toc_window_display": false
  },
  "varInspector": {
   "cols": {
    "lenName": 16,
    "lenType": 16,
    "lenVar": 40
   },
   "kernels_config": {
    "python": {
     "delete_cmd_postfix": "",
     "delete_cmd_prefix": "del ",
     "library": "var_list.py",
     "varRefreshCmd": "print(var_dic_list())"
    },
    "r": {
     "delete_cmd_postfix": ") ",
     "delete_cmd_prefix": "rm(",
     "library": "var_list.r",
     "varRefreshCmd": "cat(var_dic_list()) "
    }
   },
   "types_to_exclude": [
    "module",
    "function",
    "builtin_function_or_method",
    "instance",
    "_Feature"
   ],
   "window_display": false
  }
 },
 "nbformat": 4,
 "nbformat_minor": 2
}
