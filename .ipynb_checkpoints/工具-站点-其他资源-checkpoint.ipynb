{
 "cells": [
  {
   "cell_type": "markdown",
   "metadata": {},
   "source": [
    "## 工具"
   ]
  },
  {
   "cell_type": "markdown",
   "metadata": {},
   "source": [
    "Xshell.Xftp,Xmanager: 连接集群, 模拟集群的桌面环境    \n",
    "SageMath: 开源的数学软件  \n",
    "SQLiteStudio:  \n",
    "MATLAB R2018a:  \n",
    "Java 8 Update 191: 查看分子的振动谱时下载的, learn vasp the hard way   \n",
    "Robo 3T 1.2.1: db数据库可视化   \n",
    "Avogadro: 构建分子的工具  \n",
    "POV-Ray for Windows v3.7: ase渲染图片  \n",
    "VMD 1.9.3:    \n",
    "Python 3.6 openbabel-python-1.7:   \n",
    "Mozilla Firefox:  \n",
    "ImageMagick:  \n",
    "LilyPond: 制作乐谱  \n",
    "VMware player: 虚拟机   \n",
    "i686-8.1.0-posix-dwarf-rt_v6-rev0:    \n",
    "GPL Ghostscript:  \n",
    "SumatraPDF:  \n",
    "MySQL Server 5.7:    \n",
    "Git Version 2.18.0   \n",
    "Microsoft Visual Studio code:  \n",
    "MiKTeX 2.9:  \n",
    "x264vfw-H.264/MPEG-4 AVC codec(remove only):  \n",
    "Python 3.6.5 (Anaconda3 5.2.0 64-bit):   \n",
    "AMD software:  \n",
    "Graphviz:  \n",
    "Accelrys Materials Studio 8.0:  \n",
    "Google Chrome:  \n",
    "福昕阅读器:  \n",
    "Cortona console: 可以在浏览器中查看 .wrl文件"
   ]
  },
  {
   "cell_type": "markdown",
   "metadata": {},
   "source": [
    "## 站点"
   ]
  },
  {
   "cell_type": "markdown",
   "metadata": {},
   "source": [
    "任何Python包的官方网站都是学习的第一手资料  \n",
    "sourceforge: https://sourceforge.net/    \n",
    "GitHub: https://github.com/  \n",
    "ASE: https://wiki.fysik.dtu.dk/ase/    \n",
    "谷歌翻译: https://translate.google.com/?hl=zh-CN&tab=TT    \n",
    "谷歌学术: https://scholar.google.com/schhp?hl=zh-CN    \n",
    "VASP:\n",
    "* https://www.vasp.at/   \n",
    "* https://cms.mpi.univie.ac.at/wiki/index.php/ICAMM_Rennes_2016\n",
    "\n",
    "Web of Science: http://apps.webofknowledge.com/UA_GeneralSearch_input.do?product=UA&search_mode=GeneralSearch&SID=7DSzoCREhsBQWek71n6&preferencesSaved=    \n",
    "谷歌邮箱: f213tl@gmail.com  \n",
    "小木虫: http://muchong.com/bbs/index.php    \n",
    "COD: http://www.crystallography.net/cod/result.php    \n",
    "materialsvirtuallab/matgenb: https://github.com/materialsvirtuallab/matgenb    "
   ]
  },
  {
   "cell_type": "markdown",
   "metadata": {},
   "source": [
    "Kitware.Inc/: https://www.kitware.com/about/ , Visualization Toolkit（VTK）  \n",
    "MP: https://materialsproject.org/   \n",
    "薛定谔公司的GitHub: https://github.com/schrodinger    \n"
   ]
  },
  {
   "cell_type": "markdown",
   "metadata": {},
   "source": [
    "CIF2CELL: https://sourceforge.net/projects/cif2cell/    \n",
    "Lecture 6B - Tools for high-performance computing applications: https://nbviewer.jupyter.org/github/jrjohansson/scientific-python-lectures/blob/master/Lecture-6B-HPC.ipynb"
   ]
  },
  {
   "cell_type": "markdown",
   "metadata": {},
   "source": [
    "Fireworks: https://materialsproject.github.io/fireworks/ \n",
    "atomate: https://atomate.org/   \n",
    "Handbook of Materials Modeling: https://link.springer.com/referencework/10.1007%2F978-3-319-42913-7    \n",
    "chemspider: http://www.chemspider.com/    \n",
    "大师兄: https://www.bigbrosci.com/    \n",
    "chempython: http://www.chempython.org/applications.html    \n",
    "Chemistry Programs - Python: https://homepage.univie.ac.at/felix.plasser/chemprogs/python.htm#opennewwindow"
   ]
  },
  {
   "cell_type": "markdown",
   "metadata": {},
   "source": [
    "awesome-python-chemistry: https://github.com/lmmentel/awesome-python-chemistry"
   ]
  },
  {
   "cell_type": "markdown",
   "metadata": {},
   "source": [
    "元素周期表: http://cheman.chemnet.com/elements/  \n",
    "诺贝尔: https://www.nobelprize.org/prizes/physics/    \n",
    "用Python做科学计算: https://docs.huihoo.com/scipy/scipy-zh-cn/index.html"
   ]
  },
  {
   "cell_type": "markdown",
   "metadata": {},
   "source": [
    "中国日报: http://language.chinadaily.com.cn/    \n",
    "在线公式编辑器: https://www.codecogs.com/latex/eqneditor.php    "
   ]
  },
  {
   "cell_type": "markdown",
   "metadata": {},
   "source": [
    "超星学术视屏: http://www.wxbgt.com/specialtopicdetail_11.shtml    "
   ]
  },
  {
   "cell_type": "markdown",
   "metadata": {},
   "source": [
    "GYM: http://gym.openai.com/docs/#background-why-gym-2016   \n",
    "metel: http://www.metel.cn/    \n",
    "中国大学慕课: https://www.icourse163.org/"
   ]
  },
  {
   "cell_type": "markdown",
   "metadata": {},
   "source": [
    "晶体之星: http://www.crystalstar.org/Index.html  \n",
    "Table of Space Group Symbols: http://www.cryst.ehu.es/cgi-bin/cryst/programs/nph-wp-list"
   ]
  },
  {
   "cell_type": "markdown",
   "metadata": {},
   "source": [
    "Bilbao Crystallographic Server: http://www.cryst.ehu.es/#databasetop    \n",
    "网易公开课: https://open.163.com/"
   ]
  },
  {
   "cell_type": "markdown",
   "metadata": {},
   "source": [
    "上海交通大学计算材料学课程 MT309 Spring: http://cms.sjtu.edu.cn/"
   ]
  },
  {
   "cell_type": "markdown",
   "metadata": {},
   "source": [
    "liaoxuefeng: https://www.liaoxuefeng.com/\n",
    "mathematical illustrations: http://www.math.ubc.ca/~cass/graphics/manual/"
   ]
  },
  {
   "cell_type": "markdown",
   "metadata": {},
   "source": [
    "非常绚丽的图: http://www.bugman123.com/index.html"
   ]
  },
  {
   "cell_type": "markdown",
   "metadata": {},
   "source": [
    "mybinder: https://mybinder.org/,有一个充满Jupyter笔记本的存储库？使用Binder，在可执行环境中打开这些笔记本，使您的代码可以随时随地重现。"
   ]
  },
  {
   "cell_type": "markdown",
   "metadata": {},
   "source": [
    "http://uspex-team.org/en/"
   ]
  },
  {
   "cell_type": "markdown",
   "metadata": {},
   "source": [
    "北京科音自然科学研究中心的软件: http://www.keinsci.com/index.html\n"
   ]
  },
  {
   "cell_type": "markdown",
   "metadata": {},
   "source": [
    "音乐下载: http://www.gequdaquan.net/gqss/  \n",
    "imdb: https://m.imdb.com/"
   ]
  },
  {
   "cell_type": "markdown",
   "metadata": {},
   "source": [
    "词以类记: http://download.dogwood.com.cn/online/toeflcylj/index.html"
   ]
  },
  {
   "cell_type": "markdown",
   "metadata": {},
   "source": [
    "乐谱: http://www.mutopiaproject.org/"
   ]
  },
  {
   "cell_type": "markdown",
   "metadata": {},
   "source": [
    "可在任何地方使用的免费图片和视频: https://pixabay.com/   \n",
    "https://unsplash.com/\n",
    "gif:https://giphy.com/"
   ]
  },
  {
   "cell_type": "markdown",
   "metadata": {},
   "source": [
    "## Python"
   ]
  },
  {
   "cell_type": "markdown",
   "metadata": {},
   "source": [
    "[MoviePy](http://zulko.github.io/moviepy/):  是一个用于视频编辑的Python模块,可用于基本操作(如剪切,连接,标题插入),视频合成(a.k.a.非线性编辑),视频处理或创建高级效果. 它可以读写最常见的视频格式,包括GIF."
   ]
  },
  {
   "cell_type": "markdown",
   "metadata": {},
   "source": [
    "[scipy.linalg](https://docs.scipy.org/doc/scipy/reference/tutorial/linalg.html): scipy中的线性代数模块"
   ]
  },
  {
   "cell_type": "markdown",
   "metadata": {},
   "source": [
    "[Natural Language Processing with Python\n",
    "– Analyzing Text with the Natural Language Toolkit](https://www.nltk.org/book/): 自然语言处理"
   ]
  },
  {
   "cell_type": "markdown",
   "metadata": {},
   "source": [
    "[Spacy](https://spacy.io/): 工业级自然语言处理"
   ]
  },
  {
   "cell_type": "markdown",
   "metadata": {},
   "source": [
    "[ipyparallel](https://ipyparallel.readthedocs.io/en/latest/): python并行计算"
   ]
  },
  {
   "cell_type": "markdown",
   "metadata": {},
   "source": [
    "[Pypi](https://pypi.org/):Python包索引"
   ]
  },
  {
   "cell_type": "markdown",
   "metadata": {},
   "source": [
    "[py2exe](http://www.py2exe.org/): py2exe是一个Python Distutils扩展,它将Python脚本转换为可执行的Windows程序,无需安装Python即可运行."
   ]
  },
  {
   "cell_type": "markdown",
   "metadata": {},
   "source": [
    "[simplejson](https://simplejson.readthedocs.io/en/latest/): JSON encoder and decoder"
   ]
  },
  {
   "cell_type": "markdown",
   "metadata": {},
   "source": [
    "[PDFMiner](https://euske.github.io/pdfminer/): PDFMiner是一种从PDF文档中提取信息的工具.\n",
    "与其他PDF相关工具不同,它完全专注于获取和分析文本数据. PDFMiner允许人们获取页面中文本的确切位置,以及字体或线条等其他信息.\n",
    "它包括一个PDF转换器,可以将PDF文件转换为其他文本格式(如HTML).\n",
    "它具有可扩展的PDF解析器,可用于除文本分析之外的其他目的."
   ]
  },
  {
   "cell_type": "markdown",
   "metadata": {},
   "source": [
    "[csvkit](https://github.com/wireservice/csvkit):csvkit是一套命令行工具,用于转换和使用表格文件格式之王CSV."
   ]
  },
  {
   "cell_type": "markdown",
   "metadata": {},
   "source": [
    "[You-Get](https://github.com/soimort/you-get): 是一个微小的命令行实用程序,用于从Web下载媒体内容(视频,音频,图像),以防没有其他方便的方法.  \n",
    "[youtube-dl](https://github.com/rg3/youtube-dl):"
   ]
  },
  {
   "cell_type": "markdown",
   "metadata": {},
   "source": [
    "[qrcode 6.1](https://github.com/sylnsfar/qrcode/): 二维码"
   ]
  },
  {
   "cell_type": "markdown",
   "metadata": {},
   "source": [
    "[html2text](https://github.com/Alir3z4/html2text/blob/master/docs/usage.md): 从html提取文本"
   ]
  },
  {
   "cell_type": "markdown",
   "metadata": {},
   "source": [
    "[Beautiful Soup 4.2.0 中文文档](https://www.crummy.com/software/BeautifulSoup/bs4/doc.zh/)"
   ]
  },
  {
   "cell_type": "markdown",
   "metadata": {},
   "source": [
    "[Scrapy 1.5 documentation](https://docs.scrapy.org/en/latest/)"
   ]
  },
  {
   "cell_type": "markdown",
   "metadata": {},
   "source": []
  },
  {
   "cell_type": "markdown",
   "metadata": {},
   "source": [
    "[scikit-image](http://scikit-image.org/docs/stable/auto_examples/): 科学绘图"
   ]
  },
  {
   "cell_type": "markdown",
   "metadata": {},
   "source": [
    "[Pydub](https://github.com/jiaaro/pydub): pyhton处理音频"
   ]
  },
  {
   "cell_type": "markdown",
   "metadata": {},
   "source": [
    "[mingus](): 学习乐理"
   ]
  },
  {
   "cell_type": "markdown",
   "metadata": {},
   "source": [
    "[ImageMagick](file:///P:/ImageMagick-7.0.8-Q16/index.html):使用ImageMagick®创建,编辑,撰写或转换位图图像.它可以读取和写入各种格式(超过200种)的图像,包括PNG,JPEG,GIF,HEIC,TIFF,DPX,EXR,WebP,Postscript,PDF和SVG.使用ImageMagick调整大小,翻转,镜像,旋转,扭曲,剪切和变换图像,调整图像颜色,应用各种特殊效果,或绘制文本,线条,多边形,椭圆和Bézier曲线."
   ]
  },
  {
   "cell_type": "markdown",
   "metadata": {},
   "source": [
    "[pygame](https://www.pygame.org/download.shtml):  使用Python编写游戏    "
   ]
  },
  {
   "cell_type": "markdown",
   "metadata": {},
   "source": [
    "[Vector Animations With Python](https://zulko.github.io/blog/2014/09/20/vector-animations-with-python/): "
   ]
  },
  {
   "cell_type": "markdown",
   "metadata": {},
   "source": [
    "[Bokeh](https://github.com/bokeh/bokeh): 绘图, Bokeh是NumFOCUS的财政赞助项目,NumFOCUS是一家致力于支持开源科学计算社区的非营利组织.如果您喜欢Bokeh并想支持我们的使命,请考虑捐款."
   ]
  },
  {
   "cell_type": "markdown",
   "metadata": {},
   "source": [
    "[Plotly Python Open Source Graphing Library](https://plot.ly/python/): Plotly的Python图形库可以在线制作交互式,出版品质的图表.如何制作线图,散点图,面积图,条形图,误差线,箱形图,直方图,热图,子图,多轴,极坐标图和气泡图的示例."
   ]
  },
  {
   "cell_type": "markdown",
   "metadata": {},
   "source": [
    "[OpenCV](https://opencv.org/): (Open Source Computer Vision Library)OpenCV(开源计算机视觉库)是在BSD许可下发布的,因此它可以免费用于学术和商业用途.它具有C ++,Python和Java接口,支持Windows,Linux,Mac OS,iOS和Android. OpenCV专为提高计算效率而设计,专注于实时应用.该库以优化的C / C ++编写,可以利用多核处理.通过OpenCL启用,它可以利用底层异构计算平台的硬件加速."
   ]
  },
  {
   "cell_type": "markdown",
   "metadata": {},
   "source": [
    "[TensorFlow](https://www.tensorflow.org/tutorials/): 是一个用于研究和生产的开放源代码机器学习库。TensorFlow 提供了各种 API，可供初学者和专家在桌面、移动、网络和云端环境下进行开发。请参阅以下几部分，了解如何开始使用。"
   ]
  },
  {
   "cell_type": "markdown",
   "metadata": {},
   "source": [
    "[gitapi](https://bitbucket.org/haard/gitapi): 是git的纯Python API,它使用命令行界面.它有一个非常宽松的许可证(做任何你想做的事,不要怪我)."
   ]
  },
  {
   "cell_type": "markdown",
   "metadata": {},
   "source": [
    "[Algorithms](https://algorithms.readthedocs.io/en/latest/algorithms.html):"
   ]
  },
  {
   "cell_type": "markdown",
   "metadata": {},
   "source": [
    "[Python Course](https://python.zeef.com/alan.richmond): \n",
    "    Python是一种很棒的语言,因为它易学易用,易于使用.这是一种主流语言,但没有其他专业语言的所有令人分心的褶边.还有大量的图书馆可供选择,包括游戏,图形用户界面,科学和数学等."
   ]
  },
  {
   "cell_type": "markdown",
   "metadata": {},
   "source": [
    "[funNLP](https://github.com/fighting41love/funNLP): "
   ]
  },
  {
   "cell_type": "markdown",
   "metadata": {},
   "source": [
    "[scientific-python-lectures](https://github.com/jrjohansson/scientific-python-lectures):"
   ]
  },
  {
   "cell_type": "markdown",
   "metadata": {},
   "source": [
    "[项目](https://github.com/karan/Projects#numbers): 任何人都可以用任何编程语言解决的实际项目列表"
   ]
  },
  {
   "cell_type": "markdown",
   "metadata": {},
   "source": [
    "[A gallery of interesting Jupyter Notebooks](https://github.com/jupyter/jupyter/wiki/A-gallery-of-interesting-Jupyter-Notebooks):"
   ]
  },
  {
   "cell_type": "markdown",
   "metadata": {},
   "source": [
    "[PyQtGraph](http://www.pyqtgraph.org/): PyQtGraph是一个基于PyQt4 / PySide和numpy的纯python图形和GUI库。它适用于数学/科学/工程应用。尽管完全是用python编写的，但是由于数字运算的numpy和用于快速显示的Qt的GraphicsView框架具有很大的杠杆作用，因此库非常快。PyQtGraph是在MIT开源许可下发布的"
   ]
  },
  {
   "cell_type": "markdown",
   "metadata": {},
   "source": [
    "[PyMySQL](https://pymysql.readthedocs.io/en/latest/):"
   ]
  },
  {
   "cell_type": "code",
   "execution_count": 14,
   "metadata": {},
   "outputs": [
    {
     "name": "stdout",
     "output_type": "stream",
     "text": [
      ">>>>>>>>>>>>>>>>>>>>>>>>>>>>>>>>>>>>>>>!kk1:active>>>>>>>>>>>>>>>>>>>>>>>>>>>>>>>>>>>>>>>>\n"
     ]
    }
   ],
   "source": [
    "kk 1"
   ]
  },
  {
   "cell_type": "markdown",
   "metadata": {},
   "source": [
    "[NetworkX](https://networkx.github.io/documentation/networkx-1.10/reference/classes.html)"
   ]
  },
  {
   "cell_type": "markdown",
   "metadata": {},
   "source": [
    "[mongodb](https://docs.mongodb.com/manual/)"
   ]
  },
  {
   "cell_type": "code",
   "execution_count": 13,
   "metadata": {},
   "outputs": [
    {
     "name": "stdout",
     "output_type": "stream",
     "text": [
      "Python是一种很棒的语言,因为它易学易用,易于使用.这是一种主流语言,但没有其他专业语言的所有令人分心的褶边.还有大量的图书馆可供选择,包括游戏,图形用户界面,科学和数学等.\n"
     ]
    }
   ],
   "source": [
    "ggtrans(\"\"\"\n",
    "Python is a wonderful language because it’s easy to learn, easy to use, and easy to advance with. This is a mainstream language, but without all the distracting frills of other professional languages. There’s also a huge range of libraries available, for games, GUIs, science and mathematics, and so on.\n",
    "\"\"\")"
   ]
  },
  {
   "cell_type": "markdown",
   "metadata": {},
   "source": [
    "书籍:  \n",
    "python数据结构与算法code: http://bcs.wiley.com/he-bcs/Books?action=resource&bcsId=8029&itemId=1118290275&resourceId=31281"
   ]
  },
  {
   "cell_type": "markdown",
   "metadata": {},
   "source": [
    "[FreeCAD](https://github.com/FreeCAD/FreeCAD):"
   ]
  },
  {
   "cell_type": "markdown",
   "metadata": {},
   "source": [
    "Henkelman Group, Bader电荷分析: http://theory.cm.utexas.edu/henkelman/research/bader/"
   ]
  },
  {
   "cell_type": "markdown",
   "metadata": {},
   "source": [
    "可充电离子电池材料,结构和动力学: http://theory.cm.utexas.edu/henkelman/research/li_ion/"
   ]
  },
  {
   "cell_type": "markdown",
   "metadata": {},
   "source": [
    "费米面数据库: http://www.phys.ufl.edu/fermisurface/\n",
    "李明宪老师课程及教学网站: http://boson4.phys.tku.edu.tw/"
   ]
  },
  {
   "cell_type": "markdown",
   "metadata": {},
   "source": []
  },
  {
   "cell_type": "markdown",
   "metadata": {},
   "source": []
  },
  {
   "cell_type": "markdown",
   "metadata": {},
   "source": []
  },
  {
   "cell_type": "markdown",
   "metadata": {},
   "source": []
  },
  {
   "cell_type": "markdown",
   "metadata": {},
   "source": []
  },
  {
   "cell_type": "markdown",
   "metadata": {},
   "source": []
  },
  {
   "cell_type": "markdown",
   "metadata": {},
   "source": []
  },
  {
   "cell_type": "markdown",
   "metadata": {},
   "source": []
  },
  {
   "cell_type": "markdown",
   "metadata": {},
   "source": []
  },
  {
   "cell_type": "markdown",
   "metadata": {},
   "source": []
  },
  {
   "cell_type": "markdown",
   "metadata": {},
   "source": []
  },
  {
   "cell_type": "markdown",
   "metadata": {},
   "source": []
  },
  {
   "cell_type": "markdown",
   "metadata": {},
   "source": []
  }
 ],
 "metadata": {
  "kernelspec": {
   "display_name": "Python 3",
   "language": "python",
   "name": "python3"
  },
  "language_info": {
   "codemirror_mode": {
    "name": "ipython",
    "version": 3
   },
   "file_extension": ".py",
   "mimetype": "text/x-python",
   "name": "python",
   "nbconvert_exporter": "python",
   "pygments_lexer": "ipython3",
   "version": "3.6.5"
  },
  "toc": {
   "base_numbering": 1,
   "nav_menu": {},
   "number_sections": true,
   "sideBar": true,
   "skip_h1_title": false,
   "title_cell": "Table of Contents",
   "title_sidebar": "Contents",
   "toc_cell": false,
   "toc_position": {},
   "toc_section_display": true,
   "toc_window_display": false
  },
  "varInspector": {
   "cols": {
    "lenName": 16,
    "lenType": 16,
    "lenVar": 40
   },
   "kernels_config": {
    "python": {
     "delete_cmd_postfix": "",
     "delete_cmd_prefix": "del ",
     "library": "var_list.py",
     "varRefreshCmd": "print(var_dic_list())"
    },
    "r": {
     "delete_cmd_postfix": ") ",
     "delete_cmd_prefix": "rm(",
     "library": "var_list.r",
     "varRefreshCmd": "cat(var_dic_list()) "
    }
   },
   "types_to_exclude": [
    "module",
    "function",
    "builtin_function_or_method",
    "instance",
    "_Feature"
   ],
   "window_display": false
  }
 },
 "nbformat": 4,
 "nbformat_minor": 2
}
