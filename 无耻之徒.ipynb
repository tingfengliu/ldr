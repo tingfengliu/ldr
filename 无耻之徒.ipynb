{
 "cells": [
  {
   "cell_type": "markdown",
   "metadata": {},
   "source": [
    "1. jugs: /dʒʌɡ/, (有柄有嘴的)壶, 夜壶(骂人)\n",
    "1. snitch: [snɪtʃ], vi. 告密\n",
    "1. chop: [tʃɒp], n. 砍;排骨;商标;削球\n",
    "1. junkie: ['dʒʌŋkɪ], n.有毒瘾者\n",
    "1. shut the fuckup: 闭嘴  \n",
    "1. dead soul: 灵魂已死  "
   ]
  },
  {
   "cell_type": "markdown",
   "metadata": {},
   "source": [
    "** The favorite: 宠儿 **\n",
    "\n",
    "This mud stinks: 泥巴真臭  \n",
    "Clean yourself up: 把你自己打扫干净  \n",
    "You're such a child: 你太孩子气了  \n",
    "lisp: [lɪsp], nv. 口齿不清"
   ]
  },
  {
   "cell_type": "markdown",
   "metadata": {},
   "source": [
    "**泰坦尼克号**  \n",
    "1. No one who cared: 没人关心  \n",
    "1. This is absurd: 这荒谬  "
   ]
  },
  {
   "cell_type": "markdown",
   "metadata": {},
   "source": [
    "**韦恩**:  \n",
    "1. spoon: [spuːn], n.勺子  \n",
    "1. Don't bother: 不要操心  "
   ]
  },
  {
   "cell_type": "markdown",
   "metadata": {},
   "source": [
    "**表象之下**  \n",
    "1. Did I wake you: 我吵醒你了吗  \n",
    "1. Burn her or we will: 烧死她否则我们  \n",
    "1. Is anyone here: 这儿有人么\n",
    "1. Take me to the girl: 带我去见那个女孩 \n",
    "1. stay close: 紧跟着我 \n",
    "1. abbot: ['æbət], n. 男修道院院长;大寺院男住持\n",
    "1. the cross: 十字架  \n",
    "1. You do not belong here: 你不属于这里 \n",
    "1. I'm not going anywhere: 我哪里都不去\n",
    "1. i will do this alone: 我一个人做这件事  \n",
    "1. If there's any way I can assist? 有什么我能帮忙的么?\n",
    "1. sanctum: ['sæŋ(k)təm], n. 圣所;密室  \n",
    "1. I'll pray for you: 我为你祈祷  \n",
    "1. You scared me: 你吓死我了\n",
    "1. inner circle: 核心集团  \n",
    "1. inquisitor: [ɪn'kwɪzɪtə], n. 审判者\n",
    "1. The food is rotten: 食物腐烂了  \n",
    "1. Find you later: 过会再找你  \n",
    "1. stay back: 退后\n",
    "1. I slipped: 我滑到了  \n",
    "1. She's gone: 她死了\n",
    "1. I must be dreaming: 我一定是在做梦  \n",
    "1. How is this possible: 这怎么可能  \n",
    "1. Who goes there? 谁在那里?  \n",
    "1. purge the evil, purge the sins: 净化邪恶,净化罪过"
   ]
  },
  {
   "cell_type": "markdown",
   "metadata": {},
   "source": [
    "**憨豆特工3**  \n",
    "1. I assure you: 向你保证  \n",
    "1. nearly there: 很快就到了\n",
    "1. That's a shame: 真遗憾  \n",
    "1. Do what you have to do: 做你该做的  \n",
    "1. Do we have a deal? 我们能达成协议么?\n",
    "1. Not so fast: 不要走得难么快  "
   ]
  },
  {
   "cell_type": "markdown",
   "metadata": {},
   "source": [
    "**憨豆特工**  \n",
    "1. agent: 代理, 特工\n",
    "1. Don't be jealous: 不要嫉妒\n",
    "1. sign and date: 签字并注明日期\n",
    "1. hello yourself: 你也好\n",
    "1. What now? 现在怎么办?\n",
    "1. keep showing up: 阴魂不算 \n",
    "1. MI7: 军情7处 \n",
    "1. Everything set? 一切都安排好了么?\n",
    "1. I nearly forget: 我差一点忘了\n",
    "1. Alarm's disabled, sir: 警报已解除\n",
    "1. Hands up: 举起手来\n",
    "1. Wrong answer: 回答错误\n",
    "1. sb. has seen/known too much: 某人知道的太多了\n",
    "1. abdicate: ['æbdɪkeɪt], vi. 退位;放弃\n",
    "1. I'm off the case: 我不管这个案子了\n",
    "1. poop: [puːp], vi, 排便\n",
    "1. Take them away: 把他们带下去 \n",
    "1. hop: [hɒp], v. 跳跃\n",
    "1. rejoice: [rɪ'dʒɒɪs], v. 欢庆  \n",
    "1. Are you insane? 你疯了么\n",
    "1. Does your mother know? 你妈妈知道么\n"
   ]
  },
  {
   "cell_type": "code",
   "execution_count": 34,
   "metadata": {},
   "outputs": [
    {
     "name": "stdout",
     "output_type": "stream",
     "text": [
      "insane: [ɪn'seɪn]\n",
      "adj. 疯狂的;精神病的;极愚蠢的\n"
     ]
    }
   ],
   "source": [
    "youdao(\"insane\")"
   ]
  },
  {
   "cell_type": "markdown",
   "metadata": {},
   "source": []
  },
  {
   "cell_type": "markdown",
   "metadata": {},
   "source": []
  },
  {
   "cell_type": "markdown",
   "metadata": {},
   "source": []
  },
  {
   "cell_type": "markdown",
   "metadata": {},
   "source": []
  },
  {
   "cell_type": "markdown",
   "metadata": {},
   "source": []
  },
  {
   "cell_type": "markdown",
   "metadata": {},
   "source": []
  },
  {
   "cell_type": "markdown",
   "metadata": {},
   "source": []
  },
  {
   "cell_type": "markdown",
   "metadata": {},
   "source": []
  },
  {
   "cell_type": "markdown",
   "metadata": {},
   "source": []
  },
  {
   "cell_type": "markdown",
   "metadata": {},
   "source": []
  }
 ],
 "metadata": {
  "kernelspec": {
   "display_name": "Python 3",
   "language": "python",
   "name": "python3"
  },
  "language_info": {
   "codemirror_mode": {
    "name": "ipython",
    "version": 3
   },
   "file_extension": ".py",
   "mimetype": "text/x-python",
   "name": "python",
   "nbconvert_exporter": "python",
   "pygments_lexer": "ipython3",
   "version": "3.6.5"
  },
  "toc": {
   "base_numbering": 1,
   "nav_menu": {},
   "number_sections": true,
   "sideBar": true,
   "skip_h1_title": false,
   "title_cell": "Table of Contents",
   "title_sidebar": "Contents",
   "toc_cell": false,
   "toc_position": {},
   "toc_section_display": true,
   "toc_window_display": false
  },
  "varInspector": {
   "cols": {
    "lenName": 16,
    "lenType": 16,
    "lenVar": 40
   },
   "kernels_config": {
    "python": {
     "delete_cmd_postfix": "",
     "delete_cmd_prefix": "del ",
     "library": "var_list.py",
     "varRefreshCmd": "print(var_dic_list())"
    },
    "r": {
     "delete_cmd_postfix": ") ",
     "delete_cmd_prefix": "rm(",
     "library": "var_list.r",
     "varRefreshCmd": "cat(var_dic_list()) "
    }
   },
   "types_to_exclude": [
    "module",
    "function",
    "builtin_function_or_method",
    "instance",
    "_Feature"
   ],
   "window_display": false
  }
 },
 "nbformat": 4,
 "nbformat_minor": 2
}
