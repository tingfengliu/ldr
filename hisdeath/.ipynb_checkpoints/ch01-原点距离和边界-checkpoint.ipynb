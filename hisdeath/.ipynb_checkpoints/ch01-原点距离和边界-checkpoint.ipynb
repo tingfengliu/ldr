{
 "cells": [
  {
   "cell_type": "markdown",
   "metadata": {},
   "source": [
    "# 第一章: 原点距离和边界"
   ]
  },
  {
   "cell_type": "markdown",
   "metadata": {},
   "source": [
    "## 存在与虚无"
   ]
  },
  {
   "cell_type": "markdown",
   "metadata": {},
   "source": [
    "\"我无法同你们探讨在你的世界当中生命的起源亦或是宇宙的诞生, 我只想告诉你, 有关我的世界的历史--一段起源于虚无而后终结于虚无的历史--如果宇宙中的某个生命在我的记忆里了解了这个故事, 我将与我的世界一同在湮没的虚无之中重生;\" "
   ]
  },
  {
   "cell_type": "markdown",
   "metadata": {},
   "source": [
    "> 自始至终都是一个人的世界, 他只是一个人, 一个生命体, 如果浑身的细胞不配称之为生命个体的话, 如果人类是一盘散沙, 他们更像是一个蜂群, 浑身的细胞都是全同的, 群体性组成一个有实体的个体, 组成'他们'的世界"
   ]
  },
  {
   "cell_type": "markdown",
   "metadata": {},
   "source": [
    "我不知道他是谁, 我甚至忘记了我是谁, 我只记得就在那天, 我的脑海里突然有了他的声音, 我不知道他从哪里来, 为什么来, 是怎么来的, 以及他来做什么(拯救他们的记忆)..., 那个声音就是一直在我脑海说着, 时断时续, 漫无边际; 他就像在对着一个漂流瓶讲述一个故事, 将一根不知疲倦振动着的琴弦一起放在了漫无边际的洪流之中, 希望冲到某个生命的记忆里; "
   ]
  },
  {
   "cell_type": "markdown",
   "metadata": {},
   "source": [
    "有一种外星生命体, 族群性单一个体 , 生活在虚无和存在世界的疆界, 如果踏入虚无, 就会冬眠, 然后等待唤醒记忆重新开始"
   ]
  },
  {
   "cell_type": "markdown",
   "metadata": {},
   "source": [
    "穿插幻想, 然后叙述当今世界的一些容易被人忽视的规则, 一个"
   ]
  },
  {
   "cell_type": "markdown",
   "metadata": {},
   "source": [
    "凡是不被当今世界允许的, 都放入那个世界进行"
   ]
  },
  {
   "cell_type": "markdown",
   "metadata": {},
   "source": [
    "个体只是群脑的实验"
   ]
  },
  {
   "cell_type": "markdown",
   "metadata": {},
   "source": [
    "## 原点-以个人为中心"
   ]
  },
  {
   "cell_type": "markdown",
   "metadata": {},
   "source": []
  },
  {
   "cell_type": "markdown",
   "metadata": {},
   "source": [
    "## 距离--一个可以衍生十万个词汇的基本词汇"
   ]
  },
  {
   "cell_type": "markdown",
   "metadata": {},
   "source": []
  },
  {
   "cell_type": "markdown",
   "metadata": {},
   "source": [
    "## 边界--迷失在虚无"
   ]
  },
  {
   "cell_type": "markdown",
   "metadata": {},
   "source": [
    "原点和距离构成了自己的世界, 世界之外皆是虚无, 若踏过了这界, 便会淹没在虚无之中"
   ]
  },
  {
   "cell_type": "markdown",
   "metadata": {},
   "source": [
    "符号:   \n",
    "开放, 无限的体系: (0), {o}  \n",
    "[], 有界的体系;\n",
    "O:  "
   ]
  },
  {
   "cell_type": "markdown",
   "metadata": {},
   "source": [
    "$\\Delta$"
   ]
  },
  {
   "cell_type": "markdown",
   "metadata": {},
   "source": [
    "记忆与语言的关系(HTML->黑他猫, SEI斯);  \n",
    "符号系统: 缩减语言的字符数;"
   ]
  },
  {
   "cell_type": "markdown",
   "metadata": {},
   "source": [
    "`*`: 困惑;  \n",
    "`~`: 矛盾;自恰:"
   ]
  },
  {
   "cell_type": "markdown",
   "metadata": {},
   "source": [
    "可行性分析:   \n",
    "* 已知->结论?\n",
    "* 结果<-?条件\n",
    "\n",
    "操作性分析:   \n",
    "* 时间复杂度空间复杂度; 转化为一段程序;\n",
    "\n",
    "反应性分析:  \n",
    "* 脑回路不会阻塞(不会与已有观念产生矛盾);  \n",
    "* 忽略问题求解的策略和过程, 一步得到结果, 就好像在自己的大脑里烧录了操作性分析的程序(实则没有), 并且大脑的运算速度超快;"
   ]
  },
  {
   "cell_type": "markdown",
   "metadata": {},
   "source": []
  }
 ],
 "metadata": {
  "kernelspec": {
   "display_name": "Python 3",
   "language": "python",
   "name": "python3"
  },
  "language_info": {
   "codemirror_mode": {
    "name": "ipython",
    "version": 3
   },
   "file_extension": ".py",
   "mimetype": "text/x-python",
   "name": "python",
   "nbconvert_exporter": "python",
   "pygments_lexer": "ipython3",
   "version": "3.6.5"
  },
  "toc": {
   "base_numbering": 1,
   "nav_menu": {},
   "number_sections": true,
   "sideBar": true,
   "skip_h1_title": true,
   "title_cell": "Table of Contents",
   "title_sidebar": "Contents",
   "toc_cell": false,
   "toc_position": {},
   "toc_section_display": true,
   "toc_window_display": false
  }
 },
 "nbformat": 4,
 "nbformat_minor": 2
}
