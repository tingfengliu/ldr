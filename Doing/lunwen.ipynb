{
 "cells": [
  {
   "cell_type": "markdown",
   "metadata": {},
   "source": [
    "# 研究背景"
   ]
  },
  {
   "cell_type": "markdown",
   "metadata": {},
   "source": [
    "## 锂离子电池简介"
   ]
  },
  {
   "cell_type": "markdown",
   "metadata": {},
   "source": [
    "## 二维材料简介"
   ]
  },
  {
   "cell_type": "markdown",
   "metadata": {},
   "source": [
    "## Python简介"
   ]
  },
  {
   "cell_type": "markdown",
   "metadata": {},
   "source": [
    "对于涉及量化的科研工作者而言, 学习并掌握一门适合自己领域的程序语言至关重要. 因为程序的运用可极大的简化我们对数据的操作, 甚至影响我们看待问题的方式--能否以一种批量化的方式自动处理琐粹而易错的计算任务? 这亦与我们试图通过某些实验现象归纳实验规律的科研过程是不谋而合的. 现阶段, 中国高校通用的程序教学语言(非计算机专业)是C语言,MATLAB等, 但是C语言是一种'繁琐而令人生畏'的语言, 而MATLAB是一门价格昂贵的商业程序. 除了C语言和MATLAB, 仍有许多程序语言可供我们学习, 如C++, Java, Visual Basic, R等, 但无一例外的是这些语言设计的专业性太强或者并不适合我们的领域."
   ]
  },
  {
   "cell_type": "markdown",
   "metadata": {},
   "source": [
    "> |Python工具|简介|\n",
    "|:|:|\n",
    "|amp| 旨在将机器学习轻松地纳入原子计算是一个开源软件包.|\n",
    "|ase| 与原子模拟环境环境相关的工具集.|\n",
    "|chemview| 专为Jupyter Notebook设计的交互式分子查看器.|\n",
    "|ChemSpiPy| ChemSpider的包装器, 进行化学数据检索.|\n",
    "|deepchem| 药物发现和量子化学的深度学习模型.|\n",
    "|mendeleev| 以Python化的方式访问元素周期表中元素的各种属性.|\n",
    "|phonopy| 采用简谐近似或准简谐近似的声子计算包.|\n",
    "|pyvib2| 用于分析振动和振动光谱的程序.|\n",
    "|PLAMS| 用于自动化分子模拟的Python库.|\n",
    "|pybel| OpenBabel的Python接口, 进行各种化学文件的相互转换.|\n",
    "|pymatgen| 分析模拟结果的工具集, 集成了Materials Project的接口.|\n",
    "|PyMOL| 由Schrödinger用户赞助的开源分子可视化系统.|\n",
    "|pyscf| 用Python编写的量子化学包.|\n",
    "|PyQuante| 一个开发量子化学方法的开源程序套件.|\n",
    "|QUIP| 用于进行分子动力学模拟的软件工具集合.|\n",
    "\n",
    "> figurex.列出了Python在化学或计算化学领域中常见的一些项目, 其更多的项目列表可在GitHub库`awesome-python-chemistry`中查看[x]. 按用途可大致可以分为以下几类: 普通化学或化学信息学mendeleev, pybel), 分子可视化(ase-gui, PyMOL), 化学模拟(ase,pymatgen), 数据库包装器(ChemSpiPy)等. "
   ]
  },
  {
   "cell_type": "markdown",
   "metadata": {},
   "source": [
    "### Python的语言特点"
   ]
  },
  {
   "cell_type": "markdown",
   "metadata": {},
   "source": [
    "Python是一种面向对象的程序语言, 具有简单, 开源, 规范, 可扩展性强, 库丰富等特点, 无论其诞生之初的愿景如何, Python显然已成为各行各业从业人员学习一门程序语言的首选. Table 1是Python在化学或计算化学领域常见的一些项目. 当然Python也有缺点, 如在运行速度方面远远的落后与C语言, 但是一般的用户并不会有明显的感觉, 并且Python的很多模块都用C语言进行了优化(如Numpy).   "
   ]
  },
  {
   "cell_type": "markdown",
   "metadata": {},
   "source": [
    "Python的简单性可在与C语言的对比中说明. 比如现有一个问题, 计算线性代数中常见的矩阵乘法(AB). 如果要使用C语言实现的话, 可能必须使用循环, 同时遍历矩阵A的行和矩阵B的列, 然后将对应元素求和后放入输出矩阵C中由A的行号和B的列号同时决定的指定位置, 如此循环, 计算完C的所有元素.  更要命的是在C语言的循环中很可能会涉及到指针的操作, 而对于指针的操作, 即时是在计算机专业的初学者看来也是一道难以跨越的门槛. 而如果使用Python的话, 问题变得豁然开朗, Python有太多的库涉及矩阵的这一操作, 早已将其包装成了某个函数(例如Numpy或Scipy中的dot函数), 而我们要所做的仅仅是知道该函数的位置并了解其参数. Python的流形使得我们面临的\"任何问题\"很可能早已被别人解决, 而Python这个平台则为我们提供了现成的实现方案, 即使某个问题未在这个平台上解决, 我们仍可以从该平台搜寻到用之无尽的\"方案原型\", 在此基础上实现自己的想法将变得极其简单."
   ]
  },
  {
   "cell_type": "markdown",
   "metadata": {},
   "source": [
    "Python的开源性体现无需为任何开源软件支付任何费用, 因为这些软件并不是由商业公司开发, 而是由各个开源社区的人一起创建, 希望每个人都贡献自己的一份力量并服务于所有人. 开源运动起源于Linux的成长和发展, 其目的在于开放源代码, 追求信息的自由和共享. Python开源并不意味着与Python相关的软件都是开源的, 如Python的的集成开发环境PyCharm便是一个商业软件, 这是因为它不仅提供了Python的基本功能, 还提供了非Python的商业公司参入开发的功能, 可以方便代码的调试, 重构,测试等. 作为一般的用户, 我们无需使用商业软件, 因为某种商业软件都有其可替代的开源软件, 甚至某些商业软件也提供了其功能较为单一的开源版本. 开软项目的资金一般来源于开源社区的捐赠."
   ]
  },
  {
   "cell_type": "markdown",
   "metadata": {},
   "source": [
    "Python中规范包括强制性规范和非强制性规范, 这与Python的优雅性和简单性是密切相关的. 由于在C语言中代码缩进((语句前的空格数一致)是一种非强制性规范, 因此一段逻辑完全相同的代码在不同的程序员手下, 可以有不同的外观. 但是程序语言是给人看的, 而不是给机器(汇编语言)看的, 所以在Python中, 代码缩进变成了一种强制性规范, 要求逻辑一致的代码段必须具有一致的缩进, 因此可以保证逻辑一致的代码具有相同的外观. Python中最常见的非硬性规范是文档字符串, 文档字符串是包, 模块, 类或函数的第一个语句, 由于注释说明该对象的用途. 一个广为使用的Python模块必定有丰富的文档字符串, 这是我们学习某个模块的第一手资料, 这极大的降低了我们初次接触某个新模块时的困惑."
   ]
  },
  {
   "cell_type": "markdown",
   "metadata": {},
   "source": [
    "Python的可扩展性体现在两个方面. 一方面, 如果某段Python代码的运行速度成了整个程序的瓶颈, 此时不必重写整个程序, 只需把瓶颈处的代码换成C语言代码, 然后嵌入原先的Python程序当中即可. 这种Python+C的组合方式融合了Python易于实现以及C便于运行的双方优点. 另一方面, 非Python编写的流形软件都提供了Python访问程序接口(API), 而通过该接口我们不必掌握其他程序的的语法便可使用Python获取其解决方案. API可以简单的理解为连接Python和非Python之间的一座桥, 从桥的非Python端看, 该端为Python提供了自己所拥有的资源. 但从桥的Python端看, 可以看到无数的桥, 这使得Python API又好像一个\"杠杆\", 通过Python获取无数个桥背后的无尽的资源."
   ]
  },
  {
   "cell_type": "markdown",
   "metadata": {},
   "source": [
    "Python的库丰富性可从站点PyPI(Python包索引网站)查看, 其包含了与各行各业从业人员相关的近20万个python项目, 并且仍在不断发展当中. Python中关于科学计算和可视化的基础库有Numpy, Scipy, Matplotlib, Sympy, Pandas, Scikit Learn, Jupyter Notebook等. 其中, Numpy提供了多维数组操作和随机数生成的功能; Scipy提供了线性代数计算,统计分析和稀疏矩阵的功能; Matplotlib提供了二维或三维数据可视化功能; Pands提供了类似类Excel的数据表操作等功能; Scikit Learn则是一个关于及其学习的开源项目; Jupyter Notebook则是一个基于各种程序语言内核的文档式网页\"开发环境\"."
   ]
  },
  {
   "cell_type": "code",
   "execution_count": 1,
   "metadata": {},
   "outputs": [
    {
     "name": "stdout",
     "output_type": "stream",
     "text": [
      ">>>>>>>>>>>>>>>>>>>>>>>>>>>>>>>>>>>>>>>!kk1:active>>>>>>>>>>>>>>>>>>>>>>>>>>>>>>>>>>>>>>>>\n"
     ]
    }
   ],
   "source": [
    "kk 1"
   ]
  },
  {
   "cell_type": "markdown",
   "metadata": {},
   "source": [
    "### python的基本知识"
   ]
  },
  {
   "cell_type": "markdown",
   "metadata": {},
   "source": [
    "Python中需要注意的基本概念有: 对象, 模块, 包, 类, 方法, 属性, 特性等. Python是一门面向对象的程序设计语言, 可以将对象简单的认为是Python中所有有名字的变量, 是计算机内存中占有的一段数据, 不管是模块,类,函数, 还是普通的变量都可以当做是对象. 对象有时专指类的实例化对象, 而类是对现实生活中一类具有共同特征的事物的抽象, 类为其对象定义一系列与其相关的其描述性信息, 即属性或特性(可通过赋值进行修改), 以及与其相关的操作, 即方法. 包是包含源代码的总目录, 而模块是包中的文件.   "
   ]
  },
  {
   "cell_type": "markdown",
   "metadata": {},
   "source": [
    "模块一般定义了实现某种功能的类和常量, 以及对这些功能的说明文档即文档字符串, 可以说模块是是底层代码和文档字符串的集合. 文档字符串是我们学习Python某个函数的第一手资料, 很多解释器都可以自动搜集文档字符串, 如如IPython可使用对象?或??查看. 还可以使用内嵌函数dir()查看对象的属性和方法列表, dir2(自定义函数)实现带通配符的索引, 配合魔法命令 %col 可以将其输出按列显示, 见附录Code22."
   ]
  },
  {
   "cell_type": "code",
   "execution_count": 2,
   "metadata": {},
   "outputs": [
    {
     "name": "stdout",
     "output_type": "stream",
     "text": [
      "abs          |all        |any         |ascii       |\n",
      "bin          |bool       |bytearray   |bytes       |\n",
      "callable     |chr        |classmethod |compile     |\n",
      "complex      |copyright  |credits     |delattr     |\n",
      "dict         |dir        |display     |divmod      |\n",
      "enumerate    |eval       |exec        |filter      |\n",
      "float        |format     |frozenset   |get_ipython |\n",
      "getattr      |globals    |hasattr     |hash        |\n",
      "help         |hex        |id          |input       |\n",
      "int          |isinstance |issubclass  |iter        |\n",
      "len          |license    |list        |locals      |\n",
      "map          |max        |memoryview  |min         |\n",
      "next         |object     |oct         |open        |\n",
      "ord          |pow        |print       |property    |\n",
      "range        |repr       |reversed    |round       |\n",
      "set          |setattr    |slice       |sorted      |\n",
      "staticmethod |str        |sum         |super       |\n",
      "tuple        |type       |vars        |zip         |\n"
     ]
    },
    {
     "data": {
      "text/plain": [
       "'72'"
      ]
     },
     "execution_count": 2,
     "metadata": {},
     "output_type": "execute_result"
    }
   ],
   "source": [
    "# 查看Python的内置函数\n",
    "import builtins\n",
    "%col 4 dir2(builtins)"
   ]
  },
  {
   "cell_type": "markdown",
   "metadata": {},
   "source": [
    "Python的内置函数和数据类型. 附录Code xx 可查看所有的内置函数: 有些内置函数是关于数学运算的如sum,max等; 有些是关于输入输出的如input, print等; 有些是定义数据类型或数据结构的, 如str(字符串), list(列表), tuple(元组), dict(字典); 还有一些可用于Python自身的反射操作(搜集对象的文档字符串, 检查变量的类型等), 如help, dir等; 除了基本的整数,实数,字符串类型外, Python的内置类型还有列表, 字典等. 列表是任意对象的序列, 而字典是键值对序列, 列表和字典都可以进行迭代和索引. Python中的循环语句(可迭代序列中元素)和条件语句与其他语言类似, 只不过要特别注意缩进的问题即可. 除了标准的内置类型, 其他的模块也定了一些自己的数据类型, 如numpy定义了数组, Panda定义了Dataframe等."
   ]
  },
  {
   "cell_type": "markdown",
   "metadata": {},
   "source": [
    "更多的说明(如序列解包, 列表生成式, 生成器等)可以在任何一本Python教材中查看. 详细研讨一本Python教材, 对Python语言框架式的认识是有必要的, 但是一次性的掌握Python的所有细节却既不现实又没有必要. 因此更明智的学习方式是遇到问题之后再去详细的学习. 而关于一个函数或者类的学习, 可能根本不需要花费时间去查找其用途, 应为只需在IPython解释器中在其名称之后键入问号即可. 可以很方便的查看某个函数的源码, 参数及其说明, 有的还会给出示例."
   ]
  },
  {
   "cell_type": "markdown",
   "metadata": {},
   "source": [
    "下图显示了Python的组织结构, 使用dot程序绘制[]. 把Python放置在根节点, 其下的第一层是其可扩展的包, 可在PyPI等渠道下载. 简要显示ASE包内的层次, 目录calculators是ASE内有关计算器的子包, atoms.py是  ASE内的一个模块, 其中定义了类Atoms以及类实例所拥有的方法`set_*()`和`get_*()`."
   ]
  },
  {
   "cell_type": "code",
   "execution_count": 82,
   "metadata": {},
   "outputs": [],
   "source": [
    "!code data/python_tree.dot"
   ]
  },
  {
   "cell_type": "code",
   "execution_count": 101,
   "metadata": {},
   "outputs": [
    {
     "data": {
      "image/svg+xml": [
       "<?xml version=\"1.0\" encoding=\"UTF-8\" standalone=\"no\"?>\r\n",
       "<!DOCTYPE svg PUBLIC \"-//W3C//DTD SVG 1.1//EN\"\r\n",
       " \"http://www.w3.org/Graphics/SVG/1.1/DTD/svg11.dtd\">\r\n",
       "<!-- Generated by graphviz version 2.38.0 (20140413.2041)\r\n",
       " -->\r\n",
       "<!-- Title: python Pages: 1 -->\r\n",
       "<svg width=\"494pt\" height=\"330pt\"\r\n",
       " viewBox=\"0.00 0.00 494.00 330.00\" xmlns=\"http://www.w3.org/2000/svg\" xmlns:xlink=\"http://www.w3.org/1999/xlink\">\r\n",
       "<g id=\"graph0\" class=\"graph\" transform=\"scale(1 1) rotate(0) translate(4 326)\">\r\n",
       "<title>python</title>\r\n",
       "<polygon fill=\"white\" stroke=\"none\" points=\"-4,4 -4,-326 490,-326 490,4 -4,4\"/>\r\n",
       "<g id=\"clust2\" class=\"cluster\"><title>cluster0</title>\r\n",
       "<polygon fill=\"none\" stroke=\"black\" points=\"8,-175 8,-314 92,-314 92,-175 8,-175\"/>\r\n",
       "</g>\r\n",
       "<g id=\"clust3\" class=\"cluster\"><title>cluster1</title>\r\n",
       "<polygon fill=\"none\" stroke=\"black\" points=\"11,-8 11,-156 246,-156 246,-8 11,-8\"/>\r\n",
       "<text text-anchor=\"middle\" x=\"128.5\" y=\"-140.8\" font-family=\"Times New Roman,serif\" font-size=\"14.00\">包</text>\r\n",
       "</g>\r\n",
       "<g id=\"clust4\" class=\"cluster\"><title>cluster2</title>\r\n",
       "<polygon fill=\"none\" stroke=\"black\" points=\"254,-8 254,-156 472,-156 472,-8 254,-8\"/>\r\n",
       "<text text-anchor=\"middle\" x=\"363\" y=\"-140.8\" font-family=\"Times New Roman,serif\" font-size=\"14.00\">模块</text>\r\n",
       "</g>\r\n",
       "<!--  Python  -->\r\n",
       "<g id=\"node1\" class=\"node\"><title> Python </title>\r\n",
       "<polygon fill=\"lightblue\" stroke=\"lightblue\" points=\"84,-306 20,-306 20,-270 84,-270 84,-306\"/>\r\n",
       "<text text-anchor=\"middle\" x=\"52\" y=\"-284.3\" font-family=\"Times New Roman,serif\" font-size=\"14.00\"> Python </text>\r\n",
       "</g>\r\n",
       "<!-- Numpy -->\r\n",
       "<g id=\"node2\" class=\"node\"><title>Numpy</title>\r\n",
       "<polygon fill=\"none\" stroke=\"black\" points=\"160,-219 102,-219 102,-183 160,-183 160,-219\"/>\r\n",
       "<text text-anchor=\"middle\" x=\"131\" y=\"-197.3\" font-family=\"Times New Roman,serif\" font-size=\"14.00\">Numpy</text>\r\n",
       "</g>\r\n",
       "<!--  Python &#45;&gt;Numpy -->\r\n",
       "<g id=\"edge1\" class=\"edge\"><title> Python &#45;&gt;Numpy</title>\r\n",
       "<path fill=\"none\" stroke=\"black\" d=\"M67.9868,-269.799C79.8726,-257.01 96.2243,-239.417 109.292,-225.357\"/>\r\n",
       "<polygon fill=\"black\" stroke=\"black\" points=\"111.642,-226.942 115.037,-219.175 107.54,-223.129 111.642,-226.942\"/>\r\n",
       "</g>\r\n",
       "<!-- Matplotlib -->\r\n",
       "<g id=\"node3\" class=\"node\"><title>Matplotlib</title>\r\n",
       "<polygon fill=\"none\" stroke=\"black\" points=\"252,-219 178,-219 178,-183 252,-183 252,-219\"/>\r\n",
       "<text text-anchor=\"middle\" x=\"215\" y=\"-197.3\" font-family=\"Times New Roman,serif\" font-size=\"14.00\">Matplotlib</text>\r\n",
       "</g>\r\n",
       "<!--  Python &#45;&gt;Matplotlib -->\r\n",
       "<g id=\"edge2\" class=\"edge\"><title> Python &#45;&gt;Matplotlib</title>\r\n",
       "<path fill=\"none\" stroke=\"black\" d=\"M84.2036,-270.207C110.265,-256.616 147.099,-237.408 175.042,-222.837\"/>\r\n",
       "<polygon fill=\"black\" stroke=\"black\" points=\"176.507,-225.231 182.305,-219.049 173.917,-220.266 176.507,-225.231\"/>\r\n",
       "</g>\r\n",
       "<!-- Ase -->\r\n",
       "<g id=\"node4\" class=\"node\"><title>Ase</title>\r\n",
       "<polygon fill=\"none\" stroke=\"black\" points=\"324,-219 270,-219 270,-183 324,-183 324,-219\"/>\r\n",
       "<text text-anchor=\"middle\" x=\"297\" y=\"-197.3\" font-family=\"Times New Roman,serif\" font-size=\"14.00\">Ase</text>\r\n",
       "</g>\r\n",
       "<!--  Python &#45;&gt;Ase -->\r\n",
       "<g id=\"edge3\" class=\"edge\"><title> Python &#45;&gt;Ase</title>\r\n",
       "<path fill=\"none\" stroke=\"black\" d=\"M84.3145,-277.871C125.769,-265.846 199.645,-243.354 261,-219 261.353,-218.86 261.708,-218.718 262.064,-218.574\"/>\r\n",
       "<polygon fill=\"black\" stroke=\"black\" points=\"263.371,-221.061 269.64,-215.358 261.182,-215.906 263.371,-221.061\"/>\r\n",
       "</g>\r\n",
       "<!-- Pymatgen -->\r\n",
       "<g id=\"node5\" class=\"node\"><title>Pymatgen</title>\r\n",
       "<polygon fill=\"none\" stroke=\"black\" points=\"413.5,-219 342.5,-219 342.5,-183 413.5,-183 413.5,-219\"/>\r\n",
       "<text text-anchor=\"middle\" x=\"378\" y=\"-197.3\" font-family=\"Times New Roman,serif\" font-size=\"14.00\">Pymatgen</text>\r\n",
       "</g>\r\n",
       "<!--  Python &#45;&gt;Pymatgen -->\r\n",
       "<g id=\"edge4\" class=\"edge\"><title> Python &#45;&gt;Pymatgen</title>\r\n",
       "<path fill=\"none\" stroke=\"black\" d=\"M84.0005,-280.766C136.571,-270.19 244.239,-247.116 333,-219 333.473,-218.85 333.948,-218.698 334.425,-218.544\"/>\r\n",
       "<polygon fill=\"black\" stroke=\"black\" points=\"335.575,-221.111 342.262,-215.903 333.787,-215.805 335.575,-221.111\"/>\r\n",
       "</g>\r\n",
       "<!-- ... -->\r\n",
       "<g id=\"node6\" class=\"node\"><title>...</title>\r\n",
       "<polygon fill=\"none\" stroke=\"black\" points=\"486,-219 432,-219 432,-183 486,-183 486,-219\"/>\r\n",
       "<text text-anchor=\"middle\" x=\"459\" y=\"-197.3\" font-family=\"Times New Roman,serif\" font-size=\"14.00\">...</text>\r\n",
       "</g>\r\n",
       "<!--  Python &#45;&gt;... -->\r\n",
       "<g id=\"edge5\" class=\"edge\"><title> Python &#45;&gt;...</title>\r\n",
       "<path fill=\"none\" stroke=\"black\" d=\"M84.2452,-284.086C149.552,-277.537 301.561,-258.993 423,-219 423.361,-218.881 423.723,-218.759 424.086,-218.635\"/>\r\n",
       "<polygon fill=\"black\" stroke=\"black\" points=\"425.289,-221.174 431.768,-215.709 423.295,-215.94 425.289,-221.174\"/>\r\n",
       "</g>\r\n",
       "<!-- 非Python -->\r\n",
       "<g id=\"node7\" class=\"node\"><title>非Python</title>\r\n",
       "<polygon fill=\"#c1b2ff\" stroke=\"#c1b2ff\" points=\"84,-219 16,-219 16,-183 84,-183 84,-219\"/>\r\n",
       "<text text-anchor=\"middle\" x=\"50\" y=\"-197.3\" font-family=\"Times New Roman,serif\" font-size=\"14.00\">非Python</text>\r\n",
       "</g>\r\n",
       "<!--  Python &#45;&gt;非Python -->\r\n",
       "<g id=\"edge6\" class=\"edge\"><title> Python &#45;&gt;非Python</title>\r\n",
       "<path fill=\"none\" stroke=\"black\" stroke-dasharray=\"1,5\" d=\"M51.4046,-261.694C51.1499,-250.869 50.853,-238.254 50.5981,-227.417\"/>\r\n",
       "<polygon fill=\"black\" stroke=\"black\" points=\"48.6078,-261.867 51.5953,-269.799 54.2062,-261.735 48.6078,-261.867\"/>\r\n",
       "<polygon fill=\"black\" stroke=\"black\" points=\"53.3916,-227.107 50.4041,-219.175 47.7932,-227.239 53.3916,-227.107\"/>\r\n",
       "<text text-anchor=\"middle\" x=\"63.5\" y=\"-240.8\" font-family=\"Times New Roman,serif\" font-size=\"14.00\">API</text>\r\n",
       "</g>\r\n",
       "<!-- calculators -->\r\n",
       "<g id=\"node8\" class=\"node\"><title>calculators</title>\r\n",
       "<polygon fill=\"none\" stroke=\"black\" points=\"210.5,-125 133.5,-125 133.5,-89 210.5,-89 210.5,-125\"/>\r\n",
       "<text text-anchor=\"middle\" x=\"172\" y=\"-103.3\" font-family=\"Times New Roman,serif\" font-size=\"14.00\">calculators</text>\r\n",
       "</g>\r\n",
       "<!-- Ase&#45;&gt;calculators -->\r\n",
       "<g id=\"edge7\" class=\"edge\"><title>Ase&#45;&gt;calculators</title>\r\n",
       "<path fill=\"none\" stroke=\"black\" d=\"M273.781,-182.911C253.562,-168.03 224.119,-146.36 202.096,-130.151\"/>\r\n",
       "<polygon fill=\"black\" stroke=\"black\" points=\"203.621,-127.797 195.518,-125.31 200.302,-132.307 203.621,-127.797\"/>\r\n",
       "</g>\r\n",
       "<!-- atoms.py -->\r\n",
       "<g id=\"node12\" class=\"node\"><title>atoms.py</title>\r\n",
       "<polygon fill=\"none\" stroke=\"black\" points=\"354,-125 286,-125 286,-89 354,-89 354,-125\"/>\r\n",
       "<text text-anchor=\"middle\" x=\"320\" y=\"-103.3\" font-family=\"Times New Roman,serif\" font-size=\"14.00\">atoms.py</text>\r\n",
       "</g>\r\n",
       "<!-- Ase&#45;&gt;atoms.py -->\r\n",
       "<g id=\"edge11\" class=\"edge\"><title>Ase&#45;&gt;atoms.py</title>\r\n",
       "<path fill=\"none\" stroke=\"black\" d=\"M301.326,-182.696C304.828,-168.689 309.807,-148.772 313.743,-133.027\"/>\r\n",
       "<polygon fill=\"black\" stroke=\"black\" points=\"316.469,-133.667 315.693,-125.227 311.037,-132.309 316.469,-133.667\"/>\r\n",
       "</g>\r\n",
       "<!-- abinit.py -->\r\n",
       "<g id=\"node9\" class=\"node\"><title>abinit.py</title>\r\n",
       "<polygon fill=\"none\" stroke=\"black\" points=\"84.5,-52 19.5,-52 19.5,-16 84.5,-16 84.5,-52\"/>\r\n",
       "<text text-anchor=\"middle\" x=\"52\" y=\"-30.3\" font-family=\"Times New Roman,serif\" font-size=\"14.00\">abinit.py</text>\r\n",
       "</g>\r\n",
       "<!-- calculators&#45;&gt;abinit.py -->\r\n",
       "<g id=\"edge8\" class=\"edge\"><title>calculators&#45;&gt;abinit.py</title>\r\n",
       "<path fill=\"none\" stroke=\"black\" d=\"M143.257,-88.9937C126.755,-79.2298 105.876,-66.8763 88.2545,-56.4506\"/>\r\n",
       "<polygon fill=\"black\" stroke=\"black\" points=\"89.2353,-53.7775 80.9244,-52.1136 86.3837,-58.5971 89.2353,-53.7775\"/>\r\n",
       "</g>\r\n",
       "<!-- dmol.py -->\r\n",
       "<g id=\"node10\" class=\"node\"><title>dmol.py</title>\r\n",
       "<polygon fill=\"none\" stroke=\"black\" points=\"165.5,-52 102.5,-52 102.5,-16 165.5,-16 165.5,-52\"/>\r\n",
       "<text text-anchor=\"middle\" x=\"134\" y=\"-30.3\" font-family=\"Times New Roman,serif\" font-size=\"14.00\">dmol.py</text>\r\n",
       "</g>\r\n",
       "<!-- calculators&#45;&gt;dmol.py -->\r\n",
       "<g id=\"edge9\" class=\"edge\"><title>calculators&#45;&gt;dmol.py</title>\r\n",
       "<path fill=\"none\" stroke=\"black\" d=\"M162.801,-88.8129C158.04,-79.9174 152.149,-68.9094 146.937,-59.1717\"/>\r\n",
       "<polygon fill=\"black\" stroke=\"black\" points=\"149.358,-57.7609 143.114,-52.0288 144.42,-60.4034 149.358,-57.7609\"/>\r\n",
       "</g>\r\n",
       "<!-- vasp -->\r\n",
       "<g id=\"node11\" class=\"node\"><title>vasp</title>\r\n",
       "<polygon fill=\"none\" stroke=\"black\" points=\"238,-52 184,-52 184,-16 238,-16 238,-52\"/>\r\n",
       "<text text-anchor=\"middle\" x=\"211\" y=\"-30.3\" font-family=\"Times New Roman,serif\" font-size=\"14.00\">vasp</text>\r\n",
       "</g>\r\n",
       "<!-- calculators&#45;&gt;vasp -->\r\n",
       "<g id=\"edge10\" class=\"edge\"><title>calculators&#45;&gt;vasp</title>\r\n",
       "<path fill=\"none\" stroke=\"black\" d=\"M181.441,-88.8129C186.327,-79.9174 192.374,-68.9094 197.723,-59.1717\"/>\r\n",
       "<polygon fill=\"black\" stroke=\"black\" points=\"200.249,-60.3887 201.646,-52.0288 195.34,-57.6926 200.249,-60.3887\"/>\r\n",
       "</g>\r\n",
       "<!-- Atoms -->\r\n",
       "<g id=\"node13\" class=\"node\"><title>Atoms</title>\r\n",
       "<polygon fill=\"none\" stroke=\"black\" points=\"316,-52 262,-52 262,-16 316,-16 316,-52\"/>\r\n",
       "<text text-anchor=\"middle\" x=\"289\" y=\"-30.3\" font-family=\"Times New Roman,serif\" font-size=\"14.00\">Atoms</text>\r\n",
       "</g>\r\n",
       "<!-- atoms.py&#45;&gt;Atoms -->\r\n",
       "<g id=\"edge12\" class=\"edge\"><title>atoms.py&#45;&gt;Atoms</title>\r\n",
       "<path fill=\"none\" stroke=\"black\" d=\"M312.496,-88.8129C308.65,-80.0046 303.9,-69.125 299.679,-59.4584\"/>\r\n",
       "<polygon fill=\"black\" stroke=\"black\" points=\"302.202,-58.2401 296.435,-52.0288 297.07,-60.4809 302.202,-58.2401\"/>\r\n",
       "</g>\r\n",
       "<!-- set_*() -->\r\n",
       "<g id=\"node14\" class=\"node\"><title>set_*()</title>\r\n",
       "<polygon fill=\"none\" stroke=\"black\" points=\"390,-52 334,-52 334,-16 390,-16 390,-52\"/>\r\n",
       "<text text-anchor=\"middle\" x=\"362\" y=\"-30.3\" font-family=\"Times New Roman,serif\" font-size=\"14.00\">set_*()</text>\r\n",
       "</g>\r\n",
       "<!-- atoms.py&#45;&gt;set_*() -->\r\n",
       "<g id=\"edge13\" class=\"edge\"><title>atoms.py&#45;&gt;set_*()</title>\r\n",
       "<path fill=\"none\" stroke=\"black\" d=\"M330.167,-88.8129C335.429,-79.9174 341.941,-68.9094 347.701,-59.1717\"/>\r\n",
       "<polygon fill=\"black\" stroke=\"black\" points=\"350.263,-60.3399 351.927,-52.0288 345.444,-57.4887 350.263,-60.3399\"/>\r\n",
       "</g>\r\n",
       "<!-- get_*() -->\r\n",
       "<g id=\"node15\" class=\"node\"><title>get_*()</title>\r\n",
       "<polygon fill=\"none\" stroke=\"black\" points=\"464,-52 408,-52 408,-16 464,-16 464,-52\"/>\r\n",
       "<text text-anchor=\"middle\" x=\"436\" y=\"-30.3\" font-family=\"Times New Roman,serif\" font-size=\"14.00\">get_*()</text>\r\n",
       "</g>\r\n",
       "<!-- atoms.py&#45;&gt;get_*() -->\r\n",
       "<g id=\"edge14\" class=\"edge\"><title>atoms.py&#45;&gt;get_*()</title>\r\n",
       "<path fill=\"none\" stroke=\"black\" d=\"M347.785,-88.9937C363.737,-79.2298 383.92,-66.8763 400.954,-56.4506\"/>\r\n",
       "<polygon fill=\"black\" stroke=\"black\" points=\"402.678,-58.6782 408.04,-52.1136 399.755,-53.9018 402.678,-58.6782\"/>\r\n",
       "</g>\r\n",
       "</g>\r\n",
       "</svg>\r\n"
      ],
      "text/plain": [
       "<graphviz.files.Source at 0x1a2f0ba69b0>"
      ]
     },
     "execution_count": 101,
     "metadata": {},
     "output_type": "execute_result"
    }
   ],
   "source": [
    "dot2graph(\"data/python_tree.dot\")"
   ]
  },
  {
   "cell_type": "markdown",
   "metadata": {},
   "source": [
    "### Python集成开发环境"
   ]
  },
  {
   "cell_type": "markdown",
   "metadata": {},
   "source": [
    "学习Python的第一步是Python解释器或IDE(集成式开发环境)的选择. Python解释器是按行\"翻译\"Python语句的程序, Python IDE是集成了解释器,编辑器,调试器等与编程相关功能的程序集, 以便为项目开发提供一个便捷和舒适的环境. Python的IDE种类丰富各有特色, 其中最常见的是有: Python官网提供的IDLE, 轻便但功能较为单一; 可通过U盘在Windows系统之间移植的WinPython, 只能在Windows下使用; 功能十分齐全但是专业版价格较贵的PyChem; 开源, 且在科研领域十分流行的Anaconda; 本文将选择Anaconda为主要的Python开发环境, 因为其内置的众多包可以免去在孤立系统中安装时的繁琐(依赖项), 并且其内置了Ipython解释器和Jupyter Notebook, 以及类似于Matlab的程序界面Spyder.   \n",
    "Ipython(Interactive Python)主要功能是具有交互式增强的Shell以及可与Jupyter Notebook进行耦合. 交互式增强Shell的主要特点有: TAB对象补全; 动态对象内省, 即可以在任何对象的后面键入`?`或`??` 查看文档字符串, 函数定义原型, 源代码等; 系统命令调用, 即通过在系统命令前键入`!`的方式可以在Python解释器中直接调用系统命令; 可扩展的Magic方法, 内嵌的行命令以`%`开头, 内嵌的单元命令以`%%`开头;  \n",
    "Jupyter Notebook是一种基于网页的文档编辑工具, 类似于Word但比其更加简单和便捷. 如果将Jupyter和ipython耦合, 那么在编写文档中程序代码的同时可以使其运行并将其结果嵌入到文档当中. 启动Jupyter Notebook的服务器之后, 会自动在浏览器内打开一个页面(其默认地址为http://127.0.0.1:8888), 可以在该页面内创建目录和文件, 实则对应的是本机中的目录. 每个文档都有一些竖向排列的单元格构成, 每个单元格可以有两种格式, 普通Markdown文本以及可运行的Python代码, 如[图] Markdown是一种简化的格式化文本工具, 基于Markdown的Jupyter可以便捷的在文档内输入公式, 图表, 甚至是视频和声音等. Ipython相当于Jupyter的运算核, 进行代码的运行, Jupyter可以配置任意语言的运算核, 例如MATLAB和C等."
   ]
  },
  {
   "cell_type": "markdown",
   "metadata": {},
   "source": [
    "# 电子结构理论"
   ]
  },
  {
   "cell_type": "markdown",
   "metadata": {},
   "source": [
    "## 概述"
   ]
  },
  {
   "cell_type": "markdown",
   "metadata": {},
   "source": [
    "### 起源和发展"
   ]
  },
  {
   "cell_type": "markdown",
   "metadata": {},
   "source": [
    "自发现电子以来, 电子结构理论已成为认识材料性质的基本理论, 无论这种材料是自然的还是人造的, 无论这种性质是处于基态的还是处于激发态的. 而电子结构理论与量子力学的创立和发展息息相关, 并在诺贝尔奖档案史或科技史上留下了一次次辉煌的印记.  "
   ]
  },
  {
   "cell_type": "markdown",
   "metadata": {},
   "source": [
    "1896年, 洛伦兹用其电子理论解释了塞曼所发现的磁致谱线分裂现象, 该理论认为物质中存在带负电的粒子, 能传导电流且振荡产生光. 1897年, 汤姆逊在气体放电实验中验证了电子的存在. 1900年, 普朗克用能量量子化的概念推导出了黑体辐射的能量密度公式, 标志着量子理论的诞生. 1905年, 爱因斯坦用光量子的概念解释了光电效应, 光量子(光具有粒子性)的真实性于1924年由康普顿的散射实验所验证. 1907年, 爱因斯坦用量子理论解释了原子比热与温度的关系. 1911年, 卢瑟福发现了原子核的存在. 1913年, 玻尔用量子概念解释了原子结构--为何电子和原子核的不会因为吸引而塌缩. 1923年, 德布罗意提出了物质波的概念(即电子具有波动性), 并于1927年由戴维逊和盖末的电子衍射试验所证实. 1925年, 泡利用不相容原理解释了元素周期性. 1923年至1926年期间是是量子力学史上最辉煌的时期, 海森堡以矩阵力学的形式, 薛定谔以波动力学的形式创立了量子力学, 之后狄拉克还创立了相对论性的量子力学.   "
   ]
  },
  {
   "cell_type": "markdown",
   "metadata": {},
   "source": [
    "量子力学创立之后, 人们迅速将其应用于解释分子和固体的电子结构和性质, 逐渐形成了化学键的概念. 例如1927年, 海特勒和伦敦使用量子力学处理了氢分子的电子结构, 指明其分子轨道可通过修改原子轨道的方式创建, 标志着量子化学的诞生.  随着量子力学的发展, 其所能处理的对象不再局限于简单原子和分子, 已逐渐扩展为复杂的体系, 如晶体结构, 其中理解晶体电子结构的关键一步是布洛赫定理, 即晶体中的波函数是晶格周期调幅的平面波. 1933年, 魏格纳和赛茨计算了Na晶体中的能量-距离曲线, 1934年斯莱特计算了金属钠的能带, 其具有近自由电子的特点.   "
   ]
  },
  {
   "cell_type": "markdown",
   "metadata": {},
   "source": [
    "由于量子体系的复杂性, 求解量子问题必须涉及很多近似, 如非相对论近似, 只考虑核与电子,电子与电子之间的静电相互和不考虑磁效应等; 独立电子近似, 忽略电子之间的相关性, 每个电子都在其他电子的平均有效势中运动; 中心力场近似, 假设单电子有效平均势是球对称的; 绝热近似, 将核运动和电子运动分开讨论; 其中电子相关性的问题至今仍是量子力学问题求解的最大挑战. 近几十年来主要的理论和计算方法有: 用于计算电子基态的密度泛函理论(可扩展处理激发态); 可直接处理电子与核的多体交互体系量子蒙特卡洛方法以及多体微扰电子激发谱等."
   ]
  },
  {
   "cell_type": "markdown",
   "metadata": {},
   "source": [
    "### 应用"
   ]
  },
  {
   "cell_type": "markdown",
   "metadata": {},
   "source": [
    "电子结构理论可用于解释物质的性质, 用以描述实验观察到的现象. 物质性质可分为基态性质和激发态性质. 其中基态性质由内聚能, 平衡晶体结构, 结构相变, 弹性常数, 电荷密度, 磁序和磁极化率, 静态介电常数, 核振动等; 激发态性质包括涉及如金属比热,电子输送的低能激发; 涉及绝缘体能隙,光学特性,添加或去除电子光谱的高能激发以及许多其他特性."
   ]
  },
  {
   "cell_type": "markdown",
   "metadata": {},
   "source": [
    "基态电子密度决定键的类型. "
   ]
  },
  {
   "cell_type": "code",
   "execution_count": 4,
   "metadata": {},
   "outputs": [
    {
     "name": "stdout",
     "output_type": "stream",
     "text": [
      ">>>>>>>>>>>>>>>>>>>>>>>>>>>>>>>>>>>>>>>!kk1:active>>>>>>>>>>>>>>>>>>>>>>>>>>>>>>>>>>>>>>>>\n"
     ]
    }
   ],
   "source": [
    "kk 1"
   ]
  },
  {
   "cell_type": "markdown",
   "metadata": {},
   "source": [
    "## 密度泛函理论"
   ]
  },
  {
   "cell_type": "markdown",
   "metadata": {},
   "source": [
    "1. 绿色书\n",
    "1. 近期发展"
   ]
  },
  {
   "cell_type": "markdown",
   "metadata": {},
   "source": [
    "# python在计算化学领域中的应用"
   ]
  },
  {
   "cell_type": "markdown",
   "metadata": {},
   "source": [
    "## 常用Python化学包简介"
   ]
  },
  {
   "cell_type": "markdown",
   "metadata": {},
   "source": [
    "普通化学包中的典型代表是mendeleev(门捷列夫) [ck] 和pybel, 可以分别提供元素性质访问和化学数据转换等功能.  \n",
    "OpenBabel是对化学数据进行查询, 转换, 分析和存储的开源项目, Python包openbabel是其Python API, pybel是openbabel的简化版本, 提供了更简单的类接口和函数. Openbabel支持110多种化学数据之间的交换, 亦可通过分子骨架数据创建分子图示, 如下程序可将SMILES数据图示化. Opnebabel所能转化的数据大多是化学信息学所用的数据, 对于计算模拟软件的数据类型支持的可能并不是很好."
   ]
  },
  {
   "cell_type": "code",
   "execution_count": 117,
   "metadata": {},
   "outputs": [
    {
     "data": {
      "image/svg+xml": [
       "<svg xmlns=\"http://www.w3.org/2000/svg\" font-family=\"sans-serif\" height=\"100\" stroke=\"rgb(0,0,0)\" stroke-linecap=\"round\" stroke-width=\"2\" viewBox=\"0 0 183.923 160\" width=\"100\" x=\"0\" y=\"0\">\n",
       "<line stroke=\"rgb(0,0,0)\" stroke-width=\"2.0\" x1=\"109.3\" x2=\"132.7\" y1=\"100.0\" y2=\"113.5\" />\n",
       "<line stroke=\"rgb(0,0,0)\" stroke-width=\"2.0\" x1=\"40.0\" x2=\"74.6\" y1=\"60.0\" y2=\"40.0\" />\n",
       "<line stroke=\"rgb(0,0,0)\" stroke-width=\"2.0\" x1=\"48.8\" x2=\"73.0\" y1=\"63.2\" y2=\"49.2\" />\n",
       "<line stroke=\"rgb(0,0,0)\" stroke-width=\"2.0\" x1=\"74.6\" x2=\"109.3\" y1=\"40.0\" y2=\"60.0\" />\n",
       "<line stroke=\"rgb(0,0,0)\" stroke-width=\"2.0\" x1=\"109.3\" x2=\"109.3\" y1=\"60.0\" y2=\"100.0\" />\n",
       "<line stroke=\"rgb(0,0,0)\" stroke-width=\"2.0\" x1=\"102.1\" x2=\"102.1\" y1=\"66.0\" y2=\"94.0\" />\n",
       "<line stroke=\"rgb(0,0,0)\" stroke-width=\"2.0\" x1=\"109.3\" x2=\"74.6\" y1=\"100.0\" y2=\"120.0\" />\n",
       "<line stroke=\"rgb(0,0,0)\" stroke-width=\"2.0\" x1=\"74.6\" x2=\"40.0\" y1=\"120.0\" y2=\"100.0\" />\n",
       "<line stroke=\"rgb(0,0,0)\" stroke-width=\"2.0\" x1=\"73.0\" x2=\"48.8\" y1=\"110.8\" y2=\"96.8\" />\n",
       "<line stroke=\"rgb(0,0,0)\" stroke-width=\"2.0\" x1=\"40.0\" x2=\"40.0\" y1=\"100.0\" y2=\"60.0\" />\n",
       "<text fill=\"rgb(255,12,12)\" font-size=\"16\" stroke=\"rgb(255,12,12)\" stroke-width=\"1\" x=\"137.923048\" y=\"128.000000\">OH</text>\n",
       "</svg>\n"
      ],
      "text/plain": [
       "<pybel.Molecule at 0x1a2ef5c1ba8>"
      ]
     },
     "execution_count": 117,
     "metadata": {},
     "output_type": "execute_result"
    }
   ],
   "source": [
    "smile(\"c1ccccc1(O)\")"
   ]
  },
  {
   "cell_type": "markdown",
   "metadata": {},
   "source": [
    "mendeleev该包提供了一个API(程序访问接口), 可用于访问元素周期表中元素(或离子,同位素)的各种属性, 此外它还提供了创建和可视化元素周期表的功能. 图[]和图四是从mendeleev获取数据之后使用Matplotlib绘制的图, 图[]原子第一电离能与原子序数之间的关系, 可以看出电离能具有明显的周期性. 图[]是 是过渡金属的熔点对比图, 每个周期的金属熔点的分布形状类似.."
   ]
  },
  {
   "cell_type": "code",
   "execution_count": 69,
   "metadata": {},
   "outputs": [
    {
     "data": {
      "text/plain": [
       "Text(0,0.5,'$log(I_1$)/(eV)')"
      ]
     },
     "execution_count": 69,
     "metadata": {},
     "output_type": "execute_result"
    },
    {
     "data": {
      "image/png": "[encoded data removed]",
      "text/plain": [
       "<Figure size 432x288 with 1 Axes>"
      ]
     },
     "metadata": {},
     "output_type": "display_data"
    }
   ],
   "source": [
    "from mendeleev import element\n",
    "# 原子第一电离能与原子序数的关系\n",
    "energies = [np.log10(element(int(i)).ionenergies[1]) for i in np.arange(1,100)]\n",
    "atomic_number = [element(int(i)).atomic_number for i in np.arange(1,100)]\n",
    "plt.plot(atomic_number,energies,':o');\n",
    "\n",
    "cols = [1,2,3,10,11,18,19,36,37,54,55,86,87]\n",
    "for i in cols:\n",
    "    plt.text(i+0.2,energies[i-1],element(int(i)).symbol)\n",
    "\n",
    "plt.xlabel(\"Atomic Number\")\n",
    "plt.ylabel(\"$log(I_1$)/(eV)\")"
   ]
  },
  {
   "cell_type": "code",
   "execution_count": 70,
   "metadata": {},
   "outputs": [
    {
     "data": {
      "text/plain": [
       "(0, 13)"
      ]
     },
     "execution_count": 70,
     "metadata": {},
     "output_type": "execute_result"
    },
    {
     "data": {
      "image/png": "[encoded data removed]",
      "text/plain": [
       "<Figure size 432x288 with 1 Axes>"
      ]
     },
     "metadata": {},
     "output_type": "display_data"
    }
   ],
   "source": [
    "# 第四, 第五, 第六周期金属的熔点分布\n",
    "raw4 = np.arange(19,31)\n",
    "raw5 = np.arange(37,49)\n",
    "raw6 = [55,56,57,72,73,74,75,76,77,78,79,80]\n",
    "for raw in [raw4, raw5, raw6]:\n",
    "    melting_point = [element(int(i)).melting_point for i in raw]\n",
    "    groups = [element(int(i)).group_id for i in raw]\n",
    "    plt.plot(groups,melting_point,':o')\n",
    "    symbols = [element(int(i)).symbol for i in raw]\n",
    "    for idx in np.arange(3,9):\n",
    "        plt.text(groups[idx]+0.1,melting_point[idx]+10,symbols[idx], fontsize=10)\n",
    "plt.xlabel('Group ID')\n",
    "plt.ylabel('MP/(K)')\n",
    "plt.xlim(0,13)"
   ]
  },
  {
   "cell_type": "markdown",
   "metadata": {},
   "source": [
    "结构可视化包有pymol和ase-gui等. Pymol由Schrödinger公司的用户维护的分子可视化工具, 主要应用于结构生物学. ase-gui是Ase集成包的一部分, 可进行一些基本的结构可视化操作, 配合Python语句可进行一些基本的结构处理. chemspider是一个化学信息学在线数据库, 可进行化学数据检索和化学文件下载, Python包ChemSpiPy提供了一种在Python中与ChemSpider交互的方法. 获取阿司匹林(ID 2157)的数据."
   ]
  },
  {
   "cell_type": "code",
   "execution_count": 120,
   "metadata": {},
   "outputs": [],
   "source": [
    "from chemspipy import ChemSpider\n",
    "cs = ChemSpider('FF37OwRwIAJYux1vZicusKGG4iGnV9xw')"
   ]
  },
  {
   "cell_type": "code",
   "execution_count": 121,
   "metadata": {},
   "outputs": [
    {
     "data": {
      "image/png": "[encoded data removed]",
      "text/plain": [
       "Compound(2157)"
      ]
     },
     "execution_count": 121,
     "metadata": {},
     "output_type": "execute_result"
    }
   ],
   "source": [
    "c = cs.get_compound(2157)\n",
    "c"
   ]
  },
  {
   "cell_type": "code",
   "execution_count": 125,
   "metadata": {},
   "outputs": [
    {
     "name": "stdout",
     "output_type": "stream",
     "text": [
      "c.common_name  c.molecular_formula  c.molecular_weight          c.smiles       \n",
      "-------------  -------------------  ------------------  -----------------------\n",
      "'Aspirin'      'C_{9}H_{8}O_{4}'    180.16              'CC(=O)Oc1ccccc1C(=O)O'\n"
     ]
    }
   ],
   "source": [
    "%C c.common_name; c.molecular_formula; c.molecular_weight; c.smiles"
   ]
  },
  {
   "cell_type": "markdown",
   "metadata": {},
   "source": [
    "常见的模拟相关包有pymatgen和ase.   \n",
    "pymatgen是"
   ]
  },
  {
   "cell_type": "code",
   "execution_count": 119,
   "metadata": {},
   "outputs": [],
   "source": [
    "import ase"
   ]
  },
  {
   "cell_type": "markdown",
   "metadata": {},
   "source": [
    "ase: \n",
    "晶格常数的确定:  \n",
    "VAsp参数IS.或6-7个点\n",
    "ase: 状态方程\n",
    "pymatgen"
   ]
  },
  {
   "cell_type": "markdown",
   "metadata": {},
   "source": [
    "一些小函数: ggtrans, 原子径向分布, 角度分布, "
   ]
  },
  {
   "cell_type": "markdown",
   "metadata": {},
   "source": [
    "## 文献翻译系统"
   ]
  },
  {
   "cell_type": "code",
   "execution_count": null,
   "metadata": {},
   "outputs": [],
   "source": []
  },
  {
   "cell_type": "markdown",
   "metadata": {},
   "source": [
    "## 波函数图形演示"
   ]
  },
  {
   "cell_type": "markdown",
   "metadata": {},
   "source": [
    "## 拟合:ase生成结构和计算晶格参数 "
   ]
  },
  {
   "cell_type": "markdown",
   "metadata": {},
   "source": [
    "确定结构的晶格常数:  \n",
    "6-7个计算即可: \n",
    "* 一般间隔然后计算能量,  \n",
    "* 状态方程拟合\n",
    "* Vasp参数控制"
   ]
  },
  {
   "cell_type": "markdown",
   "metadata": {},
   "source": [
    "批量操作--结构"
   ]
  },
  {
   "cell_type": "markdown",
   "metadata": {},
   "source": [
    "# 机器学习"
   ]
  },
  {
   "cell_type": "markdown",
   "metadata": {},
   "source": [
    "# 或者Li-S电池"
   ]
  },
  {
   "cell_type": "markdown",
   "metadata": {},
   "source": [
    "# Li离子在 TMDs上的吸附 "
   ]
  },
  {
   "cell_type": "markdown",
   "metadata": {},
   "source": []
  },
  {
   "cell_type": "markdown",
   "metadata": {},
   "source": [
    "# 总结和展望"
   ]
  },
  {
   "cell_type": "markdown",
   "metadata": {},
   "source": []
  },
  {
   "cell_type": "code",
   "execution_count": 3,
   "metadata": {},
   "outputs": [
    {
     "name": "stdout",
     "output_type": "stream",
     "text": [
      "$$$$$$$$$$$$$$$$$$$$$$$$$$$$$$$$$$$$$$$$!kk2:end>$$$$$$$$$$$$$$$$$$$$$$$$$$$$$$$$$$$$$$$$$\n"
     ]
    }
   ],
   "source": [
    "%kk 2"
   ]
  }
 ],
 "metadata": {
  "kernelspec": {
   "display_name": "Python 3",
   "language": "python",
   "name": "python3"
  },
  "toc": {
   "base_numbering": 1,
   "nav_menu": {},
   "number_sections": true,
   "sideBar": true,
   "skip_h1_title": false,
   "title_cell": "Table of Contents",
   "title_sidebar": "Contents",
   "toc_cell": false,
   "toc_position": {
    "height": "calc(100% - 180px)",
    "left": "10px",
    "top": "150px",
    "width": "248px"
   },
   "toc_section_display": true,
   "toc_window_display": false
  },
  "varInspector": {
   "cols": {
    "lenName": 16,
    "lenType": 16,
    "lenVar": 40
   },
   "kernels_config": {
    "python": {
     "delete_cmd_postfix": "",
     "delete_cmd_prefix": "del ",
     "library": "var_list.py",
     "varRefreshCmd": "print(var_dic_list())"
    },
    "r": {
     "delete_cmd_postfix": ") ",
     "delete_cmd_prefix": "rm(",
     "library": "var_list.r",
     "varRefreshCmd": "cat(var_dic_list()) "
    }
   },
   "types_to_exclude": [
    "module",
    "function",
    "builtin_function_or_method",
    "instance",
    "_Feature"
   ],
   "window_display": false
  }
 },
 "nbformat": 4,
 "nbformat_minor": 2
}
